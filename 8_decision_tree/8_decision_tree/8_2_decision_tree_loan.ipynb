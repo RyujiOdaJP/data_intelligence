{
 "cells": [
  {
   "cell_type": "markdown",
   "metadata": {},
   "source": [
    "<img src=\"slides/6.png\">"
   ]
  },
  {
   "cell_type": "markdown",
   "metadata": {},
   "source": [
    "## ローンデータセット\n",
    "\n",
    "ローンのデータセットを決定木により分析。"
   ]
  },
  {
   "cell_type": "code",
   "execution_count": null,
   "metadata": {},
   "outputs": [],
   "source": [
    "import pandas as pd\n",
    "import numpy as np\n",
    "loan = pd.read_csv('data/loan_data.csv')\n",
    "\n",
    "# 使用しない列を削除\n",
    "df = loan.drop(['Unnamed: 0', 'status', 'loan_amnt', 'term', 'annual_inc', 'dti',\n",
    "                  'revol_bal', 'revol_util', 'purpose', 'home_ownership',\n",
    "                  'delinq_2yrs_zero', 'pub_rec_zero', 'open_acc', 'grade'], axis=1)\n",
    "# 確認\n",
    "df"
   ]
  },
  {
   "cell_type": "markdown",
   "metadata": {},
   "source": [
    "### ダミー変数化\n",
    "\n",
    "カテゴリカル変数について pos_label で正例ラベルを指定せずに、正確度、適合度、再現率を計算できるようにするため、目的変数もダミー変数化\n",
    "\n",
    "- ダミー変数化すると、決定木の描画時に文字列のクラスラベルを指定する必要が出てくる"
   ]
  },
  {
   "cell_type": "code",
   "execution_count": null,
   "metadata": {},
   "outputs": [],
   "source": [
    "# ダミー変数化\n",
    "df['outcome'] = df['outcome'].map(lambda x: 1 if x == 'default' else 0)\n",
    "df = pd.get_dummies(data=df)\n",
    "# 確認\n",
    "# - 0行: default -> 1\n",
    "# - 45341行: paid off -> 0\n",
    "df.iloc[[0, 45341]]"
   ]
  },
  {
   "cell_type": "markdown",
   "metadata": {},
   "source": [
    "### 決定木の作成\n",
    "\n",
    "決定木の深さは max_depth=2"
   ]
  },
  {
   "cell_type": "code",
   "execution_count": null,
   "metadata": {},
   "outputs": [],
   "source": [
    "# 説明変数、目的変数を作成\n",
    "Y_label = 'outcome'\n",
    "X = df.drop([Y_label], axis=1)\n",
    "Y = df[Y_label]\n",
    "\n",
    "# 決定木を作成\n",
    "from sklearn.tree import DecisionTreeClassifier\n",
    "model = DecisionTreeClassifier(criterion='entropy', max_depth=2)\n",
    "model.fit(X, Y)"
   ]
  },
  {
   "cell_type": "markdown",
   "metadata": {},
   "source": [
    "### 精度の計算・表示\n",
    "\n",
    "max_depth=2 のため、精度は高くない\n",
    "\n",
    "- ダミー変数化したため pos_label で正例ラベルの指定が不要"
   ]
  },
  {
   "cell_type": "code",
   "execution_count": null,
   "metadata": {},
   "outputs": [],
   "source": [
    "# 正確度、適合度、再現率（感度）、AUCの算出\n",
    "from sklearn.metrics import accuracy_score, precision_score, recall_score, roc_curve, auc\n",
    "Y_predict = model.predict(X)\n",
    "Y_proba = model.predict_proba(X)\n",
    "fpr, tpr, thresholds = roc_curve(Y, Y_proba[:, 1])\n",
    "print('正確度={:.3f}, 適合度={:.3f}, 再現率={:.3f}, AUC={:.3f}'.format(\n",
    "    accuracy_score(Y, Y_predict), precision_score(Y, Y_predict),\n",
    "    recall_score(Y, Y_predict), auc(fpr, tpr)))"
   ]
  },
  {
   "cell_type": "markdown",
   "metadata": {},
   "source": [
    "### 決定木の描画"
   ]
  },
  {
   "cell_type": "code",
   "execution_count": null,
   "metadata": {},
   "outputs": [],
   "source": [
    "model.classes_"
   ]
  },
  {
   "cell_type": "markdown",
   "metadata": {},
   "source": [
    "ダミー変数化により model.classes_ が文字列ではなくなり、数値となったため```class_names=model.classes_```での分類クラス名の設定がエラーになるため、分類クラス名の文字列を指定する必要"
   ]
  },
  {
   "cell_type": "code",
   "execution_count": null,
   "metadata": {},
   "outputs": [],
   "source": [
    "# 作成した決定木の描画\n",
    "import matplotlib.pyplot as plt\n",
    "from sklearn.tree import plot_tree\n",
    "plt.figure(figsize=(12, 10))\n",
    "# plot_tree(model, feature_names=X.columns, class_names=model.classes_, filled=True)\n",
    "# - class_names=model.classes_ のままだとエラーになるため、文字列を指定\n",
    "plot_tree(model, feature_names=X.columns, class_names=['paid off', 'default'], filled=True)\n",
    "plt.show()"
   ]
  },
  {
   "cell_type": "markdown",
   "metadata": {},
   "source": [
    "### 情報利得の総和\n",
    "\n",
    "説明変数の重要度"
   ]
  },
  {
   "cell_type": "code",
   "execution_count": null,
   "metadata": {},
   "outputs": [],
   "source": [
    "# 情報利得の総和\n",
    "pd.DataFrame(model.feature_importances_, index=X.columns, columns=['gain']).\\\n",
    "    sort_values('gain', ascending=False)"
   ]
  },
  {
   "cell_type": "markdown",
   "metadata": {},
   "source": [
    "<img src='slides/8_25.png'>"
   ]
  },
  {
   "cell_type": "code",
   "execution_count": null,
   "metadata": {},
   "outputs": [],
   "source": [
    "# borrower_score, payment_inc_ratio の散布図\n",
    "import seaborn as sns\n",
    "import matplotlib.pyplot as plt\n",
    "\n",
    "sns.scatterplot(x=df.borrower_score, y=df.payment_inc_ratio, hue=df.outcome)\n",
    "plt.plot([0.475, 0.475], [0, df.payment_inc_ratio.max()], color='tomato')\n",
    "plt.plot([0, 0.475], [10.12, 10.12], color='tomato')\n",
    "plt.plot([0.475, 1.0], [7.744, 7.744], color='tomato')"
   ]
  },
  {
   "cell_type": "markdown",
   "metadata": {},
   "source": [
    "全般的に outcome=0 (paid off) の青のプロットが目立つ、右下には outcome=1 (default) が無い（paid off の半分くらいは default がある）、など、決定木の結果 (value) とは違う見え方になっている。データ数が多すぎて、重なり多すぎる可能性がある\n",
    "\n",
    "データをランダムに間引き、データ数を減らした散布図を描画"
   ]
  },
  {
   "cell_type": "code",
   "execution_count": null,
   "metadata": {},
   "outputs": [],
   "source": [
    "# borrower_score, payment_inc_ratio の散布図\n",
    "import seaborn as sns\n",
    "import matplotlib.pyplot as plt\n",
    "\n",
    "# 0.5% をランダム抽出\n",
    "df_s = df.sample(frac=0.005)\n",
    "\n",
    "sns.scatterplot(x=df_s.borrower_score, y=df_s.payment_inc_ratio, hue=df_s.outcome)\n",
    "plt.plot([0.475, 0.475], [0, df_s.payment_inc_ratio.max()], color='tomato')\n",
    "plt.plot([0, 0.475], [10.12, 10.12], color='tomato')\n",
    "plt.plot([0.475, 1.0], [7.744, 7.744], color='tomato')"
   ]
  },
  {
   "cell_type": "markdown",
   "metadata": {},
   "source": [
    "<img src=\"slides/7.png\">"
   ]
  },
  {
   "cell_type": "markdown",
   "metadata": {},
   "source": [
    "### 決定木の深さの変更\n",
    "\n",
    "決定木の深さを max_depth=6 として決定木を作成してみる。"
   ]
  },
  {
   "cell_type": "code",
   "execution_count": null,
   "metadata": {},
   "outputs": [],
   "source": [
    "# 決定木を作成\n",
    "model = DecisionTreeClassifier(criterion='entropy', max_depth=6)\n",
    "model.fit(X, Y)\n",
    "\n",
    "# 正確度、適合度、再現率（感度）、AUCの算出\n",
    "Y_predict = model.predict(X)\n",
    "Y_proba = model.predict_proba(X)\n",
    "fpr, tpr, thresholds = roc_curve(Y, Y_proba[:, 1])\n",
    "print('正確度={:.3f}, 適合度={:.3f}, 再現率={:.3f}, AUC={:.3f}'.format(\n",
    "    accuracy_score(Y, Y_predict), precision_score(Y, Y_predict),\n",
    "    recall_score(Y, Y_predict), auc(fpr, tpr)))\n",
    "\n",
    "# 決定木の描画\n",
    "plt.figure(figsize=(12, 10))\n",
    "plot_tree(model, feature_names=X.columns, class_names=['paid off', 'default'], filled=True)\n",
    "plt.show()"
   ]
  },
  {
   "cell_type": "markdown",
   "metadata": {},
   "source": [
    "max_depth=6 の決定木は複雑だが、精度はあまり上がらない。"
   ]
  }
 ],
 "metadata": {
  "kernelspec": {
   "display_name": "Python 3 (ipykernel)",
   "language": "python",
   "name": "python3"
  },
  "language_info": {
   "codemirror_mode": {
    "name": "ipython",
    "version": 3
   },
   "file_extension": ".py",
   "mimetype": "text/x-python",
   "name": "python",
   "nbconvert_exporter": "python",
   "pygments_lexer": "ipython3",
   "version": "3.8.11"
  }
 },
 "nbformat": 4,
 "nbformat_minor": 4
}
