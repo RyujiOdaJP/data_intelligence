{
 "cells": [
  {
   "cell_type": "markdown",
   "metadata": {},
   "source": [
    "<img src=\"slides/8_22.png\">"
   ]
  },
  {
   "cell_type": "code",
   "execution_count": null,
   "metadata": {},
   "outputs": [],
   "source": [
    "import pandas as pd\n",
    "import seaborn as sns\n",
    "iris = sns.load_dataset('iris')\n",
    "\n",
    "# species が setosa のデータを除去\n",
    "df = iris.query('species!=\"setosa\"')\n",
    "\n",
    "# データセットの確認\n",
    "df.iloc[[0, 50]]"
   ]
  },
  {
   "cell_type": "markdown",
   "metadata": {},
   "source": [
    "## 決定木による species の分類\n",
    "\n",
    "- sepal_length, sepal_width, petal_length, petal_width を説明変数として species を分類する決定木を作成\n",
    "- 目的変数はダミー変数化されていないことに注意"
   ]
  },
  {
   "cell_type": "code",
   "execution_count": null,
   "metadata": {},
   "outputs": [],
   "source": [
    "# 説明変数、目的変数の作成\n",
    "X = df.drop(['species'], axis=1)\n",
    "Y = df.species\n",
    "\n",
    "# 決定木を作成、正確度を表示\n",
    "from sklearn.tree import DecisionTreeClassifier\n",
    "model = DecisionTreeClassifier(criterion='entropy')\n",
    "model.fit(X, Y)\n",
    "model.score(X, Y)"
   ]
  },
  {
   "cell_type": "markdown",
   "metadata": {},
   "source": [
    "## 決定木の描画\n",
    "\n",
    " ```plot_tree()``` を使用すると Jupyter Notebook 中に描画できる\n",
    " \n",
    "- ```plt.figure(figsize=(12, 10))``` 図の大きさを調整\n",
    "- ```feature_names=X.columns``` 説明変数名の設定\n",
    "- ```class_names=model.classes_``` 分類クラス名の設定\n",
    "- ```filled=True``` ノードの色分け\n",
    "\n",
    "```plot_tree()``` で描画する場合、True, False は表示されない\n",
    "- 左が True, 右が False となるのが一般的\n",
    "\n",
    "決定木が大きくなると ```plot_tree()``` での描画はうまくいかない（止まらなくなる）場合がある\n",
    "- いつまでたっても描画されない場合は、メニューの Kernel > Interrupt で停止させる\n",
    "- Graphviz ```export_graphviz()``` を試す\n",
    "\n",
    "最後に ```plt.show()``` を入れてあるのは ```plot_tree()``` の戻り値（決定木の内容）の表示を抑制するため"
   ]
  },
  {
   "cell_type": "code",
   "execution_count": null,
   "metadata": {},
   "outputs": [],
   "source": [
    "# 作成した決定木の描画\n",
    "import matplotlib.pyplot as plt\n",
    "from sklearn.tree import plot_tree\n",
    "# 描画領域の設定（大きくする）\n",
    "plt.figure(figsize=(12, 10))\n",
    "# 決定木\n",
    "plot_tree(model, feature_names=X.columns, class_names=model.classes_, filled=True)\n",
    "plt.show()"
   ]
  },
  {
   "cell_type": "markdown",
   "metadata": {},
   "source": [
    "## 情報利得の総和\n",
    "\n",
    "情報利得の総和は ```feature_importances_``` から取得できる\n",
    "- この総和は正規化 (0~1) されていることに注意"
   ]
  },
  {
   "cell_type": "code",
   "execution_count": null,
   "metadata": {},
   "outputs": [],
   "source": [
    "model.feature_importances_"
   ]
  },
  {
   "cell_type": "code",
   "execution_count": null,
   "metadata": {},
   "outputs": [],
   "source": [
    "sum(model.feature_importances_)"
   ]
  },
  {
   "cell_type": "markdown",
   "metadata": {},
   "source": [
    "### 情報利得の総和：表形式で表示（縦）\n",
    "\n",
    "- pandas DataFrame に変換、表示\n",
    "- 4行1列の形式になる"
   ]
  },
  {
   "cell_type": "code",
   "execution_count": null,
   "metadata": {},
   "outputs": [],
   "source": [
    "pd.DataFrame(model.feature_importances_, index=X.columns, columns=['gain'])"
   ]
  },
  {
   "cell_type": "markdown",
   "metadata": {},
   "source": [
    "### 情報利得の総和：表形式で表示（横）\n",
    "\n",
    "- ```reshape()``` で1行4列に変換してから DataFrame に変換、表示"
   ]
  },
  {
   "cell_type": "code",
   "execution_count": null,
   "metadata": {},
   "outputs": [],
   "source": [
    "pd.DataFrame(model.feature_importances_.reshape(1, 4), columns=X.columns, index=['gain'])"
   ]
  },
  {
   "cell_type": "markdown",
   "metadata": {},
   "source": [
    "## 散布図\n",
    "\n",
    "分割条件を重ねて表示\n",
    "- petal_width <= 1.65, petal_length <= 4.95 ... versicolor 47\n",
    "- petal_width > 1.75, petal_length > 4.85 ... virginica 43\n",
    "\n",
    "種の色が決定木と逆なことに注意"
   ]
  },
  {
   "cell_type": "code",
   "execution_count": null,
   "metadata": {},
   "outputs": [],
   "source": [
    "sns.scatterplot(x=df.petal_width, y=df.petal_length, hue=df.species)\n",
    "\n",
    "petal_length_min = df.petal_length.min()\n",
    "petal_length_max = df.petal_length.max()\n",
    "petal_width_min = df.petal_width.min()\n",
    "petal_width_max = df.petal_width.max()\n",
    "\n",
    "# １．根ノード：petal_width <= 1.75\n",
    "x = 1.75\n",
    "plt.plot([x, x], [petal_length_min, petal_length_max], color='tomato')\n",
    "\n",
    "# ２．１の左下：petal_length <= 4.95\n",
    "y = 4.95\n",
    "plt.plot([petal_width_min, x], [y, y], color='tomato')\n",
    "\n",
    "# ３．２の左下：petal_width <= 1.65\n",
    "x = 1.65\n",
    "plt.plot([x, x], [petal_length_min, y], color='tomato')\n",
    "\n",
    "# ４．１の右下：petal_length > 4.85\n",
    "x = 1.75\n",
    "y = 4.85\n",
    "plt.plot([x, petal_width_max], [y, y], color='tomato')"
   ]
  },
  {
   "cell_type": "markdown",
   "metadata": {},
   "source": [
    "大多数（約9割）が右上と左下の領域に入る。\n",
    "- virginica, versicolor という対象を見たい時には、右上と左下の領域の条件で絞り込むと、大部分が入る。\n",
    "\n",
    "右下の領域は virginica だけに見えるが、決定木を見ると、両方の種があり、重なって表示されていることがわかる。\n",
    "- 右下：petal_length <= 4.85 value=[1, 2]"
   ]
  },
  {
   "cell_type": "markdown",
   "metadata": {},
   "source": [
    "### 精度の計算・表示"
   ]
  },
  {
   "cell_type": "code",
   "execution_count": null,
   "metadata": {},
   "outputs": [],
   "source": [
    "# 正確度、適合度、再現率（感度）、AUCの算出\n",
    "from sklearn.metrics import accuracy_score, precision_score, recall_score, roc_curve, auc\n",
    "Y_predict = model.predict(X)\n",
    "Y_proba = model.predict_proba(X)\n",
    "fpr, tpr, thresholds = roc_curve(Y, Y_proba[:, 1])\n",
    "print('正確度={:.3f}, 適合度={:.3f}, 再現率={:.3f}, AUC={:.3f}'.format(\n",
    "    accuracy_score(Y, Y_predict), precision_score(Y, Y_predict),\n",
    "    recall_score(Y, Y_predict), auc(fpr, tpr)))\n",
    "# エラーが出る"
   ]
  },
  {
   "cell_type": "markdown",
   "metadata": {},
   "source": [
    "roc_curve で、ダミー変数化するか、pos_label で正例ラベルを指定するように、エラーがでる。<br>\n",
    "precision_score (適合度), recall_score (感度) でも pos_label が必要。"
   ]
  },
  {
   "cell_type": "code",
   "execution_count": null,
   "metadata": {},
   "outputs": [],
   "source": [
    "fpr, tpr, thresholds = roc_curve(Y, Y_proba[:, 1], pos_label='virginica')\n",
    "print('正確度={:.3f}, 適合度={:.3f}, 再現率={:.3f}, AUC={:.3f}'.format(\n",
    "    accuracy_score(Y, Y_predict),\n",
    "    precision_score(Y, Y_predict, pos_label='virginica'),\n",
    "    recall_score(Y, Y_predict, pos_label='virginica'),\n",
    "    auc(fpr, tpr)))"
   ]
  },
  {
   "cell_type": "markdown",
   "metadata": {},
   "source": [
    "<img src='slides/6_27.png'>"
   ]
  }
 ],
 "metadata": {
  "kernelspec": {
   "display_name": "Python 3 (ipykernel)",
   "language": "python",
   "name": "python3"
  },
  "language_info": {
   "codemirror_mode": {
    "name": "ipython",
    "version": 3
   },
   "file_extension": ".py",
   "mimetype": "text/x-python",
   "name": "python",
   "nbconvert_exporter": "python",
   "pygments_lexer": "ipython3",
   "version": "3.8.11"
  }
 },
 "nbformat": 4,
 "nbformat_minor": 4
}
