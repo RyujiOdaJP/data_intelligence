{
 "cells": [
  {
   "cell_type": "markdown",
   "metadata": {},
   "source": [
    "## ロジスティック回帰\n",
    "\n",
    "- 目的変数が（基本的には）2値の質的データ\n",
    "- 回帰という名前がついているが、分類を行う"
   ]
  },
  {
   "cell_type": "code",
   "execution_count": null,
   "metadata": {},
   "outputs": [],
   "source": [
    "import pandas as pd\n",
    "import seaborn as sns\n",
    "\n",
    "# Irisデータセットの読み込み\n",
    "iris = sns.load_dataset('iris')"
   ]
  },
  {
   "cell_type": "code",
   "execution_count": null,
   "metadata": {},
   "outputs": [],
   "source": [
    "# 2値データへの分類のため、species から setosa を除外\n",
    "# - versicolor, virginica の2種だけにした df を作成\n",
    "df = iris.query('species!=\"setosa\"')\n",
    "\n",
    "# versicolor, virginica だけになっていることを確認\n",
    "df"
   ]
  },
  {
   "cell_type": "code",
   "execution_count": null,
   "metadata": {},
   "outputs": [],
   "source": [
    "# 0, 50 行目だけを表示して確認\n",
    "# - 確認のため一部だけを表示\n",
    "df.iloc[[0, 50]]"
   ]
  },
  {
   "cell_type": "code",
   "execution_count": null,
   "metadata": {},
   "outputs": [],
   "source": [
    "# 散布図でデータの重なりを見る\n",
    "sns.pairplot(df, hue='species')"
   ]
  },
  {
   "cell_type": "markdown",
   "metadata": {},
   "source": [
    "上記の散布図で versicolor, virginica の重なり具合を見ると：\n",
    "\n",
    "- sepal_width は、かなりの重なりがある\n",
    "- petal_width は、重なりが少なめである"
   ]
  },
  {
   "cell_type": "code",
   "execution_count": null,
   "metadata": {},
   "outputs": [],
   "source": [
    "# speciesを 0, 1 にするためにダミー変数化\n",
    "# - drop_first=True を指定し、1列減らす\n",
    "#   ここでは、speciesは2種のため、1列のみになる\n",
    "df = pd.get_dummies(data=df, drop_first=True)\n",
    "\n",
    "# 確認のため 0, 50 行目を表示\n",
    "df.iloc[[0, 50]]"
   ]
  },
  {
   "cell_type": "markdown",
   "metadata": {},
   "source": [
    "<hr>\n",
    "<img src='slides/6_20.png'>\n",
    "<hr>\n",
    "\n",
    "### 一番重なりが少なそうな petal_width を説明変数としてロジスティック回帰モデルを作成する"
   ]
  },
  {
   "cell_type": "code",
   "execution_count": null,
   "metadata": {},
   "outputs": [],
   "source": [
    "from sklearn.linear_model import LogisticRegression\n",
    "\n",
    "X = df[['petal_width']]\n",
    "Y = df.species_virginica\n",
    "\n",
    "# ロジスティック回帰モデルを作成、正確度を表示\n",
    "# - C: 正則化のパラメータ（sklearnのロジスティック回帰はL2正則化がデフォルト）\n",
    "#      Cを大きくして正則化の影響を小さくする\n",
    "model = LogisticRegression(C=10000.0)\n",
    "\n",
    "# 学習\n",
    "model.fit(X, Y)\n",
    "\n",
    "# 評価（正確度: Accuracy）\n",
    "model.score(X, Y)"
   ]
  },
  {
   "cell_type": "code",
   "execution_count": null,
   "metadata": {},
   "outputs": [],
   "source": [
    "# 散布図にシグモイド曲線を重ねて表示する\n",
    "import matplotlib.pyplot as plt\n",
    "import numpy as np\n",
    "\n",
    "# 標準シグモイド関数の定義\n",
    "def sigmoid(x, b0, b1):\n",
    "    return 1/(1 + np.exp(-(b0 + b1 * x)))\n",
    "\n",
    "# 散布図\n",
    "sns.scatterplot(x=X.iloc[:,0], y=Y)\n",
    "\n",
    "# 学習したモデルからパラメータの取得\n",
    "b0 = model.intercept_[0]\n",
    "b1 = model.coef_[0][0]\n",
    "\n",
    "# y=0.5となる分割線\n",
    "_x = -b0 / b1\n",
    "plt.plot([_x, _x], [0, 1], color='lightblue')\n",
    "print('Boundary:', _x)\n",
    "\n",
    "# シグモイド曲線\n",
    "_max = X.iloc[:,0].max()\n",
    "_min = X.iloc[:,0].min()\n",
    "_step = (_max - _min) / 100\n",
    "_X = np.arange(_min, _max + _step, _step)\n",
    "plt.plot(_X, sigmoid(_X, b0, b1), color='brown')"
   ]
  },
  {
   "cell_type": "markdown",
   "metadata": {},
   "source": [
    "<hr>\n",
    "<img src='slides/6_27.png'>\n",
    "<hr>"
   ]
  },
  {
   "cell_type": "code",
   "execution_count": null,
   "metadata": {
    "scrolled": true
   },
   "outputs": [],
   "source": [
    "# 教師データについてモデルからの予測値を計算\n",
    "Y_predict = model.predict(X)\n",
    "# 混合行列\n",
    "# - 1行目1列：実際が0、予測が0 (真陰性：TN)\n",
    "# - 1行目2列：実際が0、予測が1 (偽陽性：FP)\n",
    "# - 2行目1列：実際が1、予測が0 (偽陰性：FN)\n",
    "# - 2行目2列：実際が1、予測が1 (真陽性：TP)\n",
    "from sklearn.metrics import confusion_matrix\n",
    "matrix = confusion_matrix(Y, Y_predict)\n",
    "matrix"
   ]
  },
  {
   "cell_type": "code",
   "execution_count": null,
   "metadata": {},
   "outputs": [],
   "source": [
    "# 散布図では重なりがありデータ数が見えないので確認\n",
    "# - virginica のうち petal_width < 1.63 のデータ数\n",
    "df.query('species_virginica==1').query('petal_width<1.63').petal_width.value_counts()"
   ]
  },
  {
   "cell_type": "code",
   "execution_count": null,
   "metadata": {},
   "outputs": [],
   "source": [
    "# 正確度、適合度、再現率（感度）、特異度\n",
    "# - 特異度の関数は sklearn.metrics には無い\n",
    "from sklearn.metrics import accuracy_score, precision_score, recall_score\n",
    "\n",
    "# 特異度 = TN / (FP + TN)\n",
    "specificity = matrix[0, 0] / (matrix[0, 1] + matrix[0, 0])\n",
    "\n",
    "print('正確度: {:.3f}, 適合度: {:.3f}, 再現率: {:.3f}, 特異度: {:.3f}'.format(\n",
    "    accuracy_score(Y, Y_predict), precision_score(Y, Y_predict),\n",
    "    recall_score(Y, Y_predict), specificity))"
   ]
  }
 ],
 "metadata": {
  "kernelspec": {
   "display_name": "Python 3 (ipykernel)",
   "language": "python",
   "name": "python3"
  },
  "language_info": {
   "codemirror_mode": {
    "name": "ipython",
    "version": 3
   },
   "file_extension": ".py",
   "mimetype": "text/x-python",
   "name": "python",
   "nbconvert_exporter": "python",
   "pygments_lexer": "ipython3",
   "version": "3.8.11"
  }
 },
 "nbformat": 4,
 "nbformat_minor": 4
}
