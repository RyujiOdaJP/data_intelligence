{
 "cells": [
  {
   "cell_type": "markdown",
   "metadata": {},
   "source": [
    "## 定期預金の契約についてのデータセット\n",
    "\n",
    "データの取得\n",
    "- https://archive.ics.uci.edu/ml/machine-learning-databases/00222/bank.zip<br>\n",
    "bank.csv を使用\n",
    "\n",
    "データの説明\n",
    "- https://archive.ics.uci.edu/ml/datasets/bank+marketing\n",
    "\n",
    "内容を確認\n",
    "- \"age\";\"job\";\"marital\";\"education\";\"default\";\"balance\";\"housing\";\"loan\";\"contact\";\"day\";\"month\";\"duration\";\"campaign\";\"pdays\";\"previous\";\"poutcome\";\"y\"<br>\n",
    "30;\"unemployed\";\"married\";\"primary\";\"no\";1787;\"no\";\"no\";\"cellular\";19;\"oct\";79;1;-1;0;\"unknown\";\"no\"\n",
    "- \"y\" 定期預金を預けてくれたかどうか"
   ]
  },
  {
   "cell_type": "markdown",
   "metadata": {},
   "source": [
    "<hr>\n",
    "\n",
    "## クラスタリングによる顧客の分析\n",
    "\n",
    "定期預金を契約してくれた顧客層を把握するために分析する。\n",
    "\n",
    "変数としては以下を用いる：\n",
    "- age: 年齢\n",
    "- balance: 貯金残高\n",
    "- campaign: 勧誘のコンタクト回数\n",
    "- previous: campaign以前のコンタクト回数"
   ]
  },
  {
   "cell_type": "code",
   "execution_count": null,
   "metadata": {},
   "outputs": [],
   "source": [
    "import pandas as pd\n",
    "import numpy as np\n",
    "import seaborn as sns\n",
    "import matplotlib.pyplot as plt\n",
    "from matplotlib import rcParams\n",
    "from sklearn.preprocessing import StandardScaler\n",
    "from sklearn.cluster import KMeans\n",
    "\n",
    "# matplotlib: 日本語フォントの設定（MacOS）\n",
    "rcParams['font.family'] = 'sans-serif'\n",
    "rcParams['font.sans-serif'] = ['Hiragino Maru Gothic Pro', 'Yu Gothic', 'Meirio', \n",
    "                               'Takao', 'IPAexGothic', 'IPAPGothic', 'Noto Sans CJK JP']\n",
    "\n",
    "bank = pd.read_csv('data/bank.csv', sep=';')\n",
    "# 使用する列だけ取り出す\n",
    "df = bank[['age', 'balance', 'campaign', 'previous']]\n",
    "# 列ごとの欠損値の数\n",
    "df.isna().sum()"
   ]
  },
  {
   "cell_type": "code",
   "execution_count": null,
   "metadata": {},
   "outputs": [],
   "source": [
    "df.head(2)"
   ]
  },
  {
   "cell_type": "markdown",
   "metadata": {},
   "source": [
    "各列のデータは値が大きく異なるため、データの標準化を行う。\n",
    "- 分布を標準偏差をもとに調整\n",
    "- 平均値が0、標準偏差が1となるように変換"
   ]
  },
  {
   "cell_type": "code",
   "execution_count": null,
   "metadata": {},
   "outputs": [],
   "source": [
    "# データの標準化\n",
    "sc = StandardScaler()\n",
    "sc.fit(df)\n",
    "X = pd.DataFrame(sc.transform(df), index=df.index, columns=df.columns)\n",
    "\n",
    "# 出力の表記を設定\n",
    "# - pd.options.display.float_format: 小数点以下の表示方法を指定\n",
    "pd.options.display.float_format = '{:.2f}'.format\n",
    "\n",
    "# 代表値を確認\n",
    "X.describe()"
   ]
  },
  {
   "cell_type": "markdown",
   "metadata": {},
   "source": [
    "標準化により 平均 0, 標準偏差 1 にしたが、balance, campaign, previous の max の値が大きい。\n",
    "\n",
    "- min, max の範囲がある程度揃っていないと、以下のヒートマップを描画時に、色が潰れてしまう。\n",
    "\n",
    "## ヒートマップ"
   ]
  },
  {
   "cell_type": "code",
   "execution_count": null,
   "metadata": {},
   "outputs": [],
   "source": [
    "# ヒートマップ付きの樹形図を作成\n",
    "# - vmin, vmax: 色との対応の範囲を制限\n",
    "#   - balance, campaign, previous の最大値が大きく、色が潰れてしまう\n",
    "#     vmin=-2, vmax=2, と範囲を制限することで、バランスよく色が描画される\n",
    "#   - オプションを指定しない場合と比較\n",
    "sns.clustermap(X, method='ward', metric='euclidean', vmin=-2, vmax=2,\n",
    "               figsize=(14, 18), col_cluster=False)"
   ]
  },
  {
   "cell_type": "markdown",
   "metadata": {},
   "source": [
    "### クラスタ数\n",
    "\n",
    "枝が一番長いところのクラスタ数は 5\n",
    "\n",
    "### クラスタの特徴\n",
    "\n",
    "（色が薄いと値が大きい）\n",
    "\n",
    "- age: 年齢が高めの層がクラスタを形成\n",
    "- balance: 貯金残高が高い層がクラスタを形成\n",
    "- campaign: 勧誘のコンタクト回数が多い層がクラスタを形成\n",
    "- previous: これまでののコンタクト回数が多い層がクラスタを形成\n",
    "- 上記にあてはまらない層がクラスタを形成"
   ]
  },
  {
   "cell_type": "markdown",
   "metadata": {},
   "source": [
    "## クラスタ数の推定\n",
    "\n",
    "- エルボー法\n",
    "- シルエット分析"
   ]
  },
  {
   "cell_type": "code",
   "execution_count": null,
   "metadata": {},
   "outputs": [],
   "source": [
    "# エルボー法\n",
    "# https://github.com/rasbt/python-machine-learning-book-2nd-edition/blob/master/code/ch11/ch11.py\n",
    "distortions = []\n",
    "x_range = range(2, 9)\n",
    "for n in x_range:\n",
    "    model = KMeans(n_clusters=n, random_state=0)\n",
    "    model.fit(X)\n",
    "    distortions.append(model.inertia_)\n",
    "\n",
    "sns.lineplot(x=x_range, y=distortions, marker='o')\n",
    "plt.xlabel('クラスタ数')\n",
    "plt.show()"
   ]
  },
  {
   "cell_type": "code",
   "execution_count": null,
   "metadata": {},
   "outputs": [],
   "source": [
    "# シルエット分析\n",
    "# https://github.com/rasbt/python-machine-learning-book-2nd-edition/blob/master/code/ch11/ch11.py\n",
    "from sklearn.metrics import silhouette_samples\n",
    "from matplotlib import cm\n",
    "\n",
    "def silhouette(n):\n",
    "    model = KMeans(n_clusters=n, random_state=0)\n",
    "    model.fit(X)\n",
    "    cluster_labels = set(model.labels_)\n",
    "    n_clusters = len(cluster_labels)\n",
    "    silhouette_vals = silhouette_samples(X, model.labels_, metric='euclidean')\n",
    "    y_lower, y_upper = 0, 0\n",
    "    yticks = []\n",
    "    for i, c in enumerate(cluster_labels):\n",
    "        c_silhouette_vals = silhouette_vals[model.labels_ == c]\n",
    "        c_silhouette_vals.sort()\n",
    "        y_upper += len(c_silhouette_vals)\n",
    "        color = cm.jet(float(i) / n_clusters)\n",
    "        plt.barh(range(y_lower, y_upper), c_silhouette_vals, height=1.0,\n",
    "                 edgecolor='none', color=color)\n",
    "        yticks.append((y_lower + y_upper) / 2.)\n",
    "        y_lower += len(c_silhouette_vals)\n",
    "\n",
    "    silhouette_avg = np.mean(silhouette_vals)\n",
    "    plt.axvline(silhouette_avg, color=\"red\", linestyle=\"--\")\n",
    "    plt.show()\n",
    "    print('{} Clusters: Average silhouette width: {:.3f}'.format(n, silhouette_avg))\n",
    "\n",
    "for n in range(4, 7):\n",
    "    silhouette(n)"
   ]
  },
  {
   "cell_type": "markdown",
   "metadata": {},
   "source": [
    "### クラスタ数の推定結果\n",
    "\n",
    "- エルボー法：5 で明確に折れ曲がっている\n",
    "- シルエット分析：5, 6 の平均シルエット係数が大きい\n",
    "\n",
    "ヒートマップの結果と合わせると、クラスタ数は5が適当と考えられる。"
   ]
  },
  {
   "cell_type": "markdown",
   "metadata": {},
   "source": [
    "<hr>\n",
    "\n",
    "## クラスタリング結果の解釈\n",
    "\n",
    "クラスタ数は5とする。\n",
    "\n",
    "- KMeans に ramdom_state=0 を渡しても、クラスタのラベル番号の付け方までは同じにならないようで、ここで表示する結果と全く同じにならない場合があります。"
   ]
  },
  {
   "cell_type": "code",
   "execution_count": null,
   "metadata": {},
   "outputs": [],
   "source": [
    "# クラスタ番号の列を追加\n",
    "model = KMeans(n_clusters=5, random_state=0)\n",
    "model.fit(X)\n",
    "\n",
    "# KMeansで分割されたクラスタ番号を列データとして追加\n",
    "# - ヒストグラム等でクラスタごとに描画、比較できるようにする\n",
    "bank['cluster'] = model.labels_\n",
    "\n",
    "# 確認\n",
    "bank.head(2)"
   ]
  },
  {
   "cell_type": "markdown",
   "metadata": {},
   "source": [
    "### クラスタ別の年齢層\n",
    "\n",
    "クラスタごとに年齢層に違いがあるかを見てみる"
   ]
  },
  {
   "cell_type": "code",
   "execution_count": null,
   "metadata": {},
   "outputs": [],
   "source": [
    "sns.histplot(data=bank, x='age', hue='cluster')"
   ]
  },
  {
   "cell_type": "markdown",
   "metadata": {},
   "source": [
    "- 40台前半まで\n",
    "- 40台後半以上\n",
    "\n",
    "の2つの大きなクラスタが形成されている。\n",
    "\n",
    "その他、3つのクラスタは小さく、ヒストグラムでは潰れてしまっている。\n",
    "\n",
    "### クラスタ別の年齢層\n",
    "\n",
    "カテゴリーごとの度数を集計するクロス集計を用いて、クラスタ別の年齢層を比較する。クラスタごとに、度数を比較することで、傾向の違いが見える（場合がある）。"
   ]
  },
  {
   "cell_type": "code",
   "execution_count": null,
   "metadata": {},
   "outputs": [],
   "source": [
    "# 年齢の区間\n",
    "bins = [0, 20, 25, 30, 35, 40, 45, 50, 55, 60, 65, 100]\n",
    "# 年齢を各区間に振り分け\n",
    "# - right=False: 右側が開いた区間 [0, 20), ..., [65, 100)\n",
    "age_freq = pd.cut(bank.age, bins, right=False)\n",
    "# クラスタ番号を追加\n",
    "df_age = pd.concat([bank.cluster, age_freq], axis=1)\n",
    "# クラスタ番号と年齢別にクロス集計\n",
    "df_age_cross = pd.crosstab(df_age.cluster, df_age.age)\n",
    "# 確認\n",
    "df_age_cross"
   ]
  },
  {
   "cell_type": "markdown",
   "metadata": {},
   "source": [
    "クロス集計からは、3つの小さいクラスタは、30~45歳が多い傾向があるように見える。\n",
    "\n",
    "クラスタごとの度数の割合をヒートマップで可視化することで、クラスタごとの傾向を並べて比較できる。"
   ]
  },
  {
   "cell_type": "code",
   "execution_count": null,
   "metadata": {},
   "outputs": [],
   "source": [
    "sns.heatmap(df_age_cross.apply(lambda x: x/x.sum(), axis=1), cmap='Blues')"
   ]
  },
  {
   "cell_type": "markdown",
   "metadata": {},
   "source": [
    "### クラスタ別の職業\n",
    "\n",
    "クロス集計を用いて、クラスタ別の職業を比較する。"
   ]
  },
  {
   "cell_type": "code",
   "execution_count": null,
   "metadata": {},
   "outputs": [],
   "source": [
    "# クラスタ番号を追加\n",
    "df_job = pd.concat([bank.cluster, bank.job], axis=1)\n",
    "# クラスタ番号と職業別にクロス集計\n",
    "df_job_cross = pd.crosstab(df_job.cluster, df_job.job)\n",
    "# 確認\n",
    "df_job_cross"
   ]
  },
  {
   "cell_type": "markdown",
   "metadata": {},
   "source": [
    "ヒートマップで可視化。"
   ]
  },
  {
   "cell_type": "code",
   "execution_count": null,
   "metadata": {},
   "outputs": [],
   "source": [
    "sns.heatmap(df_job_cross.apply(lambda x: x/x.sum(), axis=1), cmap='Blues')"
   ]
  },
  {
   "cell_type": "markdown",
   "metadata": {},
   "source": [
    "どのようなクラスタがあるか：\n",
    "\n",
    "- management（管理者）が多く、blue-collar が少ない\n",
    "- 退職者が多め（その他の職種も混在）…年齢層が高い？\n",
    "- services（対人サービス？）, self-employed（個人事業主）がやや多く、blue-collar, management も多め\n",
    "- technician（技術職員）が多いと、admin（事務職員）が多い"
   ]
  },
  {
   "cell_type": "code",
   "execution_count": null,
   "metadata": {},
   "outputs": [],
   "source": []
  }
 ],
 "metadata": {
  "kernelspec": {
   "display_name": "Python 3 (ipykernel)",
   "language": "python",
   "name": "python3"
  },
  "language_info": {
   "codemirror_mode": {
    "name": "ipython",
    "version": 3
   },
   "file_extension": ".py",
   "mimetype": "text/x-python",
   "name": "python",
   "nbconvert_exporter": "python",
   "pygments_lexer": "ipython3",
   "version": "3.8.11"
  }
 },
 "nbformat": 4,
 "nbformat_minor": 4
}
