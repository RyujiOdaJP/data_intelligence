{
 "cells": [
  {
   "cell_type": "markdown",
   "metadata": {},
   "source": [
    "## 単回帰分析\n",
    "\n",
    "1つの説明変数から目的変数を予測"
   ]
  },
  {
   "cell_type": "code",
   "execution_count": null,
   "metadata": {},
   "outputs": [],
   "source": [
    "import pandas as pd\n",
    "import matplotlib.pyplot as plt\n",
    "import seaborn as sns\n",
    "df = sns.load_dataset('iris')"
   ]
  },
  {
   "cell_type": "code",
   "execution_count": null,
   "metadata": {},
   "outputs": [],
   "source": [
    "# 散布図\n",
    "sns.scatterplot(x=df.petal_width, y=df.petal_length)"
   ]
  },
  {
   "cell_type": "markdown",
   "metadata": {},
   "source": [
    "<img src='slides/5_4.png'>"
   ]
  },
  {
   "cell_type": "code",
   "execution_count": null,
   "metadata": {},
   "outputs": [],
   "source": [
    "# モデルの学習に用いる教師データの用意\n",
    "# - 説明変数 X は DataFrame で渡す必要\n",
    "#   X = pd.DataFrame(df.petal_width)\n",
    "# - 以下と同じ\n",
    "X = df[['petal_width']]\n",
    "Y = df.petal_length"
   ]
  },
  {
   "cell_type": "markdown",
   "metadata": {},
   "source": [
    "<hr>\n",
    "\n",
    "`df['petal_width']` と `df[['petal_width']]` は異なる。\n",
    "- それぞれのデータ型は `type(df['petal_width'])`, `type(df[['petal_width']])` で調べられる。\n",
    "\n",
    "<img src='slides/5_8.png'>\n",
    "<hr>"
   ]
  },
  {
   "cell_type": "code",
   "execution_count": null,
   "metadata": {},
   "outputs": [],
   "source": [
    "# 線形単回帰モデルの作成\n",
    "from sklearn.linear_model import LinearRegression\n",
    "\n",
    "model = LinearRegression()\n",
    "\n",
    "# モデルの学習\n",
    "model.fit(X, Y)"
   ]
  },
  {
   "cell_type": "code",
   "execution_count": null,
   "metadata": {},
   "outputs": [],
   "source": [
    "# coefficient: 係数\n",
    "# intercept  : 切片\n",
    "print('coefficient={:.3f}, intercept={:.3f}'.format(model.coef_[0], model.intercept_))"
   ]
  },
  {
   "cell_type": "markdown",
   "metadata": {},
   "source": [
    "- intercept: β_0\n",
    "- coefficient: β_1"
   ]
  },
  {
   "cell_type": "code",
   "execution_count": null,
   "metadata": {},
   "outputs": [],
   "source": [
    "# 散布図に回帰直線を重ねて描画\n",
    "sns.scatterplot(x=df.petal_width, y=df.petal_length)\n",
    "\n",
    "# モデルによる予測\n",
    "Y_predict = model.predict(X)\n",
    "\n",
    "# 回帰直線を描画\n",
    "plt.plot(X, Y_predict, color='gray')"
   ]
  },
  {
   "cell_type": "code",
   "execution_count": null,
   "metadata": {},
   "outputs": [],
   "source": [
    "# regplot は散布図に回帰直線を重ねて描画\n",
    "sns.regplot(x=df.petal_width, y=df.petal_length, ci=None)"
   ]
  },
  {
   "cell_type": "markdown",
   "metadata": {},
   "source": [
    "## モデルの評価\n",
    "\n",
    "- 平均二乗誤差\n",
    "- 決定係数\n",
    "\n",
    "<img src='slides/5_9.png'>"
   ]
  },
  {
   "cell_type": "code",
   "execution_count": null,
   "metadata": {},
   "outputs": [],
   "source": [
    "# 平均二乗誤差\n",
    "from sklearn.metrics import mean_squared_error\n",
    "print('MSE={:.3f}'.format(mean_squared_error(Y, Y_predict)))"
   ]
  },
  {
   "cell_type": "markdown",
   "metadata": {},
   "source": [
    "<img src='slides/5_11.png'>"
   ]
  },
  {
   "cell_type": "code",
   "execution_count": null,
   "metadata": {},
   "outputs": [],
   "source": [
    "# 決定係数\n",
    "from sklearn.metrics import r2_score\n",
    "print('R^2={:.3f}'.format(r2_score(Y, Y_predict)))"
   ]
  },
  {
   "cell_type": "code",
   "execution_count": null,
   "metadata": {},
   "outputs": [],
   "source": [
    "# 決定係数\n",
    "print('R^2={:.3f}'.format(model.score(X, Y)))"
   ]
  }
 ],
 "metadata": {
  "kernelspec": {
   "display_name": "Python 3 (ipykernel)",
   "language": "python",
   "name": "python3"
  },
  "language_info": {
   "codemirror_mode": {
    "name": "ipython",
    "version": 3
   },
   "file_extension": ".py",
   "mimetype": "text/x-python",
   "name": "python",
   "nbconvert_exporter": "python",
   "pygments_lexer": "ipython3",
   "version": "3.8.11"
  }
 },
 "nbformat": 4,
 "nbformat_minor": 4
}
