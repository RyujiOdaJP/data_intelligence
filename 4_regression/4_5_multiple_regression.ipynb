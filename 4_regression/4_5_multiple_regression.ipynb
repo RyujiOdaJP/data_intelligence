{
 "cells": [
  {
   "cell_type": "markdown",
   "metadata": {},
   "source": [
    "<img src='slides/5_16.png'>"
   ]
  },
  {
   "cell_type": "code",
   "execution_count": null,
   "metadata": {},
   "outputs": [],
   "source": [
    "import pandas as pd\n",
    "import seaborn as sns\n",
    "df = sns.load_dataset('iris')"
   ]
  },
  {
   "cell_type": "code",
   "execution_count": null,
   "metadata": {},
   "outputs": [],
   "source": [
    "# 線形重回帰モデルの作成\n",
    "from sklearn.linear_model import LinearRegression\n",
    "# 目的変数\n",
    "# - 目的変数を petal_length とした理由は…\n",
    "Y_label = 'petal_length'\n",
    "Y = df[Y_label]\n",
    "# 目的変数と species をDataFrameから除外し、残りを説明変数にする\n",
    "# - species は数値ではないため除外（説明変数にするには第5回で説明するダミー変数化が必要）\n",
    "X = df.drop([Y_label, 'species'], axis=1)\n",
    "\n",
    "# 線形回帰モデルの作成、モデルの学習\n",
    "model = LinearRegression()\n",
    "model.fit(X, Y)"
   ]
  },
  {
   "cell_type": "markdown",
   "metadata": {},
   "source": [
    "### 平均二乗誤差、決定係数"
   ]
  },
  {
   "cell_type": "code",
   "execution_count": null,
   "metadata": {},
   "outputs": [],
   "source": [
    "from sklearn.metrics import mean_squared_error\n",
    "from sklearn.metrics import r2_score\n",
    "\n",
    "# モデルによる予測\n",
    "Y_predict = model.predict(X)\n",
    "\n",
    "# 平均二乗誤差、決定係数を出力\n",
    "print('MSE={:.3f}, R^2={:.3f}'.format(\n",
    "    mean_squared_error(Y, Y_predict), r2_score(Y, Y_predict)))"
   ]
  },
  {
   "cell_type": "markdown",
   "metadata": {},
   "source": [
    "## 回帰モデルからの推論\n",
    "\n",
    "作成されたモデルの回帰係数"
   ]
  },
  {
   "cell_type": "code",
   "execution_count": null,
   "metadata": {},
   "outputs": [],
   "source": [
    "# 回帰係数\n",
    "# - きれいに表示されるように pandas DataFrame を作成\n",
    "# - reshape(1, 3) は横並びになるように1行3列に変換\n",
    "pd.DataFrame(model.coef_.reshape(1, 3), columns=X.columns, index=[Y_label])"
   ]
  },
  {
   "cell_type": "markdown",
   "metadata": {},
   "source": [
    "回帰係数\n",
    "- sepal_length, petal__width と正の値\n",
    "- sepal_width は負の値\n",
    "\n",
    "散布図マトリックスにおける目的変数 petal_length と他の説明変数との関係を見てみる。<br>\n",
    "（散布図マトリックスの一部を cut & paste）\n",
    "- 散布図マトリックスから見て取れる相関の正負と、回帰係数の正負は一致している。\n",
    "\n",
    "<img src='slides/5_4_pairplot.png'>\n",
    "\n",
    "### 回帰モデルから推論できること\n",
    "\n",
    "1. 正の関係、負の関係\n",
    "- 目的変数 petal_length は、説明変数 sepal_length, petal__width と正の相関\n",
    "- 目的変数 petal_length は、説明変数 sepal_width は負の相関\n",
    "\n",
    "2. 係数の大きさ\n",
    "- petal_width が一番大きい\n",
    "- 散布図マトリックスでは sepal_length の方が傾きが大きいが、ばらつきも大きい"
   ]
  },
  {
   "cell_type": "code",
   "execution_count": null,
   "metadata": {},
   "outputs": [],
   "source": [
    "# 回帰係数（降順にソート）\n",
    "# - ソートすることで、係数が多い時に、どの係数の影響が大きいか見やすくなる\n",
    "# ソート sort_values()\n",
    "# - Y_label の列でソート\n",
    "# - ascending=False : 降順\n",
    "pd.DataFrame(model.coef_, index=X.columns, columns=[Y_label]).sort_values(Y_label, ascending=False)"
   ]
  },
  {
   "cell_type": "code",
   "execution_count": null,
   "metadata": {},
   "outputs": [],
   "source": []
  }
 ],
 "metadata": {
  "kernelspec": {
   "display_name": "Python 3",
   "language": "python",
   "name": "python3"
  },
  "language_info": {
   "codemirror_mode": {
    "name": "ipython",
    "version": 3
   },
   "file_extension": ".py",
   "mimetype": "text/x-python",
   "name": "python",
   "nbconvert_exporter": "python",
   "pygments_lexer": "ipython3",
   "version": "3.7.3"
  }
 },
 "nbformat": 4,
 "nbformat_minor": 4
}
