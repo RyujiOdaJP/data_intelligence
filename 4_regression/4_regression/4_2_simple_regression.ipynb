{
 "cells": [
  {
   "cell_type": "markdown",
   "metadata": {},
   "source": [
    "## 予測の向き\n",
    "\n",
    "- XからYを予測するモデル\n",
    "- YからXを予測するモデル\n",
    "\n",
    "は同じになるわけではない。"
   ]
  },
  {
   "cell_type": "code",
   "execution_count": null,
   "metadata": {},
   "outputs": [],
   "source": [
    "import pandas as pd\n",
    "import matplotlib.pyplot as plt\n",
    "import seaborn as sns\n",
    "from sklearn.linear_model import LinearRegression\n",
    "\n",
    "df = sns.load_dataset('iris')"
   ]
  },
  {
   "cell_type": "code",
   "execution_count": null,
   "metadata": {},
   "outputs": [],
   "source": [
    "# 線形単回帰モデルの作成\n",
    "# - petal_width から petal_length を予測\n",
    "X_label = 'petal_width'\n",
    "Y_label = 'petal_length'\n",
    "\n",
    "X = df[[X_label]]\n",
    "Y = df[Y_label]\n",
    "\n",
    "# 線形回帰モデルの作成\n",
    "model = LinearRegression()\n",
    "\n",
    "# モデルの学習\n",
    "model.fit(X, Y)\n",
    "\n",
    "# coefficient: 係数, intercept: 切片\n",
    "print('coefficient={:.3f}, intercept={:.3f}'.format(model.coef_[0], model.intercept_))\n",
    "\n",
    "# 散布図\n",
    "sns.scatterplot(x=X_label, y=Y_label, data=df)\n",
    "\n",
    "# モデルによる予測\n",
    "Y_predict = model.predict(X)\n",
    "\n",
    "# 回帰直線を描画\n",
    "plt.plot(X, Y_predict, color='gray')\n",
    "\n",
    "# 予測\n",
    "_x = 2\n",
    "_y = model.predict([[_x]])[0]\n",
    "_y1 = df[Y_label].min()\n",
    "plt.plot([_x, _x], [_y, _y1], color='coral')\n",
    "\n",
    "_x1 = df[X_label].min()\n",
    "plt.plot([_x, _x1], [_y, _y], color='coral')\n",
    "\n",
    "print('x={}, y_predict={}'.format(_x, _y))"
   ]
  },
  {
   "cell_type": "code",
   "execution_count": null,
   "metadata": {},
   "outputs": [],
   "source": [
    "# 線形単回帰モデルの作成\n",
    "# - petal_length から petal_width を予測\n",
    "X_label = 'petal_length'\n",
    "Y_label = 'petal_width'\n",
    "\n",
    "X = df[[X_label]]\n",
    "Y = df[Y_label]\n",
    "\n",
    "# 線形回帰モデルの作成\n",
    "model = LinearRegression()\n",
    "\n",
    "# モデルの学習\n",
    "model.fit(X, Y)\n",
    "\n",
    "# coefficient: 係数, intercept: 切片\n",
    "print('coefficient={:.3f}, intercept={:.3f}'.format(model.coef_[0], model.intercept_))\n",
    "\n",
    "# 散布図\n",
    "sns.scatterplot(x=X_label, y=Y_label, data=df)\n",
    "\n",
    "# モデルによる予測\n",
    "Y_predict = model.predict(X)\n",
    "\n",
    "# 回帰直線を描画\n",
    "plt.plot(X, Y_predict, color='gray')\n",
    "\n",
    "# 予測\n",
    "_x = 5.543439023094239\n",
    "_y = model.predict([[_x]])[0]\n",
    "_y1 = df[Y_label].min()\n",
    "plt.plot([_x, _x], [_y, _y1], color='coral')\n",
    "\n",
    "_x1 = df[X_label].min()\n",
    "plt.plot([_x, _x1], [_y, _y], color='coral')\n",
    "\n",
    "print('x={}, y_predict={}'.format(_x, _y))"
   ]
  },
  {
   "cell_type": "markdown",
   "metadata": {},
   "source": [
    "## 処理の関数化\n",
    "\n",
    "上記のように、同じ処理を複数のデータに対し繰り返し行う場合は、関数化する\n",
    "\n",
    "- 1箇所だけを修正すれば良くなる\n",
    "- 見た目もすっきりとする"
   ]
  },
  {
   "cell_type": "code",
   "execution_count": null,
   "metadata": {},
   "outputs": [],
   "source": [
    "def do_simple_regression(df, X_label, Y_label, _x):\n",
    "    \"\"\"\n",
    "    - df の X_label から Y_label を予測\n",
    "    - _x からの予測値を散布図に重ね、数値も表示\n",
    "    \"\"\"\n",
    "    X = df[[X_label]]\n",
    "    Y = df[Y_label]\n",
    "\n",
    "    # 線形回帰モデルの作成\n",
    "    model = LinearRegression()\n",
    "\n",
    "    # モデルの学習\n",
    "    model.fit(X, Y)\n",
    "\n",
    "    # coefficient: 係数, intercept: 切片\n",
    "    print('coefficient={:.3f}, intercept={:.3f}'.format(model.coef_[0], model.intercept_))\n",
    "\n",
    "    # 散布図\n",
    "    sns.scatterplot(x=X_label, y=Y_label, data=df)\n",
    "\n",
    "    # モデルによる予測\n",
    "    Y_predict = model.predict(X)\n",
    "\n",
    "    # 回帰直線を描画\n",
    "    plt.plot(X, Y_predict, color='gray')\n",
    "\n",
    "    # 予測\n",
    "    _y = model.predict([[_x]])[0]\n",
    "    _y1 = df[Y_label].min()\n",
    "    plt.plot([_x, _x], [_y, _y1], color='coral')\n",
    "\n",
    "    _x1 = df[X_label].min()\n",
    "    plt.plot([_x, _x1], [_y, _y], color='coral')\n",
    "\n",
    "    print('x={}, y_predict={}'.format(_x, _y))"
   ]
  },
  {
   "cell_type": "code",
   "execution_count": null,
   "metadata": {},
   "outputs": [],
   "source": [
    "do_simple_regression(df, 'sepal_length', 'sepal_width', 6)"
   ]
  },
  {
   "cell_type": "code",
   "execution_count": null,
   "metadata": {},
   "outputs": [],
   "source": [
    "do_simple_regression(df, 'sepal_width', 'sepal_length', 3.047638048318951)"
   ]
  }
 ],
 "metadata": {
  "kernelspec": {
   "display_name": "Python 3 (ipykernel)",
   "language": "python",
   "name": "python3"
  },
  "language_info": {
   "codemirror_mode": {
    "name": "ipython",
    "version": 3
   },
   "file_extension": ".py",
   "mimetype": "text/x-python",
   "name": "python",
   "nbconvert_exporter": "python",
   "pygments_lexer": "ipython3",
   "version": "3.8.11"
  }
 },
 "nbformat": 4,
 "nbformat_minor": 4
}
