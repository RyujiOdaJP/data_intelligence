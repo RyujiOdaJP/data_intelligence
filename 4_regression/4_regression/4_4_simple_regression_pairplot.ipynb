{
 "cells": [
  {
   "cell_type": "markdown",
   "metadata": {},
   "source": [
    "## 平均二乗誤差、決定係数の比較\n",
    "\n",
    "表を作成して比較"
   ]
  },
  {
   "cell_type": "code",
   "execution_count": null,
   "metadata": {},
   "outputs": [],
   "source": [
    "import pandas as pd\n",
    "import seaborn as sns\n",
    "from sklearn.linear_model import LinearRegression\n",
    "from sklearn.metrics import r2_score\n",
    "from sklearn.metrics import mean_squared_error\n",
    "\n",
    "df = sns.load_dataset('iris')"
   ]
  },
  {
   "cell_type": "code",
   "execution_count": null,
   "metadata": {},
   "outputs": [],
   "source": [
    "# x_label を説明変数、y_label を目的変数として線形回帰モデルを作成\n",
    "# 平均二乗誤差 MSE, 決定係数 R^2 を計算して返す\n",
    "def regression_erros(df, x_label, y_label):\n",
    "    X = df[[x_label]]\n",
    "    Y = df[y_label]\n",
    "    model = LinearRegression()\n",
    "    model.fit(X, Y)\n",
    "    Y_predict = model.predict(X)\n",
    "    return mean_squared_error(Y, Y_predict), r2_score(Y, Y_predict)\n",
    "\n",
    "# 確認\n",
    "regression_erros(df, 'sepal_length', 'sepal_width')"
   ]
  },
  {
   "cell_type": "code",
   "execution_count": null,
   "metadata": {},
   "outputs": [],
   "source": [
    "labels = ['sepal_length', 'sepal_width', 'petal_length', 'petal_width']\n",
    "\n",
    "# 行と列のラベルを付けて DataFrame を作成\n",
    "result_df = pd.DataFrame(columns=labels, index=labels)\n",
    "\n",
    "# 行から列を予測した時の 平均二乗誤差 MSE, 決定係数 R^2 の表を作成\n",
    "for x_label in labels:\n",
    "    for y_label in labels:\n",
    "        if x_label is y_label:\n",
    "            continue\n",
    "        mse, r2 = regression_erros(df, x_label, y_label)\n",
    "        result_df.at[y_label, x_label] = [mse, r2]\n",
    "\n",
    "result_df"
   ]
  },
  {
   "cell_type": "markdown",
   "metadata": {},
   "source": [
    "X（横）からY（縦）を予測\n",
    "\n",
    "sepal_width を説明変数にした場合も、目的変数とした場合も、決定係数が低くなり、うまく説明できない\n",
    "\n",
    "回帰直線を追加した散布図マトリックスと比較してみる"
   ]
  },
  {
   "cell_type": "code",
   "execution_count": null,
   "metadata": {},
   "outputs": [],
   "source": [
    "# 回帰直線を追加した散布図マトリックス\n",
    "sns.pairplot(df, kind='reg')"
   ]
  }
 ],
 "metadata": {
  "kernelspec": {
   "display_name": "Python 3 (ipykernel)",
   "language": "python",
   "name": "python3"
  },
  "language_info": {
   "codemirror_mode": {
    "name": "ipython",
    "version": 3
   },
   "file_extension": ".py",
   "mimetype": "text/x-python",
   "name": "python",
   "nbconvert_exporter": "python",
   "pygments_lexer": "ipython3",
   "version": "3.8.11"
  }
 },
 "nbformat": 4,
 "nbformat_minor": 4
}
