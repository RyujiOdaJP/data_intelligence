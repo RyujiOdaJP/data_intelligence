{
 "cells": [
  {
   "cell_type": "markdown",
   "metadata": {},
   "source": [
    "<img src='slides/4.png'>"
   ]
  },
  {
   "cell_type": "code",
   "execution_count": 1,
   "metadata": {},
   "outputs": [
    {
     "data": {
      "text/plain": [
       "\u001b[0m引用符\u001b[0m\u001b[0;34m;\u001b[0m\u001b[0mカンマ付\u001b[0m\u001b[0;34m;\u001b[0m\u001b[0m非数値\u001b[0m\u001b[0;34m;\u001b[0m\u001b[0;36m16\u001b[0m\u001b[0m進数\u001b[0m\u001b[0;34m\u001b[0m\n",
       "\u001b[0;34m\u001b[0m\u001b[0;34m'123'\u001b[0m\u001b[0;34m;\u001b[0m\u001b[0;36m123\u001b[0m\u001b[0;34m,\u001b[0m\u001b[0;36m456\u001b[0m\u001b[0;34m;\u001b[0m\u001b[0;36m18\u001b[0m\u001b[0;34m;\u001b[0m\u001b[0mABADBABE\u001b[0m\u001b[0;34m\u001b[0m\n",
       "\u001b[0;34m\u001b[0m\u001b[0;34m'456'\u001b[0m\u001b[0;34m;\u001b[0m\u001b[0;36m456\u001b[0m\u001b[0;34m,\u001b[0m\u001b[0;36m789\u001b[0m\u001b[0;34m;\u001b[0m\u001b[0;36m18\u001b[0m\u001b[0m歳未満\u001b[0m\u001b[0;34m;\u001b[0m\u001b[0mBAADF00D\u001b[0m\u001b[0;34m\u001b[0m\n",
       "\u001b[0;34m\u001b[0m\u001b[0;34m'789'\u001b[0m\u001b[0;34m;\u001b[0m\u001b[0;36m1\u001b[0m\u001b[0;34m,\u001b[0m\u001b[0;36m000\u001b[0m\u001b[0;34m,\u001b[0m\u001b[0;36m000\u001b[0m\u001b[0;34m;\u001b[0m\u001b[0;36m20\u001b[0m\u001b[0;34m;\u001b[0m\u001b[0mBADDCAFE\u001b[0m\u001b[0;34m\u001b[0m\n",
       "\u001b[0;34m\u001b[0m\u001b[0;34m'012'\u001b[0m\u001b[0;34m;\u001b[0m\u001b[0;36m2\u001b[0m\u001b[0;34m,\u001b[0m\u001b[0;36m000\u001b[0m\u001b[0;34m,\u001b[0m\u001b[0;36m000\u001b[0m\u001b[0;34m;\u001b[0m\u001b[0;36m30\u001b[0m\u001b[0;34m;\u001b[0m\u001b[0mCAFEBABE\u001b[0m\u001b[0;34m\u001b[0m\n",
       "\u001b[0;34m\u001b[0m\u001b[0;34m'345'\u001b[0m\u001b[0;34m;\u001b[0m\u001b[0;36m3\u001b[0m\u001b[0;34m,\u001b[0m\u001b[0;36m000\u001b[0m\u001b[0;34m,\u001b[0m\u001b[0;36m000\u001b[0m\u001b[0;34m;\u001b[0m\u001b[0;36m40\u001b[0m\u001b[0;34m;\u001b[0m\u001b[0mDEADBEEF\u001b[0m\u001b[0;34m\u001b[0m\u001b[0;34m\u001b[0m\u001b[0m\n"
      ]
     },
     "metadata": {},
     "output_type": "display_data"
    }
   ],
   "source": [
    "import pandas as pd\n",
    "import numpy as np\n",
    "\n",
    "# ファイルの内容を確認\n",
    "# - %pycat が使用できない場合は %pfile, %cat 等を試してください\n",
    "%pycat data/14_1_cleansing.csv"
   ]
  },
  {
   "cell_type": "code",
   "execution_count": 2,
   "metadata": {},
   "outputs": [
    {
     "data": {
      "text/html": [
       "<div>\n",
       "<style scoped>\n",
       "    .dataframe tbody tr th:only-of-type {\n",
       "        vertical-align: middle;\n",
       "    }\n",
       "\n",
       "    .dataframe tbody tr th {\n",
       "        vertical-align: top;\n",
       "    }\n",
       "\n",
       "    .dataframe thead th {\n",
       "        text-align: right;\n",
       "    }\n",
       "</style>\n",
       "<table border=\"1\" class=\"dataframe\">\n",
       "  <thead>\n",
       "    <tr style=\"text-align: right;\">\n",
       "      <th></th>\n",
       "      <th>引用符</th>\n",
       "      <th>カンマ付</th>\n",
       "      <th>非数値</th>\n",
       "      <th>16進数</th>\n",
       "    </tr>\n",
       "  </thead>\n",
       "  <tbody>\n",
       "    <tr>\n",
       "      <th>0</th>\n",
       "      <td>'123'</td>\n",
       "      <td>123,456</td>\n",
       "      <td>18</td>\n",
       "      <td>ABADBABE</td>\n",
       "    </tr>\n",
       "    <tr>\n",
       "      <th>1</th>\n",
       "      <td>'456'</td>\n",
       "      <td>456,789</td>\n",
       "      <td>18歳未満</td>\n",
       "      <td>BAADF00D</td>\n",
       "    </tr>\n",
       "    <tr>\n",
       "      <th>2</th>\n",
       "      <td>'789'</td>\n",
       "      <td>1,000,000</td>\n",
       "      <td>20</td>\n",
       "      <td>BADDCAFE</td>\n",
       "    </tr>\n",
       "    <tr>\n",
       "      <th>3</th>\n",
       "      <td>'012'</td>\n",
       "      <td>2,000,000</td>\n",
       "      <td>30</td>\n",
       "      <td>CAFEBABE</td>\n",
       "    </tr>\n",
       "    <tr>\n",
       "      <th>4</th>\n",
       "      <td>'345'</td>\n",
       "      <td>3,000,000</td>\n",
       "      <td>40</td>\n",
       "      <td>DEADBEEF</td>\n",
       "    </tr>\n",
       "  </tbody>\n",
       "</table>\n",
       "</div>"
      ],
      "text/plain": [
       "     引用符       カンマ付    非数値      16進数\n",
       "0  '123'    123,456     18  ABADBABE\n",
       "1  '456'    456,789  18歳未満  BAADF00D\n",
       "2  '789'  1,000,000     20  BADDCAFE\n",
       "3  '012'  2,000,000     30  CAFEBABE\n",
       "4  '345'  3,000,000     40  DEADBEEF"
      ]
     },
     "execution_count": 2,
     "metadata": {},
     "output_type": "execute_result"
    }
   ],
   "source": [
    "# DataFrameに読み込み\n",
    "df = pd.read_csv('data/14_1_cleansing.csv', sep=';')\n",
    "\n",
    "# 確認\n",
    "df"
   ]
  },
  {
   "cell_type": "code",
   "execution_count": 3,
   "metadata": {},
   "outputs": [
    {
     "name": "stdout",
     "output_type": "stream",
     "text": [
      "<class 'pandas.core.frame.DataFrame'>\n",
      "RangeIndex: 5 entries, 0 to 4\n",
      "Data columns (total 4 columns):\n",
      " #   Column  Non-Null Count  Dtype \n",
      "---  ------  --------------  ----- \n",
      " 0   引用符     5 non-null      object\n",
      " 1   カンマ付    5 non-null      object\n",
      " 2   非数値     5 non-null      object\n",
      " 3   16進数    5 non-null      object\n",
      "dtypes: object(4)\n",
      "memory usage: 288.0+ bytes\n"
     ]
    }
   ],
   "source": [
    "# 各列のデータ型を確認\n",
    "df.info()\n"
   ]
  },
  {
   "cell_type": "code",
   "execution_count": 4,
   "metadata": {},
   "outputs": [
    {
     "data": {
      "text/plain": [
       "'123,456'"
      ]
     },
     "execution_count": 4,
     "metadata": {},
     "output_type": "execute_result"
    }
   ],
   "source": [
    "# 'カンマ付'列の1行目\n",
    "df['カンマ付'].iloc[0]"
   ]
  },
  {
   "cell_type": "code",
   "execution_count": 5,
   "metadata": {},
   "outputs": [
    {
     "ename": "TypeError",
     "evalue": "can only concatenate str (not \"int\") to str",
     "output_type": "error",
     "traceback": [
      "\u001b[0;31m---------------------------------------------------------------------------\u001b[0m",
      "\u001b[0;31mTypeError\u001b[0m                                 Traceback (most recent call last)",
      "\u001b[0;32m/tmp/ipykernel_593/2021118595.py\u001b[0m in \u001b[0;36m<module>\u001b[0;34m\u001b[0m\n\u001b[1;32m      1\u001b[0m \u001b[0;31m# 非数値（文字列）のため、数値との計算の対象にはならず、エラーになる\u001b[0m\u001b[0;34m\u001b[0m\u001b[0;34m\u001b[0m\u001b[0;34m\u001b[0m\u001b[0m\n\u001b[0;32m----> 2\u001b[0;31m \u001b[0mdf\u001b[0m\u001b[0;34m[\u001b[0m\u001b[0;34m'カンマ付'\u001b[0m\u001b[0;34m]\u001b[0m\u001b[0;34m.\u001b[0m\u001b[0miloc\u001b[0m\u001b[0;34m[\u001b[0m\u001b[0;36m0\u001b[0m\u001b[0;34m]\u001b[0m \u001b[0;34m+\u001b[0m \u001b[0;36m1\u001b[0m\u001b[0;34m\u001b[0m\u001b[0;34m\u001b[0m\u001b[0m\n\u001b[0m",
      "\u001b[0;31mTypeError\u001b[0m: can only concatenate str (not \"int\") to str"
     ]
    }
   ],
   "source": [
    "# 非数値（文字列）のため、数値との計算の対象にはならず、エラーになる\n",
    "df['カンマ付'].iloc[0] + 1"
   ]
  },
  {
   "cell_type": "code",
   "execution_count": 6,
   "metadata": {},
   "outputs": [
    {
     "data": {
      "text/plain": [
       "str"
      ]
     },
     "execution_count": 6,
     "metadata": {},
     "output_type": "execute_result"
    }
   ],
   "source": [
    "# 'カンマ付'の型の確認\n",
    "type(df['カンマ付'].iloc[0])"
   ]
  },
  {
   "cell_type": "markdown",
   "metadata": {},
   "source": [
    "引用符、カンマ付、16進数の各列は、それぞれに応じた処理を行う"
   ]
  },
  {
   "cell_type": "code",
   "execution_count": 7,
   "metadata": {},
   "outputs": [
    {
     "data": {
      "text/html": [
       "<div>\n",
       "<style scoped>\n",
       "    .dataframe tbody tr th:only-of-type {\n",
       "        vertical-align: middle;\n",
       "    }\n",
       "\n",
       "    .dataframe tbody tr th {\n",
       "        vertical-align: top;\n",
       "    }\n",
       "\n",
       "    .dataframe thead th {\n",
       "        text-align: right;\n",
       "    }\n",
       "</style>\n",
       "<table border=\"1\" class=\"dataframe\">\n",
       "  <thead>\n",
       "    <tr style=\"text-align: right;\">\n",
       "      <th></th>\n",
       "      <th>引用符</th>\n",
       "      <th>カンマ付</th>\n",
       "      <th>非数値</th>\n",
       "      <th>16進数</th>\n",
       "    </tr>\n",
       "  </thead>\n",
       "  <tbody>\n",
       "    <tr>\n",
       "      <th>0</th>\n",
       "      <td>123</td>\n",
       "      <td>123456</td>\n",
       "      <td>18</td>\n",
       "      <td>2880289470</td>\n",
       "    </tr>\n",
       "    <tr>\n",
       "      <th>1</th>\n",
       "      <td>456</td>\n",
       "      <td>456789</td>\n",
       "      <td>18歳未満</td>\n",
       "      <td>3131961357</td>\n",
       "    </tr>\n",
       "    <tr>\n",
       "      <th>2</th>\n",
       "      <td>789</td>\n",
       "      <td>1000000</td>\n",
       "      <td>20</td>\n",
       "      <td>3135097598</td>\n",
       "    </tr>\n",
       "    <tr>\n",
       "      <th>3</th>\n",
       "      <td>12</td>\n",
       "      <td>2000000</td>\n",
       "      <td>30</td>\n",
       "      <td>3405691582</td>\n",
       "    </tr>\n",
       "    <tr>\n",
       "      <th>4</th>\n",
       "      <td>345</td>\n",
       "      <td>3000000</td>\n",
       "      <td>40</td>\n",
       "      <td>3735928559</td>\n",
       "    </tr>\n",
       "  </tbody>\n",
       "</table>\n",
       "</div>"
      ],
      "text/plain": [
       "   引用符     カンマ付    非数値        16進数\n",
       "0  123   123456     18  2880289470\n",
       "1  456   456789  18歳未満  3131961357\n",
       "2  789  1000000     20  3135097598\n",
       "3   12  2000000     30  3405691582\n",
       "4  345  3000000     40  3735928559"
      ]
     },
     "execution_count": 7,
     "metadata": {},
     "output_type": "execute_result"
    }
   ],
   "source": [
    "# 引用符列は左右の端にある ' を除去した後に、int型に変換\n",
    "df['引用符'] = df['引用符'].str.strip(\"'\").astype(int)\n",
    "\n",
    "# カンマ付列は , を除去した後に、int型に変換\n",
    "df['カンマ付'] = df['カンマ付'].str.replace(',', '').astype(int)\n",
    "\n",
    "# 16進数列は16進数を指定して型変換\n",
    "df['16進数'] = df['16進数'].apply(lambda x: int(x, 16))\n",
    "\n",
    "# 確認\n",
    "df"
   ]
  },
  {
   "cell_type": "code",
   "execution_count": 8,
   "metadata": {},
   "outputs": [
    {
     "name": "stdout",
     "output_type": "stream",
     "text": [
      "<class 'pandas.core.frame.DataFrame'>\n",
      "RangeIndex: 5 entries, 0 to 4\n",
      "Data columns (total 4 columns):\n",
      " #   Column  Non-Null Count  Dtype \n",
      "---  ------  --------------  ----- \n",
      " 0   引用符     5 non-null      int64 \n",
      " 1   カンマ付    5 non-null      int64 \n",
      " 2   非数値     5 non-null      object\n",
      " 3   16進数    5 non-null      int64 \n",
      "dtypes: int64(3), object(1)\n",
      "memory usage: 288.0+ bytes\n"
     ]
    }
   ],
   "source": [
    "# 各列のデータ型を確認\n",
    "df.info()"
   ]
  },
  {
   "cell_type": "markdown",
   "metadata": {},
   "source": [
    "引用符、カンマ付、16進数の列は、数値 int64 型に変換\n",
    "\n",
    "非数値列は、数値と非数値が混ざっているため、数値のみと非数値のみに分離し、それぞれの列を作成する\n",
    "\n",
    "- どう扱うかは、その後の処理依存"
   ]
  },
  {
   "cell_type": "code",
   "execution_count": 9,
   "metadata": {},
   "outputs": [
    {
     "data": {
      "text/html": [
       "<div>\n",
       "<style scoped>\n",
       "    .dataframe tbody tr th:only-of-type {\n",
       "        vertical-align: middle;\n",
       "    }\n",
       "\n",
       "    .dataframe tbody tr th {\n",
       "        vertical-align: top;\n",
       "    }\n",
       "\n",
       "    .dataframe thead th {\n",
       "        text-align: right;\n",
       "    }\n",
       "</style>\n",
       "<table border=\"1\" class=\"dataframe\">\n",
       "  <thead>\n",
       "    <tr style=\"text-align: right;\">\n",
       "      <th></th>\n",
       "      <th>引用符</th>\n",
       "      <th>カンマ付</th>\n",
       "      <th>非数値</th>\n",
       "      <th>16進数</th>\n",
       "      <th>数値のみ</th>\n",
       "      <th>非数値のみ</th>\n",
       "    </tr>\n",
       "  </thead>\n",
       "  <tbody>\n",
       "    <tr>\n",
       "      <th>0</th>\n",
       "      <td>123</td>\n",
       "      <td>123456</td>\n",
       "      <td>18</td>\n",
       "      <td>2880289470</td>\n",
       "      <td>18.0</td>\n",
       "      <td>NaN</td>\n",
       "    </tr>\n",
       "    <tr>\n",
       "      <th>1</th>\n",
       "      <td>456</td>\n",
       "      <td>456789</td>\n",
       "      <td>18歳未満</td>\n",
       "      <td>3131961357</td>\n",
       "      <td>NaN</td>\n",
       "      <td>18歳未満</td>\n",
       "    </tr>\n",
       "    <tr>\n",
       "      <th>2</th>\n",
       "      <td>789</td>\n",
       "      <td>1000000</td>\n",
       "      <td>20</td>\n",
       "      <td>3135097598</td>\n",
       "      <td>20.0</td>\n",
       "      <td>NaN</td>\n",
       "    </tr>\n",
       "    <tr>\n",
       "      <th>3</th>\n",
       "      <td>12</td>\n",
       "      <td>2000000</td>\n",
       "      <td>30</td>\n",
       "      <td>3405691582</td>\n",
       "      <td>30.0</td>\n",
       "      <td>NaN</td>\n",
       "    </tr>\n",
       "    <tr>\n",
       "      <th>4</th>\n",
       "      <td>345</td>\n",
       "      <td>3000000</td>\n",
       "      <td>40</td>\n",
       "      <td>3735928559</td>\n",
       "      <td>40.0</td>\n",
       "      <td>NaN</td>\n",
       "    </tr>\n",
       "  </tbody>\n",
       "</table>\n",
       "</div>"
      ],
      "text/plain": [
       "   引用符     カンマ付    非数値        16進数  数値のみ  非数値のみ\n",
       "0  123   123456     18  2880289470  18.0    NaN\n",
       "1  456   456789  18歳未満  3131961357   NaN  18歳未満\n",
       "2  789  1000000     20  3135097598  20.0    NaN\n",
       "3   12  2000000     30  3405691582  30.0    NaN\n",
       "4  345  3000000     40  3735928559  40.0    NaN"
      ]
     },
     "execution_count": 9,
     "metadata": {},
     "output_type": "execute_result"
    }
   ],
   "source": [
    "# 非数値列の数値化できないデータは NaN に変換した数値のみ列を追加\n",
    "# - NaNはint型で表現できないため、列はfloat型になってしまう\n",
    "df['数値のみ'] = pd.to_numeric(df['非数値'], errors='coerce')\n",
    "\n",
    "# 数値のみ列で NaN の行について、非数値列の値を取り出して、非数値のみ列に追加\n",
    "df['非数値のみ'] = df[np.isnan(df['数値のみ'])].loc[:, '非数値']\n",
    "\n",
    "# 確認\n",
    "df"
   ]
  },
  {
   "cell_type": "code",
   "execution_count": 10,
   "metadata": {},
   "outputs": [
    {
     "name": "stdout",
     "output_type": "stream",
     "text": [
      "<class 'pandas.core.frame.DataFrame'>\n",
      "RangeIndex: 5 entries, 0 to 4\n",
      "Data columns (total 6 columns):\n",
      " #   Column  Non-Null Count  Dtype  \n",
      "---  ------  --------------  -----  \n",
      " 0   引用符     5 non-null      int64  \n",
      " 1   カンマ付    5 non-null      int64  \n",
      " 2   非数値     5 non-null      object \n",
      " 3   16進数    5 non-null      int64  \n",
      " 4   数値のみ    4 non-null      float64\n",
      " 5   非数値のみ   1 non-null      object \n",
      "dtypes: float64(1), int64(3), object(2)\n",
      "memory usage: 368.0+ bytes\n"
     ]
    }
   ],
   "source": [
    "# 各列のデータ型を確認\n",
    "df.info()"
   ]
  },
  {
   "cell_type": "code",
   "execution_count": 11,
   "metadata": {},
   "outputs": [
    {
     "data": {
      "text/html": [
       "<div>\n",
       "<style scoped>\n",
       "    .dataframe tbody tr th:only-of-type {\n",
       "        vertical-align: middle;\n",
       "    }\n",
       "\n",
       "    .dataframe tbody tr th {\n",
       "        vertical-align: top;\n",
       "    }\n",
       "\n",
       "    .dataframe thead th {\n",
       "        text-align: right;\n",
       "    }\n",
       "</style>\n",
       "<table border=\"1\" class=\"dataframe\">\n",
       "  <thead>\n",
       "    <tr style=\"text-align: right;\">\n",
       "      <th></th>\n",
       "      <th>引用符</th>\n",
       "      <th>カンマ付</th>\n",
       "      <th>16進数</th>\n",
       "      <th>数値のみ</th>\n",
       "      <th>非数値のみ</th>\n",
       "    </tr>\n",
       "  </thead>\n",
       "  <tbody>\n",
       "    <tr>\n",
       "      <th>0</th>\n",
       "      <td>123</td>\n",
       "      <td>123456</td>\n",
       "      <td>2880289470</td>\n",
       "      <td>18.0</td>\n",
       "      <td>NaN</td>\n",
       "    </tr>\n",
       "    <tr>\n",
       "      <th>1</th>\n",
       "      <td>456</td>\n",
       "      <td>456789</td>\n",
       "      <td>3131961357</td>\n",
       "      <td>NaN</td>\n",
       "      <td>18歳未満</td>\n",
       "    </tr>\n",
       "    <tr>\n",
       "      <th>2</th>\n",
       "      <td>789</td>\n",
       "      <td>1000000</td>\n",
       "      <td>3135097598</td>\n",
       "      <td>20.0</td>\n",
       "      <td>NaN</td>\n",
       "    </tr>\n",
       "    <tr>\n",
       "      <th>3</th>\n",
       "      <td>12</td>\n",
       "      <td>2000000</td>\n",
       "      <td>3405691582</td>\n",
       "      <td>30.0</td>\n",
       "      <td>NaN</td>\n",
       "    </tr>\n",
       "    <tr>\n",
       "      <th>4</th>\n",
       "      <td>345</td>\n",
       "      <td>3000000</td>\n",
       "      <td>3735928559</td>\n",
       "      <td>40.0</td>\n",
       "      <td>NaN</td>\n",
       "    </tr>\n",
       "  </tbody>\n",
       "</table>\n",
       "</div>"
      ],
      "text/plain": [
       "   引用符     カンマ付        16進数  数値のみ  非数値のみ\n",
       "0  123   123456  2880289470  18.0    NaN\n",
       "1  456   456789  3131961357   NaN  18歳未満\n",
       "2  789  1000000  3135097598  20.0    NaN\n",
       "3   12  2000000  3405691582  30.0    NaN\n",
       "4  345  3000000  3735928559  40.0    NaN"
      ]
     },
     "execution_count": 11,
     "metadata": {},
     "output_type": "execute_result"
    }
   ],
   "source": [
    "# 非数値列が必要無いならば削除\n",
    "df = df.drop('非数値', axis=1)\n",
    "\n",
    "# 確認\n",
    "df"
   ]
  },
  {
   "cell_type": "code",
   "execution_count": null,
   "metadata": {},
   "outputs": [],
   "source": []
  }
 ],
 "metadata": {
  "kernelspec": {
   "display_name": "Python 3 (ipykernel)",
   "language": "python",
   "name": "python3"
  },
  "language_info": {
   "codemirror_mode": {
    "name": "ipython",
    "version": 3
   },
   "file_extension": ".py",
   "mimetype": "text/x-python",
   "name": "python",
   "nbconvert_exporter": "python",
   "pygments_lexer": "ipython3",
   "version": "3.8.11"
  }
 },
 "nbformat": 4,
 "nbformat_minor": 4
}
