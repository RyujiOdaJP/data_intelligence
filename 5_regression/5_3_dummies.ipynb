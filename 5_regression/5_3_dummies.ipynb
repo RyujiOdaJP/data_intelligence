{
 "cells": [
  {
   "cell_type": "markdown",
   "metadata": {},
   "source": [
    "<img src='slides/5_23.png'>"
   ]
  },
  {
   "cell_type": "code",
   "execution_count": null,
   "metadata": {},
   "outputs": [],
   "source": [
    "import pandas as pd\n",
    "import seaborn as sns\n",
    "\n",
    "iris = sns.load_dataset('iris')"
   ]
  },
  {
   "cell_type": "code",
   "execution_count": null,
   "metadata": {},
   "outputs": [],
   "source": [
    "# ダミー変数化（全てバラバラの変数とする場合=One-Hotエンコーディング）\n",
    "df = pd.get_dummies(data=iris)\n",
    "\n",
    "# それぞれの種を確認\n",
    "df.iloc[[0, 50, 100]]"
   ]
  },
  {
   "cell_type": "code",
   "execution_count": null,
   "metadata": {},
   "outputs": [],
   "source": [
    "# ダミー変数化（1列減らす場合）\n",
    "df = pd.get_dummies(data=iris, drop_first=True)\n",
    "\n",
    "# それぞれの種を確認\n",
    "df.iloc[[0, 50, 100]]"
   ]
  },
  {
   "cell_type": "code",
   "execution_count": null,
   "metadata": {},
   "outputs": [],
   "source": [
    "# 線形重回帰モデルの作成\n",
    "from sklearn.linear_model import LinearRegression\n",
    "\n",
    "X = df.drop(['sepal_width'], axis=1)\n",
    "Y = df.sepal_width\n",
    "\n",
    "model = LinearRegression()\n",
    "model.fit(X, Y)"
   ]
  },
  {
   "cell_type": "code",
   "execution_count": null,
   "metadata": {},
   "outputs": [],
   "source": [
    "# 平均二乗誤差\n",
    "from sklearn.metrics import mean_squared_error\n",
    "\n",
    "# 決定係数\n",
    "from sklearn.metrics import r2_score\n",
    "Y_predict = model.predict(X)\n",
    "\n",
    "print('MSE={:.3f}, R^2={:.3f}'.format(\n",
    "    mean_squared_error(Y, Y_predict), r2_score(Y, Y_predict)))"
   ]
  },
  {
   "cell_type": "markdown",
   "metadata": {},
   "source": [
    "species を説明変数に用いない場合 MSE=0.090, R^2=0.524 よりも、モデルのあてはまりは良い"
   ]
  },
  {
   "cell_type": "code",
   "execution_count": null,
   "metadata": {},
   "outputs": [],
   "source": [
    "pd.DataFrame(model.coef_.reshape(1, 5), columns=X.columns, index=['sepal_width'])"
   ]
  },
  {
   "cell_type": "code",
   "execution_count": null,
   "metadata": {},
   "outputs": [],
   "source": []
  }
 ],
 "metadata": {
  "kernelspec": {
   "display_name": "Python 3 (ipykernel)",
   "language": "python",
   "name": "python3"
  },
  "language_info": {
   "codemirror_mode": {
    "name": "ipython",
    "version": 3
   },
   "file_extension": ".py",
   "mimetype": "text/x-python",
   "name": "python",
   "nbconvert_exporter": "python",
   "pygments_lexer": "ipython3",
   "version": "3.8.11"
  }
 },
 "nbformat": 4,
 "nbformat_minor": 4
}
