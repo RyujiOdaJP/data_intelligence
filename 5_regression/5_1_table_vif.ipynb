{
 "cells": [
  {
   "cell_type": "markdown",
   "metadata": {},
   "source": [
    "## 決定係数の表の作成"
   ]
  },
  {
   "cell_type": "code",
   "execution_count": null,
   "metadata": {},
   "outputs": [],
   "source": [
    "import pandas as pd\n",
    "import seaborn as sns\n",
    "from sklearn.linear_model import LinearRegression\n",
    "from sklearn.metrics import r2_score\n",
    "\n",
    "df = sns.load_dataset('iris')"
   ]
  },
  {
   "cell_type": "code",
   "execution_count": null,
   "metadata": {},
   "outputs": [],
   "source": [
    "# 目的変数 y_label を引数で指定、それ以外を説明変数として決定係数を計算\n",
    "def multi_regression_erros(df, y_label):\n",
    "    X = df.drop([y_label, 'species'], axis=1)\n",
    "    Y = df[y_label]\n",
    "    model = LinearRegression()\n",
    "    model.fit(X, Y)\n",
    "    Y_predict = model.predict(X)\n",
    "    return r2_score(Y, Y_predict)"
   ]
  },
  {
   "cell_type": "code",
   "execution_count": null,
   "metadata": {},
   "outputs": [],
   "source": [
    "# 'sepal_length' を目的変数として確認\n",
    "multi_regression_erros(df, 'sepal_length')"
   ]
  },
  {
   "cell_type": "code",
   "execution_count": null,
   "metadata": {},
   "outputs": [],
   "source": [
    "labels = ['sepal_length', 'sepal_width', 'petal_length', 'petal_width']\n",
    "result_df = pd.DataFrame(columns=labels, index=labels)\n",
    "\n",
    "# labels の各要素を目的変数として決定係数を計算\n",
    "for y_label in labels:\n",
    "    r2 = multi_regression_erros(df, y_label)\n",
    "    result_df.at[y_label, y_label] = r2\n",
    "\n",
    "result_df"
   ]
  },
  {
   "cell_type": "markdown",
   "metadata": {},
   "source": [
    "上記4つが説明変数の場合は、petal_length, petal_width は決定係数が 0.9 以上であり、他の説明変数から十分に説明できることになり、両方を説明変数に含めることは多重共線性が問題になり得る。\n",
    "\n",
    "<img src='slides/4_42.png'>"
   ]
  }
 ],
 "metadata": {
  "kernelspec": {
   "display_name": "Python 3 (ipykernel)",
   "language": "python",
   "name": "python3"
  },
  "language_info": {
   "codemirror_mode": {
    "name": "ipython",
    "version": 3
   },
   "file_extension": ".py",
   "mimetype": "text/x-python",
   "name": "python",
   "nbconvert_exporter": "python",
   "pygments_lexer": "ipython3",
   "version": "3.8.11"
  }
 },
 "nbformat": 4,
 "nbformat_minor": 4
}
