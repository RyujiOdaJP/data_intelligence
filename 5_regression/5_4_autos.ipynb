{
 "cells": [
  {
   "cell_type": "markdown",
   "metadata": {
    "tags": []
   },
   "source": [
    "## 中古車についてのデータセット\n",
    "\n",
    "データの取得\n",
    "https://archive.ics.uci.edu/ml/machine-learning-databases/autos/imports-85.data<br>\n",
    "データの説明：https://archive.ics.uci.edu/ml/machine-learning-databases/autos/imports-85.names\n",
    "- メーカー、燃料の種類、吸気、ドア数、ボディ形状等\n",
    "\n",
    "内容を確認\n",
    "```\n",
    "3,?,alfa-romero,gas,std,two,convertible,rwd,front,88.60,168.80,64.10,48.80,2548,dohc,four,130,mpfi,3.47,2.68,9.00,111,5000,21,27,13495\n",
    "```\n",
    "\n",
    "- CSVファイル\n",
    "- ? … 欠損値がある"
   ]
  },
  {
   "cell_type": "code",
   "execution_count": null,
   "metadata": {
    "tags": []
   },
   "outputs": [],
   "source": [
    "import pandas as pd\n",
    "\n",
    "# 欠損値が '?' で入っていることを na_values='?' で指定\n",
    "# - 指定しなければ '?' を含む列は全て文字列として読み込まれる\n",
    "autos = pd.read_csv('data/imports-85.data', na_values='?')\n",
    "\n",
    "# imports-85.data には列ラベルがついていないため imports-85.names から列ラベルを付ける\n",
    "autos.columns = ['symboling', 'normalized_losses', 'make', 'fuel_type', 'aspiration',\n",
    "                    'num_of_doors', 'body_style', 'drive_wheels', 'engine_location',\n",
    "                    'wheel_base', 'length','width', 'height', 'curb_weight',\n",
    "                    'engine_type', 'num_of_cylinders', 'engine_size', 'fuel_system',\n",
    "                    'bore', 'stroke', 'compression_ratio', 'horsepower', 'peak_rpm',\n",
    "                    'city_mpg', 'highway_mpg','price']\n",
    "\n",
    "# データの確認\n",
    "# - 欠損値は NaN と表示\n",
    "autos"
   ]
  },
  {
   "cell_type": "code",
   "execution_count": null,
   "metadata": {},
   "outputs": [],
   "source": [
    "# 表示する最大列数の設定\n",
    "pd.set_option('display.max_columns', len(autos.columns))\n",
    "# 表示する最大行数の設定\n",
    "# pd.set_option('display.max_rows', len(autos))"
   ]
  },
  {
   "cell_type": "code",
   "execution_count": null,
   "metadata": {},
   "outputs": [],
   "source": [
    "# DataFrame の要約を表示\n",
    "autos.info()"
   ]
  },
  {
   "cell_type": "code",
   "execution_count": null,
   "metadata": {},
   "outputs": [],
   "source": [
    "# 欠損値 NaN の個数\n",
    "autos.isna().sum()"
   ]
  },
  {
   "cell_type": "code",
   "execution_count": null,
   "metadata": {},
   "outputs": [],
   "source": [
    "# 欠損値 NaN を含む行の除去\n",
    "# - 欠損値を含む行を全て除去\n",
    "df = autos.dropna()\n",
    "\n",
    "# 確認\n",
    "# - 0, 1, 4, 6, 8行目が無くなっている\n",
    "# - rows が 204 から 159 に減少\n",
    "df"
   ]
  },
  {
   "cell_type": "code",
   "execution_count": null,
   "metadata": {},
   "outputs": [],
   "source": [
    "# 線形重回帰モデルの作成"
   ]
  },
  {
   "cell_type": "code",
   "execution_count": null,
   "metadata": {},
   "outputs": [],
   "source": [
    "# 平均二乗誤差、決定係数の出力"
   ]
  },
  {
   "cell_type": "code",
   "execution_count": null,
   "metadata": {},
   "outputs": [],
   "source": [
    "# 回帰係数の出力"
   ]
  },
  {
   "cell_type": "code",
   "execution_count": null,
   "metadata": {},
   "outputs": [],
   "source": []
  }
 ],
 "metadata": {
  "kernelspec": {
   "display_name": "Python 3 (ipykernel)",
   "language": "python",
   "name": "python3"
  },
  "language_info": {
   "codemirror_mode": {
    "name": "ipython",
    "version": 3
   },
   "file_extension": ".py",
   "mimetype": "text/x-python",
   "name": "python",
   "nbconvert_exporter": "python",
   "pygments_lexer": "ipython3",
   "version": "3.8.11"
  }
 },
 "nbformat": 4,
 "nbformat_minor": 4
}
