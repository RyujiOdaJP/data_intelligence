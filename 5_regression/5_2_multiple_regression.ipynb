{
 "cells": [
  {
   "cell_type": "markdown",
   "metadata": {},
   "source": [
    "## 回帰モデルからの推論が難しい例・特徴選択\n",
    "\n",
    "2変数間の相関と回帰係数が異なる場合"
   ]
  },
  {
   "cell_type": "code",
   "execution_count": null,
   "metadata": {},
   "outputs": [],
   "source": [
    "import pandas as pd\n",
    "import seaborn as sns\n",
    "\n",
    "df = sns.load_dataset('iris')"
   ]
  },
  {
   "cell_type": "code",
   "execution_count": null,
   "metadata": {},
   "outputs": [],
   "source": [
    "# 線形重回帰モデルの作成\n",
    "from sklearn.linear_model import LinearRegression\n",
    "\n",
    "# sepal_width, species をDataFrameから除外し、残りを説明変数にする\n",
    "X = df.drop(['sepal_width', 'species'], axis=1)\n",
    "\n",
    "# 目的変数は sepal_width（単回帰モデルではうまく説明できなかった）\n",
    "Y = df.sepal_width\n",
    "\n",
    "# 線形回帰モデルの作成、モデルの学習\n",
    "model = LinearRegression()\n",
    "model.fit(X, Y)"
   ]
  },
  {
   "cell_type": "code",
   "execution_count": null,
   "metadata": {},
   "outputs": [],
   "source": [
    "from sklearn.metrics import mean_squared_error\n",
    "from sklearn.metrics import r2_score\n",
    "\n",
    "# モデルによる予測\n",
    "Y_predict = model.predict(X)\n",
    "\n",
    "# 平均二乗誤差、決定係数を出力\n",
    "print('MSE={:.3f}, R^2={:.3f}'.format(\n",
    "    mean_squared_error(Y, Y_predict), r2_score(Y, Y_predict)))"
   ]
  },
  {
   "cell_type": "markdown",
   "metadata": {},
   "source": [
    "単回帰より予測の精度は高い（上：MSE, 下：R^2）\n",
    "\n",
    "<img src='slides/5_4_table_sepal_width.png'>"
   ]
  },
  {
   "cell_type": "code",
   "execution_count": null,
   "metadata": {},
   "outputs": [],
   "source": [
    "# 回帰係数\n",
    "pd.DataFrame(model.coef_.reshape(1, 3), columns=X.columns, index=['sepal_width'])"
   ]
  },
  {
   "cell_type": "markdown",
   "metadata": {},
   "source": [
    "- sepal_length, petal_width が正の係数\n",
    "- petal_length が負の係数\n",
    "\n",
    "以下は、sepal_width と上記3つの説明変数との1対1の関係を散布図で見たもの。\n",
    "- 全て負の相関となり、回帰係数の正負とは一致しない"
   ]
  },
  {
   "cell_type": "code",
   "execution_count": null,
   "metadata": {},
   "outputs": [],
   "source": [
    "# sepal_length と sepal_width の関係\n",
    "sns.regplot(x=df.sepal_length, y=df.sepal_width, ci=None)"
   ]
  },
  {
   "cell_type": "code",
   "execution_count": null,
   "metadata": {},
   "outputs": [],
   "source": [
    "# petal_length と sepal_width の関係\n",
    "sns.regplot(x=df.petal_length, y=df.sepal_width, ci=None)"
   ]
  },
  {
   "cell_type": "code",
   "execution_count": null,
   "metadata": {},
   "outputs": [],
   "source": [
    "# petal_width と sepal_width の関係\n",
    "sns.regplot(x=df.petal_width, y=df.sepal_width, ci=None)"
   ]
  },
  {
   "cell_type": "markdown",
   "metadata": {},
   "source": [
    "2変数による回帰モデルでも、1対1の関係と回帰係数の正負が一致しないという傾向は変わらない"
   ]
  },
  {
   "cell_type": "code",
   "execution_count": null,
   "metadata": {},
   "outputs": [],
   "source": [
    "# 説明変数から sepal_width に加えて sepal_length, petal_length, petal_width のそれぞれを除外\n",
    "for v in ['sepal_length', 'petal_length', 'petal_width']:\n",
    "    X = df.drop([v] + ['sepal_width', 'species'], axis=1)\n",
    "    Y = df.sepal_width\n",
    "    model = LinearRegression()\n",
    "    model.fit(X, Y)\n",
    "    Y_predict = model.predict(X)\n",
    "    print('dropped:', v)\n",
    "    print('MSE={:.3f}, R^2={:.3f}'.format(\n",
    "        mean_squared_error(Y, Y_predict), r2_score(Y, Y_predict)))\n",
    "    print(pd.DataFrame(model.coef_.reshape(1, 2), columns=X.columns, index=['sepal_width']))\n",
    "    print('----')"
   ]
  },
  {
   "cell_type": "markdown",
   "metadata": {},
   "source": [
    "## 特徴選択\n",
    "\n",
    "上記のように、適当に説明変数を選択しても、良いモデルは作るのは難しい。\n",
    "\n",
    "### ステップワイズ法\n",
    "\n",
    "説明変数の選択を変えながら何度もモデルを作り直す試行錯誤を、機械的に行う特徴選択アルゴリズム。<br>\n",
    "結果として得られるモデルが、解釈しやすいものとは限らない。\n",
    "\n",
    "### 学習アルゴリズム\n",
    "\n",
    "類似の効果（回帰係数の推定値を0に近づける重みを導入）を学習アルゴリズムに組み込んだものもある。\n",
    "\n",
    "- Lasso (L1正則化)\n",
    "- リッジ回帰 (L2正則化)"
   ]
  }
 ],
 "metadata": {
  "kernelspec": {
   "display_name": "Python 3 (ipykernel)",
   "language": "python",
   "name": "python3"
  },
  "language_info": {
   "codemirror_mode": {
    "name": "ipython",
    "version": 3
   },
   "file_extension": ".py",
   "mimetype": "text/x-python",
   "name": "python",
   "nbconvert_exporter": "python",
   "pygments_lexer": "ipython3",
   "version": "3.8.11"
  }
 },
 "nbformat": 4,
 "nbformat_minor": 4
}
