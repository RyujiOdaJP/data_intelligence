{
 "cells": [
  {
   "cell_type": "markdown",
   "metadata": {},
   "source": [
    "# 非階層的クラスタ分析"
   ]
  },
  {
   "cell_type": "code",
   "execution_count": 1,
   "metadata": {},
   "outputs": [],
   "source": [
    "import pandas as pd\n",
    "import numpy as np\n",
    "\n",
    "# 上記、クラスタリング用データ\n",
    "data = [\n",
    "    [5, 1],\n",
    "    [4, 2],\n",
    "    [1, 5],\n",
    "    [5, 4],\n",
    "    [5, 5]\n",
    "]\n",
    "\n",
    "# pandas DataFrame に変換\n",
    "X = pd.DataFrame(data, columns=['attr1', 'attr2'], index=['x1', 'x2', 'x3', 'x4', 'x5'])"
   ]
  },
  {
   "cell_type": "markdown",
   "metadata": {},
   "source": [
    "<img src='slides/41.png'>"
   ]
  },
  {
   "cell_type": "code",
   "execution_count": 2,
   "metadata": {},
   "outputs": [
    {
     "name": "stdout",
     "output_type": "stream",
     "text": [
      "割当=[1 1 0 1 1]\n",
      "重心=\n",
      "[[1.   5.  ]\n",
      " [4.75 3.  ]]\n"
     ]
    }
   ],
   "source": [
    "# K-means\n",
    "# - n_clusters: クラスタ数\n",
    "# - init: クラスタへの割り当ての初期値\n",
    "# - n_init: 上記の初期値を渡す場合、初期割り当ての試行を複数回行わないため\n",
    "from sklearn.cluster import KMeans\n",
    "model1 = KMeans(n_clusters=2, init=np.array([[3, 3], [4.67, 3.67]]), n_init=1)\n",
    "model1.fit(X)\n",
    "print('割当={}'.format(model1.labels_))\n",
    "print('重心=\\n{}'.format(model1.cluster_centers_))"
   ]
  },
  {
   "cell_type": "markdown",
   "metadata": {},
   "source": [
    "割り当ての結果は x1~x5 のラベル\n",
    "```\n",
    "x1 x2 x3 x4 x5\n",
    " 1  1  0  1  1\n",
    "```\n",
    "\n",
    "- x3 がクラスタ0\n",
    "- x1, x2, x4, x5 がクラスタ1"
   ]
  },
  {
   "cell_type": "markdown",
   "metadata": {},
   "source": [
    "<img src='slides/42.png'>"
   ]
  },
  {
   "cell_type": "code",
   "execution_count": 3,
   "metadata": {},
   "outputs": [
    {
     "name": "stdout",
     "output_type": "stream",
     "text": [
      "割当=[0 0 0 1 1]\n",
      "重心=\n",
      "[[3.33333333 2.66666667]\n",
      " [5.         4.5       ]]\n"
     ]
    }
   ],
   "source": [
    "model2 = KMeans(n_clusters=2, init=np.array([[3.33, 2.67], [5, 4.5]]), n_init=1)\n",
    "model2.fit(X)\n",
    "print('割当={}'.format(model2.labels_))\n",
    "print('重心=\\n{}'.format(model2.cluster_centers_))"
   ]
  },
  {
   "cell_type": "markdown",
   "metadata": {},
   "source": [
    "```\n",
    "x1 x2 x3 x4 x5\n",
    " 0  0  0  1  1\n",
    "```\n",
    "\n",
    "- x1, x2, x3 がクラスタ0\n",
    "- x4, x5 がクラスタ1"
   ]
  },
  {
   "cell_type": "code",
   "execution_count": 4,
   "metadata": {},
   "outputs": [
    {
     "data": {
      "image/png": "[encoded data removed]",
      "text/plain": [
       "<Figure size 432x288 with 1 Axes>"
      ]
     },
     "metadata": {
      "needs_background": "light"
     },
     "output_type": "display_data"
    },
    {
     "data": {
      "image/png": "[encoded data removed]",
      "text/plain": [
       "<Figure size 432x288 with 1 Axes>"
      ]
     },
     "metadata": {
      "needs_background": "light"
     },
     "output_type": "display_data"
    }
   ],
   "source": [
    "# 上記、2通りの割り当てを散布図にプロット\n",
    "# - 重心も合わせてプロット（★）\n",
    "import seaborn as sns\n",
    "import matplotlib.pyplot as plt\n",
    "\n",
    "# 例(1)の散布図\n",
    "# - クラスタ 0 は x3 が 1 つだけのため、重心と重なっている\n",
    "sns.scatterplot(x=X.attr1, y=X.attr2, hue=model1.labels_)\n",
    "# 重心をプロット\n",
    "plt.scatter(model1.cluster_centers_[:,0], model1.cluster_centers_[:,1],\n",
    "            marker='*', color='red', s=150)\n",
    "plt.show()\n",
    "\n",
    "# 例(2)の散布図\n",
    "sns.scatterplot(x=X.attr1, y=X.attr2, hue=model2.labels_)\n",
    "# 重心をプロット\n",
    "plt.scatter(model2.cluster_centers_[:,0], model2.cluster_centers_[:,1],\n",
    "            marker='*', color='red', s=150)\n",
    "plt.show()"
   ]
  },
  {
   "cell_type": "markdown",
   "metadata": {},
   "source": [
    "<hr>\n",
    "\n",
    "### ランダムな重心初期値の設定"
   ]
  },
  {
   "cell_type": "code",
   "execution_count": 5,
   "metadata": {},
   "outputs": [
    {
     "name": "stdout",
     "output_type": "stream",
     "text": [
      "割当=[1 1 0 1 1]\n",
      "重心=\n",
      "[[1.   5.  ]\n",
      " [4.75 3.  ]]\n"
     ]
    },
    {
     "data": {
      "image/png": "[encoded data removed]",
      "text/plain": [
       "<Figure size 432x288 with 1 Axes>"
      ]
     },
     "metadata": {
      "needs_background": "light"
     },
     "output_type": "display_data"
    }
   ],
   "source": [
    "model = KMeans(n_clusters=2, init='random')\n",
    "model.fit(X)\n",
    "print('割当={}'.format(model.labels_))\n",
    "print('重心=\\n{}'.format(model.cluster_centers_))\n",
    "\n",
    "# 散布図に重心をプロット\n",
    "sns.scatterplot(x=X.attr1, y=X.attr2, hue=model.labels_)\n",
    "plt.scatter(model1.cluster_centers_[:,0], model.cluster_centers_[:,1],\n",
    "            marker='*', color='red', s=150)\n",
    "plt.show()"
   ]
  },
  {
   "cell_type": "code",
   "execution_count": null,
   "metadata": {},
   "outputs": [],
   "source": []
  }
 ],
 "metadata": {
  "kernelspec": {
   "display_name": "Python 3 (ipykernel)",
   "language": "python",
   "name": "python3"
  },
  "language_info": {
   "codemirror_mode": {
    "name": "ipython",
    "version": 3
   },
   "file_extension": ".py",
   "mimetype": "text/x-python",
   "name": "python",
   "nbconvert_exporter": "python",
   "pygments_lexer": "ipython3",
   "version": "3.8.11"
  }
 },
 "nbformat": 4,
 "nbformat_minor": 4
}
