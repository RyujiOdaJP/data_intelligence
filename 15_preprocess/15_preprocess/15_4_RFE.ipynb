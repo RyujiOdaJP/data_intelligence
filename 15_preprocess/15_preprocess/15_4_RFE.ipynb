{
 "cells": [
  {
   "cell_type": "markdown",
   "metadata": {},
   "source": [
    "# 特徴選択\n",
    "\n",
    "Scikit-Learnにステップワイズ法はないが、再帰的に特徴量を消去していく sklearn.feature_selection.RFE があるため、これを用いて特徴選択を行う。\n",
    "\n",
    "- https://scikit-learn.org/stable/modules/feature_selection.html\n",
    "- https://scikit-learn.org/stable/modules/generated/sklearn.feature_selection.RFE.html\n",
    "\n",
    "### RFE\n",
    "\n",
    "アルゴリズム\n",
    "- すべての説明変数によるモデルを作り、最も重要度の低い説明変数を削除\n",
    "- 残った説明変数によるモデルを作り、最も重要度の低い説明変数を削除\n",
    "- 指定の数の説明変数になるまで繰り返す\n",
    "\n",
    "説明変数の重要度\n",
    "- coef_: 係数\n",
    "- feature_importances_: 情報利得"
   ]
  },
  {
   "cell_type": "code",
   "execution_count": null,
   "metadata": {},
   "outputs": [],
   "source": [
    "import pandas as pd\n",
    "import seaborn as sns\n",
    "iris = sns.load_dataset('iris')\n",
    "\n",
    "# 2値データへの分類のため、species から setosa を除外\n",
    "# speciesを 0, 1 にするためにダミー変数化\n",
    "iris_dummies = pd.get_dummies(data=iris.query('species!=\"setosa\"'), drop_first=True)\n",
    "# 確認\n",
    "iris_dummies.iloc[[0, 50]]"
   ]
  },
  {
   "cell_type": "markdown",
   "metadata": {},
   "source": [
    "### ロジスティック回帰モデルを用いて特徴選択"
   ]
  },
  {
   "cell_type": "code",
   "execution_count": null,
   "metadata": {},
   "outputs": [],
   "source": [
    "from sklearn.linear_model import LogisticRegression\n",
    "from sklearn.feature_selection import RFE\n",
    "\n",
    "Y_label = 'species_virginica'\n",
    "X = iris_dummies.drop([Y_label], axis=1)\n",
    "Y = iris_dummies[Y_label]\n",
    "\n",
    "# ロジスティック回帰モデルを用いて特徴選択\n",
    "selector = RFE(estimator=LogisticRegression(C=10000.0), n_features_to_select=2)\n",
    "# 特徴選択を実行\n",
    "selector.fit(X, Y)\n",
    "print(selector.support_)\n",
    "print(selector.ranking_)"
   ]
  },
  {
   "cell_type": "code",
   "execution_count": null,
   "metadata": {},
   "outputs": [],
   "source": [
    "# 削除後のDataFrame\n",
    "X_selected_LR = pd.DataFrame(selector.transform(X), columns=X.columns.values[selector.support_])\n",
    "# 確認\n",
    "X_selected_LR"
   ]
  },
  {
   "cell_type": "markdown",
   "metadata": {},
   "source": [
    "### 決定木を用いて特徴選択"
   ]
  },
  {
   "cell_type": "code",
   "execution_count": null,
   "metadata": {},
   "outputs": [],
   "source": [
    "from sklearn.tree import DecisionTreeClassifier\n",
    "\n",
    "# 決定木を用いて特徴選択\n",
    "selector = RFE(estimator=DecisionTreeClassifier(), n_features_to_select=2)\n",
    "# 特徴選択を実行\n",
    "selector.fit(X, Y)\n",
    "# 削除後のDataFrame\n",
    "X_selected_DT = pd.DataFrame(selector.transform(X), columns=X.columns.values[selector.support_])\n",
    "# ranking_ の表示\n",
    "print(selector.ranking_)\n",
    "# 確認\n",
    "X_selected_DT"
   ]
  },
  {
   "cell_type": "markdown",
   "metadata": {},
   "source": [
    "### ロジスティック回帰による分類"
   ]
  },
  {
   "cell_type": "code",
   "execution_count": null,
   "metadata": {},
   "outputs": [],
   "source": [
    "from sklearn.metrics import roc_curve, auc\n",
    "\n",
    "def Logistic_Model(X, Y):\n",
    "    \"\"\"\n",
    "    ロジスティック回帰モデルを作成\n",
    "    \"\"\"\n",
    "    model = LogisticRegression(C=10000.0, max_iter=10000000)\n",
    "    model.fit(X, Y)\n",
    "    return model\n",
    "\n",
    "def calc_AUC(model, X, Y):\n",
    "    \"\"\"\n",
    "    AUCの算出\n",
    "    \"\"\"\n",
    "    Y_proba = model.predict_proba(X)\n",
    "    fpr, tpr, thresholds = roc_curve(Y, Y_proba[:, 1])\n",
    "    return auc(fpr, tpr)"
   ]
  },
  {
   "cell_type": "markdown",
   "metadata": {},
   "source": [
    "- ロジスティック回帰モデルによる特徴選択の結果"
   ]
  },
  {
   "cell_type": "code",
   "execution_count": null,
   "metadata": {},
   "outputs": [],
   "source": [
    "model = Logistic_Model(X_selected_LR, Y)\n",
    "AUC = calc_AUC(model, X_selected_LR, Y)\n",
    "print('AUC={:.3f}'.format(AUC))"
   ]
  },
  {
   "cell_type": "markdown",
   "metadata": {},
   "source": [
    "- 決定木による特徴選択の結果"
   ]
  },
  {
   "cell_type": "code",
   "execution_count": null,
   "metadata": {},
   "outputs": [],
   "source": [
    "model = Logistic_Model(X_selected_DT, Y)\n",
    "AUC = calc_AUC(model, X_selected_DT, Y)\n",
    "print('AUC={:.3f}'.format(AUC))"
   ]
  }
 ],
 "metadata": {
  "kernelspec": {
   "display_name": "Python 3 (ipykernel)",
   "language": "python",
   "name": "python3"
  },
  "language_info": {
   "codemirror_mode": {
    "name": "ipython",
    "version": 3
   },
   "file_extension": ".py",
   "mimetype": "text/x-python",
   "name": "python",
   "nbconvert_exporter": "python",
   "pygments_lexer": "ipython3",
   "version": "3.8.11"
  }
 },
 "nbformat": 4,
 "nbformat_minor": 4
}
