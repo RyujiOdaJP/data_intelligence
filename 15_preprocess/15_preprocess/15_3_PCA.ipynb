{
 "cells": [
  {
   "cell_type": "markdown",
   "metadata": {},
   "source": [
    "# 主成分分析の結果を用いた分類\n",
    "\n",
    "- 主成分分析の結果（主成分）を用いて分類\n",
    "- 次元削減が可能かどうかAUCを比較"
   ]
  },
  {
   "cell_type": "code",
   "execution_count": null,
   "metadata": {},
   "outputs": [],
   "source": [
    "import pandas as pd\n",
    "import seaborn as sns\n",
    "from matplotlib import pyplot as plt\n",
    "\n",
    "iris = sns.load_dataset('iris')\n",
    "\n",
    "# 2値データへの分類のため、species から setosa を除外\n",
    "# speciesを 0, 1 にするためにダミー変数化\n",
    "iris_dummies = pd.get_dummies(data=iris.query('species!=\"setosa\"'), drop_first=True)\n",
    "# 確認\n",
    "iris_dummies.iloc[[0, 50]]"
   ]
  },
  {
   "cell_type": "code",
   "execution_count": null,
   "metadata": {},
   "outputs": [],
   "source": [
    "# 説明変数：species_virginica 列を削除\n",
    "X = iris_dummies.drop(['species_virginica'], axis=1)\n",
    "\n",
    "# 標準化\n",
    "# - 主成分分析では分散（平均値からのばらつき）を用いるため\n",
    "#   標準化により平均値を 0 に揃える\n",
    "from sklearn.preprocessing import StandardScaler\n",
    "sc = StandardScaler()\n",
    "sc.fit(X)\n",
    "\n",
    "# 標準化した DataFrame\n",
    "X_std = pd.DataFrame(sc.transform(X), index=X.index, columns=X.columns)"
   ]
  },
  {
   "cell_type": "markdown",
   "metadata": {},
   "source": [
    "### 全ての主成分の説明率"
   ]
  },
  {
   "cell_type": "code",
   "execution_count": null,
   "metadata": {},
   "outputs": [],
   "source": [
    "from sklearn.decomposition import PCA\n",
    "\n",
    "# 主成分分析 PCA の初期化\n",
    "# - n_components=None: 主成分はもとの説明変数と同数\n",
    "pca = PCA(n_components=None)\n",
    "\n",
    "# 学習結果を DataFrame\n",
    "X_transformed = pd.DataFrame(pca.fit_transform(X_std))\n",
    "\n",
    "# 結果\n",
    "# - explained_variance_ratio_: 各主成分が元のデータを説明する割合\n",
    "print('各次元の説明率: {}'.format(pca.explained_variance_ratio_))\n",
    "print('累積説明率: {:.3f}'.format(sum(pca.explained_variance_ratio_)))"
   ]
  },
  {
   "cell_type": "markdown",
   "metadata": {},
   "source": [
    "3値の時とは、若干異なる結果\n",
    "\n",
    "### ロジスティック回帰による分類\n",
    "\n",
    "- 主成分の数を変えて分類"
   ]
  },
  {
   "cell_type": "code",
   "execution_count": null,
   "metadata": {},
   "outputs": [],
   "source": [
    "from sklearn.linear_model import LogisticRegression\n",
    "from sklearn.metrics import roc_curve, auc\n",
    "\n",
    "def Logistic_Model(X, Y):\n",
    "    \"\"\"\n",
    "    ロジスティック回帰モデルを作成\n",
    "    \"\"\"\n",
    "    model = LogisticRegression(C=10000.0, max_iter=10000000)\n",
    "    model.fit(X, Y)\n",
    "    return model\n",
    "\n",
    "def calc_AUC(model, X, Y):\n",
    "    \"\"\"\n",
    "    AUCの算出\n",
    "    \"\"\"\n",
    "    Y_proba = model.predict_proba(X)\n",
    "    fpr, tpr, thresholds = roc_curve(Y, Y_proba[:, 1])\n",
    "    return auc(fpr, tpr)"
   ]
  },
  {
   "cell_type": "markdown",
   "metadata": {},
   "source": [
    "- 主成分による分類"
   ]
  },
  {
   "cell_type": "code",
   "execution_count": null,
   "metadata": {},
   "outputs": [],
   "source": [
    "# 目的変数：species_virginica 列　\n",
    "Y = iris_dummies['species_virginica']\n",
    "\n",
    "for n in range(1, 5):\n",
    "    X_df = X_transformed.iloc[:, 0:n]\n",
    "    model = Logistic_Model(X_df, Y)\n",
    "    AUC = calc_AUC(model, X_df, Y)\n",
    "    print('n={}: AUC={:.3f}'.format(n, AUC))"
   ]
  },
  {
   "cell_type": "markdown",
   "metadata": {},
   "source": [
    "- もとのデータによる分類"
   ]
  },
  {
   "cell_type": "code",
   "execution_count": null,
   "metadata": {},
   "outputs": [],
   "source": [
    "model = Logistic_Model(X, Y)\n",
    "AUC = calc_AUC(model, X, Y)\n",
    "print('AUC={:.3f}'.format(AUC))"
   ]
  },
  {
   "cell_type": "markdown",
   "metadata": {},
   "source": [
    "主成分3つで、もとのデータと同じAUCで分類可能"
   ]
  }
 ],
 "metadata": {
  "kernelspec": {
   "display_name": "Python 3 (ipykernel)",
   "language": "python",
   "name": "python3"
  },
  "language_info": {
   "codemirror_mode": {
    "name": "ipython",
    "version": 3
   },
   "file_extension": ".py",
   "mimetype": "text/x-python",
   "name": "python",
   "nbconvert_exporter": "python",
   "pygments_lexer": "ipython3",
   "version": "3.8.11"
  }
 },
 "nbformat": 4,
 "nbformat_minor": 4
}
