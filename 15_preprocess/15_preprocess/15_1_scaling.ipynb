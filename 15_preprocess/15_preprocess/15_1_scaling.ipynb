{
 "cells": [
  {
   "cell_type": "markdown",
   "metadata": {},
   "source": [
    "<img src='slides/19.png'>"
   ]
  },
  {
   "cell_type": "code",
   "execution_count": null,
   "metadata": {},
   "outputs": [],
   "source": [
    "import pandas as pd\n",
    "import seaborn as sns\n",
    "\n",
    "iris = sns.load_dataset('iris')\n",
    "\n",
    "# species 列を削除\n",
    "X = iris.drop(['species'], axis=1)"
   ]
  },
  {
   "cell_type": "markdown",
   "metadata": {},
   "source": [
    "### 正規化 (Normalization)\n",
    "\n",
    "データが0から1の範囲に収まるように変換"
   ]
  },
  {
   "cell_type": "code",
   "execution_count": null,
   "metadata": {},
   "outputs": [],
   "source": [
    "# 正規化\n",
    "from sklearn.preprocessing import MinMaxScaler\n",
    "\n",
    "# MinMaxScalerの初期化\n",
    "mm = MinMaxScaler()\n",
    "mm.fit(X)\n",
    "\n",
    "# transform() により変換した DataFrame を作成\n",
    "X_mm = pd.DataFrame(mm.transform(X), index=X.index, columns=X.columns)\n",
    "\n",
    "# species 列を付加\n",
    "X_mm['species'] = iris['species']\n",
    "\n",
    "# species で色分けした散布図\n",
    "sns.pairplot(X_mm, hue='species')"
   ]
  },
  {
   "cell_type": "markdown",
   "metadata": {},
   "source": [
    "### 標準化 (Standardization)\n",
    "\n",
    "分布を標準偏差をもとに調整する方法"
   ]
  },
  {
   "cell_type": "code",
   "execution_count": null,
   "metadata": {},
   "outputs": [],
   "source": [
    "# 標準化\n",
    "from sklearn.preprocessing import StandardScaler\n",
    "\n",
    "# StandardScaler\n",
    "sc = StandardScaler()\n",
    "sc.fit(X)\n",
    "\n",
    "# transform() により変換した DataFrame を作成\n",
    "X_std = pd.DataFrame(sc.transform(X), index=X.index, columns=X.columns)\n",
    "\n",
    "# species 列を付加\n",
    "X_std['species'] = iris['species']\n",
    "\n",
    "# species で色分けした散布図\n",
    "sns.pairplot(X_std, hue='species')"
   ]
  },
  {
   "cell_type": "markdown",
   "metadata": {},
   "source": [
    "### K-Means によるクラスタリングの結果を比較"
   ]
  },
  {
   "cell_type": "code",
   "execution_count": null,
   "metadata": {},
   "outputs": [],
   "source": [
    "import matplotlib.pyplot as plt\n",
    "from sklearn.cluster import KMeans\n",
    "\n",
    "def kmeans_plot(df):\n",
    "    # 散布図で見やすいように、分類への影響が小さい sepal_length, sepal_width 列を削除\n",
    "    df= df.drop(['sepal_length', 'sepal_width', 'species'], axis=1)\n",
    "\n",
    "    # クラスタ数 3 で K-Means によりクラスタリング\n",
    "    model = KMeans(n_clusters=3)\n",
    "    model.fit(df)\n",
    "\n",
    "    # クラスタリング結果を散布図で描画\n",
    "    sns.scatterplot(x=df.petal_length, y=df.petal_width, hue=model.labels_)\n",
    "\n",
    "    # 重心をプロット\n",
    "    plt.scatter(model.cluster_centers_[:,0], model.cluster_centers_[:,1],\n",
    "                marker='*', color='red', s=150)\n",
    "    plt.show()"
   ]
  },
  {
   "cell_type": "markdown",
   "metadata": {},
   "source": [
    "- もとのデータ"
   ]
  },
  {
   "cell_type": "code",
   "execution_count": null,
   "metadata": {},
   "outputs": [],
   "source": [
    "kmeans_plot(iris)"
   ]
  },
  {
   "cell_type": "markdown",
   "metadata": {},
   "source": [
    "- MinMaxScalerで正規化\n",
    "  - 右側の近い2つのクラスタの境界で、微妙に違う程度の差。"
   ]
  },
  {
   "cell_type": "code",
   "execution_count": null,
   "metadata": {},
   "outputs": [],
   "source": [
    "kmeans_plot(X_mm)"
   ]
  },
  {
   "cell_type": "markdown",
   "metadata": {},
   "source": [
    "- StandardScalerで標準化"
   ]
  },
  {
   "cell_type": "code",
   "execution_count": null,
   "metadata": {},
   "outputs": [],
   "source": [
    "kmeans_plot(X_std)"
   ]
  },
  {
   "cell_type": "markdown",
   "metadata": {},
   "source": []
  }
 ],
 "metadata": {
  "kernelspec": {
   "display_name": "Python 3 (ipykernel)",
   "language": "python",
   "name": "python3"
  },
  "language_info": {
   "codemirror_mode": {
    "name": "ipython",
    "version": 3
   },
   "file_extension": ".py",
   "mimetype": "text/x-python",
   "name": "python",
   "nbconvert_exporter": "python",
   "pygments_lexer": "ipython3",
   "version": "3.8.11"
  }
 },
 "nbformat": 4,
 "nbformat_minor": 4
}
