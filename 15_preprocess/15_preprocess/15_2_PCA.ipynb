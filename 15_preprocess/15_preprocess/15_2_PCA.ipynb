{
 "cells": [
  {
   "cell_type": "markdown",
   "metadata": {},
   "source": [
    "<img src='slides/29.png'>"
   ]
  },
  {
   "cell_type": "code",
   "execution_count": null,
   "metadata": {},
   "outputs": [],
   "source": [
    "import pandas as pd\n",
    "import seaborn as sns\n",
    "from matplotlib import pyplot as plt\n",
    "\n",
    "iris = sns.load_dataset('iris')\n",
    "\n",
    "# species 列を削除\n",
    "X = iris.drop(['species'], axis=1)\n",
    "\n",
    "# 標準化\n",
    "# - 主成分分析では分散（平均値からのばらつき）を用いるため\n",
    "#   標準化により平均値を 0 に揃える\n",
    "from sklearn.preprocessing import StandardScaler\n",
    "sc = StandardScaler()\n",
    "sc.fit(X)\n",
    "\n",
    "# 標準化した DataFrame\n",
    "X_std = pd.DataFrame(sc.transform(X), index=X.index, columns=X.columns)"
   ]
  },
  {
   "cell_type": "markdown",
   "metadata": {},
   "source": [
    "### 全ての主成分の説明率\n",
    "\n",
    "- 主成分はもとの説明変数と同数\n",
    "- 各主成分が元のデータを説明する割合（説明率）"
   ]
  },
  {
   "cell_type": "code",
   "execution_count": null,
   "metadata": {},
   "outputs": [],
   "source": [
    "from sklearn.decomposition import PCA\n",
    "\n",
    "# 主成分分析 PCA の初期化\n",
    "# - n_components=None: 主成分はもとの説明変数と同数\n",
    "pca = PCA(n_components=None)\n",
    "\n",
    "# 学習結果を DataFrame\n",
    "X_transformed = pd.DataFrame(pca.fit_transform(X_std))\n",
    "\n",
    "# 結果\n",
    "# - explained_variance_ratio_: 各主成分が元のデータを説明する割合\n",
    "print('各次元の説明率: {}'.format(pca.explained_variance_ratio_))\n",
    "print('累積説明率: {:.3f}'.format(sum(pca.explained_variance_ratio_)))"
   ]
  },
  {
   "cell_type": "markdown",
   "metadata": {},
   "source": [
    "### それぞれの主成分の分布"
   ]
  },
  {
   "cell_type": "code",
   "execution_count": null,
   "metadata": {},
   "outputs": [],
   "source": [
    "X_transformed['species'] = iris['species']\n",
    "\n",
    "for n in range(1, 5):\n",
    "    # 先頭から説明率を取り出す\n",
    "    ratio = pca.explained_variance_ratio_[0:n]\n",
    "    # 主成分と species を取り出した DataFrame\n",
    "    i = list(range(n))\n",
    "    i.append('species')\n",
    "    df = X_transformed.loc[:, i]\n",
    "\n",
    "    print('n_components =', n)\n",
    "    print('各次元の説明率: {}'.format(ratio))\n",
    "    print('累積説明率: {:.3f}'.format(sum(ratio)))\n",
    "    # 主成分の散布図\n",
    "    df['species'] = iris['species']\n",
    "    sns.pairplot(df, hue='species')\n",
    "    plt.show()"
   ]
  },
  {
   "cell_type": "code",
   "execution_count": null,
   "metadata": {},
   "outputs": [],
   "source": []
  }
 ],
 "metadata": {
  "kernelspec": {
   "display_name": "Python 3 (ipykernel)",
   "language": "python",
   "name": "python3"
  },
  "language_info": {
   "codemirror_mode": {
    "name": "ipython",
    "version": 3
   },
   "file_extension": ".py",
   "mimetype": "text/x-python",
   "name": "python",
   "nbconvert_exporter": "python",
   "pygments_lexer": "ipython3",
   "version": "3.8.11"
  }
 },
 "nbformat": 4,
 "nbformat_minor": 4
}
