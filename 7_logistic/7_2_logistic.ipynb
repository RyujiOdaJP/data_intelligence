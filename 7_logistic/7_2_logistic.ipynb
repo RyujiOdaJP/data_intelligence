{
 "cells": [
  {
   "cell_type": "markdown",
   "metadata": {},
   "source": [
    "### AUCの比較\n",
    "\n",
    "分布の重なりが異なるデータで、精度およびAUCがどのように変化するかを比較する。"
   ]
  },
  {
   "cell_type": "code",
   "execution_count": null,
   "metadata": {},
   "outputs": [],
   "source": [
    "import pandas as pd\n",
    "import seaborn as sns\n",
    "from sklearn.linear_model import LogisticRegression\n",
    "from sklearn.metrics import accuracy_score, precision_score, recall_score\n",
    "from sklearn.metrics import roc_curve, auc\n",
    "import matplotlib.pyplot as plt\n",
    "\n",
    "# matplotlib: 日本語フォントの設定\n",
    "from matplotlib import rcParams\n",
    "rcParams['font.family'] = 'sans-serif'\n",
    "rcParams['font.sans-serif'] = ['Hiragino Maru Gothic Pro', 'Yu Gothic', 'Meirio', \n",
    "                               'Takao', 'IPAexGothic', 'IPAPGothic', 'Noto Sans CJK JP']\n",
    "\n",
    "# Irisデータセットの読み込み\n",
    "iris = sns.load_dataset('iris')\n",
    "\n",
    "# species が setosa のデータを除去\n",
    "df = iris.query('species!=\"setosa\"')\n",
    "\n",
    "# ダミー変数化\n",
    "df = pd.get_dummies(data=df, drop_first=True)\n",
    "df.iloc[[0, 50]]\n",
    "\n",
    "# ロジスティック回帰\n",
    "model = LogisticRegression(C=10000.0)"
   ]
  },
  {
   "cell_type": "code",
   "execution_count": null,
   "metadata": {},
   "outputs": [],
   "source": [
    "# dfの列名から 'species_virginica' を除去し、それぞれについて、for ループ内を実行\n",
    "for X_label in df.columns.drop('species_virginica'):\n",
    "    # 説明変数、目的変数\n",
    "    X = df[[X_label]]\n",
    "    Y = df.species_virginica\n",
    "\n",
    "    # ロジスティック回帰モデルを作成\n",
    "    model.fit(X, Y)\n",
    "\n",
    "    # 正確度、適合度、再現率（感度）\n",
    "    Y_predict = model.predict(X)\n",
    "    print('{:12}: 正確度: {:.3f}, 適合度: {:.3f}, 再現率: {:.3f}'.format(X_label,\n",
    "        accuracy_score(Y, Y_predict), precision_score(Y, Y_predict),\n",
    "        recall_score(Y, Y_predict)))\n",
    "\n",
    "    # 係数\n",
    "    #print('{:<12.3f}'.format(model.coef_[0][0]))\n",
    "    \n",
    "    # ROC曲線, AUC\n",
    "    Y_proba = model.predict_proba(X)\n",
    "    fpr, tpr, thresholds = roc_curve(Y, Y_proba[:, 1])\n",
    "    plt.plot(fpr, tpr, label='{:12}: AUC={:.3f}'.format(X_label, auc(fpr, tpr)))\n",
    "    plt.legend()\n",
    "\n",
    "plt.xlabel('偽陽性率 (FP率)')\n",
    "plt.ylabel('真陽性率 (TP率)')\n",
    "plt.title('ROC曲線')\n",
    "plt.show()"
   ]
  },
  {
   "cell_type": "markdown",
   "metadata": {},
   "source": [
    "散布図でのデータの重なりと、精度およびAUCを比較する。\n",
    "\n",
    "- 重なりが少なく、うまく分類できそうな petal_length, petal_width\n",
    "- 重なりが多く、分類が難しそうな sepal_length, sepal_width"
   ]
  },
  {
   "cell_type": "code",
   "execution_count": null,
   "metadata": {},
   "outputs": [],
   "source": [
    "# 散布図\n",
    "sns.pairplot(iris.query('species!=\"setosa\"'), hue='species')"
   ]
  },
  {
   "cell_type": "code",
   "execution_count": null,
   "metadata": {},
   "outputs": [],
   "source": []
  }
 ],
 "metadata": {
  "kernelspec": {
   "display_name": "Python 3 (ipykernel)",
   "language": "python",
   "name": "python3"
  },
  "language_info": {
   "codemirror_mode": {
    "name": "ipython",
    "version": 3
   },
   "file_extension": ".py",
   "mimetype": "text/x-python",
   "name": "python",
   "nbconvert_exporter": "python",
   "pygments_lexer": "ipython3",
   "version": "3.8.11"
  }
 },
 "nbformat": 4,
 "nbformat_minor": 4
}
