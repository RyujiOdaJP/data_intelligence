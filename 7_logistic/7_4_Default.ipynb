{
 "cells": [
  {
   "cell_type": "markdown",
   "metadata": {},
   "source": [
    "## クレジットカードの債務不履行についてのデータセット\n",
    "\n",
    "データの取得\n",
    "- Rによる統計的学習入門, 朝倉書店, 2018.<br>\n",
    "An Introduction to Statistical Learning with Applications in R, Springer, 2017.<br>\n",
    "http://faculty.marshall.usc.edu/gareth-james/ISL/index.html<br>\n",
    "https://cran.r-project.org/web/packages/ISLR/index.html\n",
    "\n",
    "データの説明\n",
    "- default :\tクレジットカードの債務不履行\n",
    "- student : \t学生\n",
    "- balance : \tクレジットカードの債務残高\n",
    "- income : \t年収\n",
    "\n",
    "内容を確認<br>\n",
    "- \"default\",\"student\",\"balance\",\"income\""
   ]
  },
  {
   "cell_type": "code",
   "execution_count": null,
   "metadata": {},
   "outputs": [],
   "source": [
    "import pandas as pd\n",
    "import numpy as np\n",
    "import seaborn as sns\n",
    "from matplotlib import pyplot as plt\n",
    "\n",
    "default = pd.read_csv('data/Default.csv')\n",
    "# 列ごとの欠損値の数\n",
    "default.isna().sum()"
   ]
  },
  {
   "cell_type": "code",
   "execution_count": null,
   "metadata": {},
   "outputs": [],
   "source": [
    "# データの確認\n",
    "default.head(2)"
   ]
  },
  {
   "cell_type": "markdown",
   "metadata": {},
   "source": [
    "- default :\tクレジットカードの債務不履行\n",
    "- student : \t学生\n",
    "- balance : \tクレジットカードの債務残高\n",
    "- income : \t年収"
   ]
  },
  {
   "cell_type": "code",
   "execution_count": null,
   "metadata": {},
   "outputs": [],
   "source": [
    "default.groupby('default').size()"
   ]
  },
  {
   "cell_type": "code",
   "execution_count": null,
   "metadata": {},
   "outputs": [],
   "source": [
    "# default, student のダミー変数化\n",
    "df = pd.get_dummies(data=default, drop_first=True)\n",
    "# データの確認\n",
    "df.head(2)"
   ]
  },
  {
   "cell_type": "markdown",
   "metadata": {},
   "source": [
    "default が Yes の時に 1, student も Yes の時に 1　となるようにダミー変数化されている。"
   ]
  },
  {
   "cell_type": "code",
   "execution_count": null,
   "metadata": {},
   "outputs": [],
   "source": [
    "# ダミー変数化された default_Yes の確認\n",
    "df.groupby('default_Yes').size()"
   ]
  },
  {
   "cell_type": "markdown",
   "metadata": {},
   "source": [
    "ダミー変数化する前(Yes/No)後(1/0)で同じ数になっている。\n",
    "\n",
    "<hr>\n",
    "\n",
    "### データを眺める"
   ]
  },
  {
   "cell_type": "code",
   "execution_count": null,
   "metadata": {},
   "outputs": [],
   "source": [
    "# 散布図\n",
    "# - 債務不履行 (default_Yes==1) の方がかなり少ない（約3%）のため、傾向が見にくい\n",
    "sns.scatterplot(x=df.balance, y=df.income, hue=df.default_Yes)"
   ]
  },
  {
   "cell_type": "code",
   "execution_count": null,
   "metadata": {},
   "outputs": [],
   "source": [
    "# 散布図\n",
    "# - 債務不履行 Yes/No を同数にして、傾向をみやすくする\n",
    "df_plot = df.query('default_Yes==0').sample(n=df.groupby('default_Yes').size()[1])\n",
    "df_plot = df_plot.append(df.query('default_Yes==1'))\n",
    "sns.scatterplot(x=df_plot.balance, y=df_plot.income, hue=df_plot.default_Yes)"
   ]
  },
  {
   "cell_type": "markdown",
   "metadata": {},
   "source": [
    "上記の散布図からは、債務不履行になる人はY軸 (income) 方向には散らばっているが、X軸 (balance) 方向には偏りがあり、債務不履行になる人は債務残高が多い傾向にあるように見える"
   ]
  },
  {
   "cell_type": "code",
   "execution_count": null,
   "metadata": {},
   "outputs": [],
   "source": [
    "# ボックスプロット\n",
    "# - Y軸を balance, income のそれぞれで描画し、分布を比較\n",
    "sns.boxplot(x=df.default_Yes, y=df.balance)\n",
    "plt.show()\n",
    "sns.boxplot(x=df.default_Yes, y=df.income)"
   ]
  },
  {
   "cell_type": "markdown",
   "metadata": {},
   "source": [
    "上のボックスプロットからは、散布図と同様に、債務残高 (balance) が高い人が債務不履行になりやすい関係にあるように見える一方で、年収 (income) とはあまり関係ないように見える。\n",
    "\n",
    "<hr>\n",
    "\n",
    "### ロジスティック回帰モデルの作成\n",
    "\n",
    "balance から default_Yes を予測。"
   ]
  },
  {
   "cell_type": "code",
   "execution_count": null,
   "metadata": {},
   "outputs": [],
   "source": [
    "from sklearn.linear_model import LogisticRegression\n",
    "from sklearn.metrics import roc_curve, auc\n",
    "\n",
    "# 散布図にシグモイド曲線を重ねて表示\n",
    "def sigmoid(x, b0, b1):\n",
    "    return 1/(1 + np.exp(-(b0 + b1 * x)))\n",
    "\n",
    "def Logistic_Model(X, Y):\n",
    "    \"\"\"\n",
    "    ロジスティック回帰モデルを作成\n",
    "    \"\"\"\n",
    "    model = LogisticRegression(C=10000.0)\n",
    "    model.fit(X, Y)\n",
    "    return model\n",
    "\n",
    "def Logistic_Plot(model, X, Y):\n",
    "    # 散布図\n",
    "    sns.scatterplot(x=X.iloc[:,0], y=Y)\n",
    "\n",
    "    # パラメータ\n",
    "    b0 = model.intercept_[0]\n",
    "    b1 = model.coef_[0][0]\n",
    "\n",
    "    # y=0.5となる分割線\n",
    "    boundary = -b0 / b1\n",
    "    plt.plot([boundary, boundary], [0, 1], color='lightblue')\n",
    "\n",
    "    # シグモイド曲線\n",
    "    _max = X.iloc[:,0].max()\n",
    "    _min = X.iloc[:,0].min()\n",
    "    _step = (_max - _min) / 100\n",
    "    _X = np.arange(_min, _max + _step, _step)\n",
    "    plt.plot(_X, sigmoid(_X, b0, b1), color='brown')\n",
    "    \n",
    "    return boundary\n",
    "\n",
    "def calc_AUC(model, X, Y):\n",
    "    \"\"\"\n",
    "    AUCの算出\n",
    "    \"\"\"\n",
    "    Y_proba = model.predict_proba(X)\n",
    "    fpr, tpr, thresholds = roc_curve(Y, Y_proba[:, 1])\n",
    "    return auc(fpr, tpr)"
   ]
  },
  {
   "cell_type": "code",
   "execution_count": null,
   "metadata": {},
   "outputs": [],
   "source": [
    "# 説明変数、目的変数を作成\n",
    "X = df[['balance']]\n",
    "Y = df.default_Yes\n",
    "\n",
    "model = Logistic_Model(X, Y)\n",
    "boundary = Logistic_Plot(model, X, Y)\n",
    "print('AUC={:.3f}'.format(calc_AUC(model, X, Y)))\n",
    "print('Boundary={:.0f}'.format(boundary))"
   ]
  },
  {
   "cell_type": "markdown",
   "metadata": {},
   "source": [
    "### ロジスティック回帰モデルを用いた予測"
   ]
  },
  {
   "cell_type": "code",
   "execution_count": null,
   "metadata": {},
   "outputs": [],
   "source": [
    "b0 = model.intercept_[0]\n",
    "b1 = model.coef_[0][0]\n",
    "print('b0={}, b1={}'.format(b0, b1))\n",
    "\n",
    "# balance = $1000, 1500, 2000, 2500 の時の債務不履行となる確率\n",
    "for balance in [1000, 1500, 2000, 2500]:\n",
    "    print('${}: {}'.format(balance, sigmoid(balance, b0, b1)))"
   ]
  },
  {
   "cell_type": "markdown",
   "metadata": {},
   "source": [
    "債務残高が $1000の時は債務不履行となる確率は非常に低いが、1500 を超えてからは急に確率は高くなっていく。"
   ]
  },
  {
   "cell_type": "code",
   "execution_count": null,
   "metadata": {},
   "outputs": [],
   "source": [
    "# predict_proba(): 予測された確率\n",
    "# - 引数: 2次元配列（複数の説明変数の列）\n",
    "# - 戻り値: 2次元配列（各列に対応した 0: y=0 となる確率, 1: y=1 となる確率\n",
    "for balance in [1000, 1500, 2000, 2500]:\n",
    "    print('${}: {}'.format(balance, model.predict_proba([[balance]])[0][1]))"
   ]
  },
  {
   "cell_type": "markdown",
   "metadata": {},
   "source": [
    "<hr>\n",
    "\n",
    "### ダミー変数を説明変数としたモデル"
   ]
  },
  {
   "cell_type": "code",
   "execution_count": null,
   "metadata": {},
   "outputs": [],
   "source": [
    "# 説明変数、目的変数を作成\n",
    "X = df[['student_Yes']]\n",
    "Y = df.default_Yes\n",
    "\n",
    "model = Logistic_Model(X, Y)\n",
    "b0 = model.intercept_[0]\n",
    "b1 = model.coef_[0][0]\n",
    "print('b0={}, b1={}'.format(b0, b1))\n",
    "for student in [0, 1]:\n",
    "    print('student={}: {}'.format(student, model.predict_proba([[student]])[0][1]))"
   ]
  },
  {
   "cell_type": "markdown",
   "metadata": {},
   "source": [
    "回帰係数 β_1 は正であり、予測値からも、学生の方が債務不履行となる確率が高い。\n",
    "\n",
    "<hr>\n",
    "\n",
    "### 複数の説明変数を用いるロジスティック回帰"
   ]
  },
  {
   "cell_type": "code",
   "execution_count": null,
   "metadata": {},
   "outputs": [],
   "source": [
    "# 説明変数、目的変数を作成\n",
    "Y_label = 'default_Yes'\n",
    "X = df.drop([Y_label], axis=1)\n",
    "Y = df[Y_label]\n",
    "\n",
    "model = Logistic_Model(X, Y)\n",
    "print('AUC={:.3f}'.format(calc_AUC(model, X, Y)))"
   ]
  },
  {
   "cell_type": "code",
   "execution_count": null,
   "metadata": {},
   "outputs": [],
   "source": [
    "pd.DataFrame(model.coef_[0].reshape(1, 3), index=['係数'], columns=X.columns)"
   ]
  },
  {
   "cell_type": "markdown",
   "metadata": {},
   "source": [
    "student_Yes のみを説明変数とした時には、係数は正で、学生の方が債務不履行となる確率が高い、という結果だったにも関わらず、他の説明変数と合わせて複数の説明変数を用いた場合は、student_Yes の係数は負になっており、学生の方が債務不履行となる確率が低いという結果になった。"
   ]
  },
  {
   "cell_type": "code",
   "execution_count": null,
   "metadata": {},
   "outputs": [],
   "source": [
    "# 学生ではない人が債務不履行となった割合\n",
    "_X0 = df.query('student_Yes==0').groupby('default_Yes').size()\n",
    "_P0 = _X0[1] / (_X0[0] + _X0[1])\n",
    "# 学生が債務不履行となった割合\n",
    "_X1 = df.query('student_Yes==1').groupby('default_Yes').size()\n",
    "_P1 = _X1[1] / (_X1[0] + _X1[1])\n",
    "print('一般: {:.3f}, 学生: {:.3f}'.format(_P0, _P1))"
   ]
  },
  {
   "cell_type": "markdown",
   "metadata": {},
   "source": [
    "student_Yes のみを説明変数とした時には、係数は正で、学生の方が債務不履行となる確率が高いという結果がでたとおり、学生が債務不履行となった割合の方が多い。"
   ]
  },
  {
   "cell_type": "code",
   "execution_count": null,
   "metadata": {},
   "outputs": [],
   "source": [
    "# 学生であるかどうかと債務残高の関係\n",
    "sns.boxplot(x=df.student_Yes, y=df.balance)"
   ]
  },
  {
   "cell_type": "markdown",
   "metadata": {},
   "source": [
    "また、学生であるかどうかと債務残高の関係を見ると、学生の方が債務残高が多い傾向にあり、債務残高が多さと学生であることに相関があることになり、多重共線性が疑われる。\n",
    "\n",
    "これらのことを合わせて考えると、balance, income を固定した場合には、学生である方が債務不履行となる確率は低いことになるが、実際には学生の方が債務残高が多いことから、学生の方が高い確率で債務不履行となる、と解釈することができる。"
   ]
  },
  {
   "cell_type": "code",
   "execution_count": null,
   "metadata": {},
   "outputs": [],
   "source": []
  }
 ],
 "metadata": {
  "kernelspec": {
   "display_name": "Python 3 (ipykernel)",
   "language": "python",
   "name": "python3"
  },
  "language_info": {
   "codemirror_mode": {
    "name": "ipython",
    "version": 3
   },
   "file_extension": ".py",
   "mimetype": "text/x-python",
   "name": "python",
   "nbconvert_exporter": "python",
   "pygments_lexer": "ipython3",
   "version": "3.8.11"
  }
 },
 "nbformat": 4,
 "nbformat_minor": 4
}
