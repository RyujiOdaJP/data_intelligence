{
 "cells": [
  {
   "cell_type": "markdown",
   "metadata": {},
   "source": [
    "## 定期預金の契約についてのデータセット\n",
    "\n",
    "データの取得\n",
    "- https://archive.ics.uci.edu/ml/machine-learning-databases/00222/bank.zip<br>\n",
    "bank.csv を使用\n",
    "\n",
    "データの説明\n",
    "- https://archive.ics.uci.edu/ml/datasets/bank+marketing\n",
    "\n",
    "内容を確認\n",
    "- \"age\";\"job\";\"marital\";\"education\";\"default\";\"balance\";\"housing\";\"loan\";\"contact\";\"day\";\"month\";\"duration\";\"campaign\";\"pdays\";\"previous\";\"poutcome\";\"y\"<br>\n",
    "30;\"unemployed\";\"married\";\"primary\";\"no\";1787;\"no\";\"no\";\"cellular\";19;\"oct\";79;1;-1;0;\"unknown\";\"no\"\n",
    "- \"y\" 定期預金を預けてくれたかどうか"
   ]
  },
  {
   "cell_type": "code",
   "execution_count": 42,
   "metadata": {},
   "outputs": [
    {
     "data": {
      "text/plain": [
       "y           0\n",
       "job         0\n",
       "campaign    0\n",
       "dtype: int64"
      ]
     },
     "execution_count": 42,
     "metadata": {},
     "output_type": "execute_result"
    }
   ],
   "source": [
    "import pandas as pd\n",
    "import numpy as np\n",
    "\n",
    "bank = pd.read_csv('data/bank.csv', sep=';')\n",
    "\n",
    "# 使用する列のみからなる DataFrame を作成\n",
    "bank = bank[['y', 'job', 'campaign']]\n",
    "\n",
    "# 'y'列のダミー変数化: yes->1, no->0\n",
    "bank['y'] = bank['y'].map(lambda x: 1 if x == 'yes' else 0)\n",
    "\n",
    "# 列ごとの欠損値の数\n",
    "bank.isna().sum()"
   ]
  },
  {
   "cell_type": "code",
   "execution_count": 43,
   "metadata": {},
   "outputs": [
    {
     "data": {
      "text/html": [
       "<div>\n",
       "<style scoped>\n",
       "    .dataframe tbody tr th:only-of-type {\n",
       "        vertical-align: middle;\n",
       "    }\n",
       "\n",
       "    .dataframe tbody tr th {\n",
       "        vertical-align: top;\n",
       "    }\n",
       "\n",
       "    .dataframe thead th {\n",
       "        text-align: right;\n",
       "    }\n",
       "</style>\n",
       "<table border=\"1\" class=\"dataframe\">\n",
       "  <thead>\n",
       "    <tr style=\"text-align: right;\">\n",
       "      <th></th>\n",
       "      <th>y</th>\n",
       "      <th>job</th>\n",
       "      <th>campaign</th>\n",
       "    </tr>\n",
       "  </thead>\n",
       "  <tbody>\n",
       "    <tr>\n",
       "      <th>0</th>\n",
       "      <td>0</td>\n",
       "      <td>unemployed</td>\n",
       "      <td>1</td>\n",
       "    </tr>\n",
       "    <tr>\n",
       "      <th>1</th>\n",
       "      <td>0</td>\n",
       "      <td>services</td>\n",
       "      <td>1</td>\n",
       "    </tr>\n",
       "  </tbody>\n",
       "</table>\n",
       "</div>"
      ],
      "text/plain": [
       "   y         job  campaign\n",
       "0  0  unemployed         1\n",
       "1  0    services         1"
      ]
     },
     "execution_count": 43,
     "metadata": {},
     "output_type": "execute_result"
    }
   ],
   "source": [
    "bank.head(2)"
   ]
  },
  {
   "cell_type": "markdown",
   "metadata": {},
   "source": [
    "- y: 定期預金を契約したか（目的変数）\n",
    "- job: 職種\n",
    "- campaign: 勧誘のコンタクト回数"
   ]
  },
  {
   "cell_type": "code",
   "execution_count": 44,
   "metadata": {},
   "outputs": [],
   "source": [
    "import seaborn as sns\n",
    "from matplotlib import pyplot as plt\n",
    "bank['employed'] = bank['job'].map(lambda x: 0 if\n",
    "                              x == 'retired' or\n",
    "                              x == 'student' or\n",
    "                              x == 'unemployed' or\n",
    "                              x == 'unknown'\n",
    "                              else 1)\n",
    "bank = bank[['y', 'campaign', 'employed']]      "
   ]
  },
  {
   "cell_type": "code",
   "execution_count": 45,
   "metadata": {},
   "outputs": [
    {
     "data": {
      "text/plain": [
       "<AxesSubplot:xlabel='campaign', ylabel='employed'>"
      ]
     },
     "execution_count": 45,
     "metadata": {},
     "output_type": "execute_result"
    },
    {
     "data": {
      "image/png": "[encoded data removed]",
      "text/plain": [
       "<Figure size 432x288 with 1 Axes>"
      ]
     },
     "metadata": {
      "needs_background": "light"
     },
     "output_type": "display_data"
    }
   ],
   "source": [
    "sns.scatterplot(x=bank.campaign, y=bank.employed, hue=bank.y)"
   ]
  },
  {
   "cell_type": "code",
   "execution_count": 46,
   "metadata": {},
   "outputs": [
    {
     "data": {
      "text/plain": [
       "12123"
      ]
     },
     "execution_count": 46,
     "metadata": {},
     "output_type": "execute_result"
    }
   ],
   "source": [
    "bank.query(\"employed==1\").size"
   ]
  },
  {
   "cell_type": "code",
   "execution_count": 47,
   "metadata": {},
   "outputs": [
    {
     "data": {
      "text/plain": [
       "13563"
      ]
     },
     "execution_count": 47,
     "metadata": {},
     "output_type": "execute_result"
    }
   ],
   "source": [
    "bank.size"
   ]
  },
  {
   "cell_type": "code",
   "execution_count": 48,
   "metadata": {},
   "outputs": [
    {
     "data": {
      "text/plain": [
       "1440"
      ]
     },
     "execution_count": 48,
     "metadata": {},
     "output_type": "execute_result"
    }
   ],
   "source": [
    "bank.query(\"employed==0\").size"
   ]
  },
  {
   "cell_type": "code",
   "execution_count": 49,
   "metadata": {},
   "outputs": [],
   "source": [
    "from sklearn.linear_model import LogisticRegression\n",
    "from sklearn.metrics import roc_curve, auc\n",
    "\n",
    "# 散布図にシグモイド曲線を重ねて表示\n",
    "def sigmoid(x, b0, b1):\n",
    "    return 1/(1 + np.exp(-(b0 + b1 * x)))\n",
    "\n",
    "def Logistic_Model(X, Y):\n",
    "    \"\"\"\n",
    "    ロジスティック回帰モデルを作成\n",
    "    \"\"\"\n",
    "    model = LogisticRegression(C=10000.0)\n",
    "    model.fit(X, Y)\n",
    "    return model\n",
    "\n",
    "def Logistic_Plot(model, X, Y):\n",
    "    # 散布図\n",
    "    sns.scatterplot(x=X.iloc[:,0], y=Y)\n",
    "\n",
    "    # パラメータ\n",
    "    b0 = model.intercept_[0]\n",
    "    b1 = model.coef_[0][0]\n",
    "\n",
    "    # y=0.5となる分割線\n",
    "    boundary = -b0 / b1\n",
    "    plt.plot([boundary, boundary], [0, 1], color='lightblue')\n",
    "\n",
    "    # シグモイド曲線\n",
    "    _max = X.iloc[:,0].max()\n",
    "    _min = X.iloc[:,0].min()\n",
    "    _step = (_max - _min) / 100\n",
    "    _X = np.arange(_min, _max + _step, _step)\n",
    "    plt.plot(_X, sigmoid(_X, b0, b1), color='brown')\n",
    "    \n",
    "    return boundary\n",
    "\n",
    "def calc_AUC(model, X, Y):\n",
    "    \"\"\"\n",
    "    AUCの算出\n",
    "    \"\"\"\n",
    "    Y_proba = model.predict_proba(X)\n",
    "    fpr, tpr, thresholds = roc_curve(Y, Y_proba[:, 1])\n",
    "    return auc(fpr, tpr)"
   ]
  },
  {
   "cell_type": "code",
   "execution_count": 50,
   "metadata": {},
   "outputs": [
    {
     "name": "stdout",
     "output_type": "stream",
     "text": [
      "AUC=0.579\n",
      "Boundary=-13\n"
     ]
    },
    {
     "data": {
      "image/png": "[encoded data removed]",
      "text/plain": [
       "<Figure size 432x288 with 1 Axes>"
      ]
     },
     "metadata": {
      "needs_background": "light"
     },
     "output_type": "display_data"
    }
   ],
   "source": [
    "# 説明変数、目的変数を作成\n",
    "X = bank[['campaign', 'employed']]\n",
    "Y = bank.y\n",
    "\n",
    "model = Logistic_Model(X, Y)\n",
    "boundary = Logistic_Plot(model, X, Y)\n",
    "print('AUC={:.3f}'.format(calc_AUC(model, X, Y)))\n",
    "print('Boundary={:.0f}'.format(boundary))"
   ]
  },
  {
   "cell_type": "code",
   "execution_count": 52,
   "metadata": {},
   "outputs": [
    {
     "name": "stdout",
     "output_type": "stream",
     "text": [
      "AUC=0.541\n",
      "Boundary=-2\n"
     ]
    },
    {
     "data": {
      "image/png": "[encoded data removed]",
      "text/plain": [
       "<Figure size 432x288 with 1 Axes>"
      ]
     },
     "metadata": {
      "needs_background": "light"
     },
     "output_type": "display_data"
    }
   ],
   "source": [
    "# 説明変数、目的変数を作成\n",
    "X = bank[['employed']]\n",
    "Y = bank.y\n",
    "\n",
    "model = Logistic_Model(X, Y)\n",
    "boundary = Logistic_Plot(model, X, Y)\n",
    "print('AUC={:.3f}'.format(calc_AUC(model, X, Y)))\n",
    "print('Boundary={:.0f}'.format(boundary))"
   ]
  }
 ],
 "metadata": {
  "kernelspec": {
   "display_name": "Python 3 (ipykernel)",
   "language": "python",
   "name": "python3"
  },
  "language_info": {
   "codemirror_mode": {
    "name": "ipython",
    "version": 3
   },
   "file_extension": ".py",
   "mimetype": "text/x-python",
   "name": "python",
   "nbconvert_exporter": "python",
   "pygments_lexer": "ipython3",
   "version": "3.8.11"
  }
 },
 "nbformat": 4,
 "nbformat_minor": 4
}
