{
 "cells": [
  {
   "cell_type": "markdown",
   "metadata": {},
   "source": [
    "## 定期預金の契約についてのデータセット\n",
    "\n",
    "データの取得\n",
    "- https://archive.ics.uci.edu/ml/machine-learning-databases/00222/bank.zip<br>\n",
    "bank.csv を使用\n",
    "\n",
    "データの説明\n",
    "- https://archive.ics.uci.edu/ml/datasets/bank+marketing\n",
    "\n",
    "内容を確認\n",
    "- \"age\";\"job\";\"marital\";\"education\";\"default\";\"balance\";\"housing\";\"loan\";\"contact\";\"day\";\"month\";\"duration\";\"campaign\";\"pdays\";\"previous\";\"poutcome\";\"y\"<br>\n",
    "30;\"unemployed\";\"married\";\"primary\";\"no\";1787;\"no\";\"no\";\"cellular\";19;\"oct\";79;1;-1;0;\"unknown\";\"no\"\n",
    "- \"y\" 定期預金を預けてくれたかどうか"
   ]
  },
  {
   "cell_type": "code",
   "execution_count": null,
   "metadata": {},
   "outputs": [],
   "source": [
    "import pandas as pd\n",
    "import numpy as np\n",
    "\n",
    "bank = pd.read_csv('data/bank.csv', sep=';')\n",
    "\n",
    "# 使用する列のみからなる DataFrame を作成\n",
    "bank = bank[['y', 'job', 'campaign']]\n",
    "\n",
    "# 'y'列のダミー変数化: yes->1, no->0\n",
    "bank['y'] = bank['y'].map(lambda x: 1 if x == 'yes' else 0)\n",
    "\n",
    "# 列ごとの欠損値の数\n",
    "bank.isna().sum()"
   ]
  },
  {
   "cell_type": "code",
   "execution_count": null,
   "metadata": {},
   "outputs": [],
   "source": [
    "bank.head(2)"
   ]
  },
  {
   "cell_type": "markdown",
   "metadata": {},
   "source": [
    "- y: 定期預金を契約したか（目的変数）\n",
    "- job: 職種\n",
    "- campaign: 勧誘のコンタクト回数"
   ]
  },
  {
   "cell_type": "code",
   "execution_count": null,
   "metadata": {},
   "outputs": [],
   "source": []
  }
 ],
 "metadata": {
  "kernelspec": {
   "display_name": "Python 3 (ipykernel)",
   "language": "python",
   "name": "python3"
  },
  "language_info": {
   "codemirror_mode": {
    "name": "ipython",
    "version": 3
   },
   "file_extension": ".py",
   "mimetype": "text/x-python",
   "name": "python",
   "nbconvert_exporter": "python",
   "pygments_lexer": "ipython3",
   "version": "3.8.11"
  }
 },
 "nbformat": 4,
 "nbformat_minor": 4
}
