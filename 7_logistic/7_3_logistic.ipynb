{
 "cells": [
  {
   "cell_type": "markdown",
   "metadata": {},
   "source": [
    "### 複数の説明変数を用いるロジスティック回帰"
   ]
  },
  {
   "cell_type": "code",
   "execution_count": null,
   "metadata": {},
   "outputs": [],
   "source": [
    "import pandas as pd\n",
    "import seaborn as sns\n",
    "from sklearn.linear_model import LogisticRegression\n",
    "from sklearn.metrics import roc_curve, auc\n",
    "import matplotlib.pyplot as plt\n",
    "\n",
    "# Irisデータセットの読み込み\n",
    "iris = sns.load_dataset('iris')\n",
    "\n",
    "# matplotlib: 日本語フォントの設定\n",
    "from matplotlib import rcParams\n",
    "rcParams['font.family'] = 'sans-serif'\n",
    "rcParams['font.sans-serif'] = ['Hiragino Maru Gothic Pro', 'Yu Gothic', 'Meirio', \n",
    "                               'Takao', 'IPAexGothic', 'IPAPGothic', 'Noto Sans CJK JP']"
   ]
  },
  {
   "cell_type": "code",
   "execution_count": null,
   "metadata": {},
   "outputs": [],
   "source": [
    "# species が setosa のデータを除去\n",
    "df = iris.query('species!=\"setosa\"')\n",
    "\n",
    "# ダミー変数化\n",
    "df = pd.get_dummies(data=df, drop_first=True)\n",
    "\n",
    "# 確認\n",
    "df.iloc[[0, 50]]"
   ]
  },
  {
   "cell_type": "markdown",
   "metadata": {},
   "source": [
    "7_2_logistic.ipynb でのAUCの比較では、petal_length が単一の説明変数では最もAUCが高かった。<br>\n",
    "petal_lengthと他の説明変数の組み合わせではどうなるかを比較する。"
   ]
  },
  {
   "cell_type": "code",
   "execution_count": null,
   "metadata": {},
   "outputs": [],
   "source": [
    "df.columns.drop('sepal_length')"
   ]
  },
  {
   "cell_type": "code",
   "execution_count": null,
   "metadata": {},
   "outputs": [],
   "source": [
    "# ロジスティック回帰モデルを作成\n",
    "model = LogisticRegression(C=10000.0)\n",
    "\n",
    "# 固定する説明変数\n",
    "x1_label = 'petal_length'\n",
    "\n",
    "# dfの列名から x1_label と 'species_virginica' を除去し、それぞれについて、for ループ内を実行\n",
    "for x2_label in df.columns.drop([x1_label, 'species_virginica']):\n",
    "    # 説明変数、目的変数\n",
    "    X = df[[x1_label, x2_label]]\n",
    "    Y = df.species_virginica\n",
    "\n",
    "    # ロジスティック回帰モデルを作成\n",
    "    model.fit(X, Y)\n",
    "\n",
    "    # ROC曲線, AUC\n",
    "    Y_proba = model.predict_proba(X)\n",
    "    fpr, tpr, thresholds = roc_curve(Y, Y_proba[:, 1])\n",
    "    plt.plot(fpr, tpr, label='{:12}, {:12}: AUC={:.3f}'.format(\n",
    "        x1_label, x2_label, auc(fpr, tpr)))\n",
    "    plt.legend()\n",
    "\n",
    "plt.xlabel('偽陽性率 (FP率)')\n",
    "plt.ylabel('真陽性率 (TP率)')\n",
    "plt.title('ROC曲線')\n",
    "plt.show()"
   ]
  },
  {
   "cell_type": "code",
   "execution_count": null,
   "metadata": {},
   "outputs": [],
   "source": []
  }
 ],
 "metadata": {
  "kernelspec": {
   "display_name": "Python 3 (ipykernel)",
   "language": "python",
   "name": "python3"
  },
  "language_info": {
   "codemirror_mode": {
    "name": "ipython",
    "version": 3
   },
   "file_extension": ".py",
   "mimetype": "text/x-python",
   "name": "python",
   "nbconvert_exporter": "python",
   "pygments_lexer": "ipython3",
   "version": "3.8.11"
  }
 },
 "nbformat": 4,
 "nbformat_minor": 4
}
