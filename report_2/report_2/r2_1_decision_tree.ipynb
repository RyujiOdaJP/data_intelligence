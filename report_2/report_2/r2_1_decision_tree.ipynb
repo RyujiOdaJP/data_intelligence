{
 "cells": [
  {
   "cell_type": "markdown",
   "metadata": {},
   "source": [
    "- 学修番号: 21445095\n",
    "- 氏名: 小田龍司"
   ]
  },
  {
   "cell_type": "markdown",
   "metadata": {},
   "source": [
    "# 課題 2.1　決定木分析\n",
    "\n",
    "- 2.1.1 AUCが最大になる max_depth\n",
    "- 2.1.2 決定木の描画\n",
    "- 2.1.3 散布図の描画"
   ]
  },
  {
   "cell_type": "code",
   "execution_count": null,
   "metadata": {},
   "outputs": [],
   "source": [
    "import pandas as pd\n",
    "import numpy as np\n",
    "import seaborn as sns\n",
    "from matplotlib import pyplot as plt\n",
    "from sklearn.tree import DecisionTreeClassifier, DecisionTreeRegressor\n",
    "from sklearn.model_selection import cross_val_score\n",
    "from sklearn.metrics import mean_squared_error, roc_curve, auc\n",
    "from sklearn.tree import plot_tree\n",
    "\n",
    "autos = pd.read_csv('data/imports-85.data', na_values='?')\n",
    "autos.columns = ['symboling', 'normalized_losses', 'make', 'fuel_type', 'aspiration',\n",
    "                    'num_of_doors', 'body_style', 'drive_wheels', 'engine_location',\n",
    "                    'wheel_base', 'length','width', 'height', 'curb_weight',\n",
    "                    'engine_type', 'num_of_cylinders', 'engine_size', 'fuel_system',\n",
    "                    'bore', 'stroke', 'compression_ratio', 'horsepower', 'peak_rpm',\n",
    "                    'city_mpg', 'highway_mpg','price']\n",
    "# 表示する最大列数の設定\n",
    "pd.set_option('display.max_columns', len(autos.columns))"
   ]
  },
  {
   "cell_type": "markdown",
   "metadata": {},
   "source": [
    "### 2.1 で用いるDataFrame\n",
    "\n",
    "autos から symboling, normalized_losses, city_mpg, highway_mpg 列を除外したうえで、highway_mpgから中央値よりも大きければ1、小さいか等しければ0を値としたhighway_mpg_01列を追加した pandas DataFrame を作成の後、欠損値 NaN がある行を除去。"
   ]
  },
  {
   "cell_type": "code",
   "execution_count": null,
   "metadata": {},
   "outputs": [],
   "source": [
    "df = autos.drop(['symboling', 'normalized_losses', 'city_mpg', 'highway_mpg'], axis=1)\n",
    "# ダミー変数化\n",
    "highway_mpg_median = autos.highway_mpg.median()\n",
    "df['highway_mpg_01'] = \\\n",
    "    autos['highway_mpg'].map(lambda x: 1 if x > highway_mpg_median else 0)\n",
    "df = pd.get_dummies(data=df, drop_first=True)\n",
    "# 欠損値 NaN がある行の除去\n",
    "df = df.dropna()\n",
    "# 確認\n",
    "print(df.groupby('highway_mpg_01').size())\n",
    "df.head(1)"
   ]
  },
  {
   "cell_type": "markdown",
   "metadata": {},
   "source": [
    "<hr>\n",
    "\n",
    "highway_mpg_01 を目的変数、それ以外を説明変数とし、決定木を用いて以下に答えなさい。\n",
    "- 分割の規準は、エントロピー (criterion='entropy') を用いること。\n",
    "\n",
    "### 2.1.1 AUCが最大になる max_depth\n",
    "\n",
    "交差検証により、AUCが最大になる max_depth を求めなさい。\n",
    "- 分割数は 10 とする。"
   ]
  },
  {
   "cell_type": "code",
   "execution_count": null,
   "metadata": {},
   "outputs": [],
   "source": []
  },
  {
   "cell_type": "markdown",
   "metadata": {},
   "source": [
    "<hr>\n",
    "\n",
    "### 2.1.2 決定木の描画\n",
    "\n",
    "2.1.1で求めた max_depth の決定木を描画しなさい。\n",
    "- class_names は適切に付けること。"
   ]
  },
  {
   "cell_type": "code",
   "execution_count": null,
   "metadata": {},
   "outputs": [],
   "source": []
  },
  {
   "cell_type": "markdown",
   "metadata": {},
   "source": [
    "<hr>\n",
    "\n",
    "### 2.1.3 散布図の描画\n",
    "\n",
    "2.1.2で作成した決定木における正規化された情報利得の総和の上位2つとなる説明変数の散布図を描画しなさい。\n",
    "- highway_mpg_01の値で色分けすること。\n",
    "- 2.1.2の説明変数のうち大きい方をX軸とすること。\n",
    "- 2.1.2で作成した決定木の情報から領域を分割する直線を重ねてひくこと。"
   ]
  },
  {
   "cell_type": "code",
   "execution_count": null,
   "metadata": {},
   "outputs": [],
   "source": []
  }
 ],
 "metadata": {
  "kernelspec": {
   "display_name": "Python 3 (ipykernel)",
   "language": "python",
   "name": "python3"
  },
  "language_info": {
   "codemirror_mode": {
    "name": "ipython",
    "version": 3
   },
   "file_extension": ".py",
   "mimetype": "text/x-python",
   "name": "python",
   "nbconvert_exporter": "python",
   "pygments_lexer": "ipython3",
   "version": "3.8.11"
  }
 },
 "nbformat": 4,
 "nbformat_minor": 4
}
