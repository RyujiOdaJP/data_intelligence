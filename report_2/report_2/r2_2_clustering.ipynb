{
 "cells": [
  {
   "cell_type": "markdown",
   "metadata": {},
   "source": [
    "- 学修番号: 21445095\n",
    "- 氏名: 小田龍司"
   ]
  },
  {
   "cell_type": "markdown",
   "metadata": {},
   "source": [
    "# 課題 2.2　クラスタ分析\n",
    "\n",
    "課題 2.2 クラスタ分析は、各自の興味に沿ったデータセットを取得し、分析してください。\n",
    "クラスタ分析は、教師なし学習であり、正解ラベルはありません。\n",
    "結果の解釈にはデータの理解が必要となりますので、興味があるデータについて分析してみてください。\n",
    "\n",
    "分析は、以下の 2.2.1 ~ 2.2.4 について行ってください。\n",
    "\n",
    "- 2.2.1 データセットの取得\n",
    "- 2.2.2 階層的クラスタ分析\n",
    "- 2.2.3 非階層的クラスタ分析\n",
    "- 2.2.4 考察"
   ]
  },
  {
   "cell_type": "markdown",
   "metadata": {
    "tags": []
   },
   "source": [
    "### 2.2.1 データセットの取得、読み込み\n",
    "\n",
    "2.2.1 では以下を行うこと。\n",
    "\n",
    "- データセットの取得方法を記載\n",
    "  - 取得、実行し、結果を確認できるように記載すること\n",
    "- データセットの説明を記載\n",
    "  - 処理内容を理解できるように説明を記載すること\n",
    "- データセットの読み込み\n",
    "  - （必要ならば）処理対象となるように加工"
   ]
  },
  {
   "cell_type": "code",
   "execution_count": null,
   "metadata": {},
   "outputs": [],
   "source": []
  },
  {
   "cell_type": "markdown",
   "metadata": {},
   "source": [
    "### 2.2.2 階層的クラスタ分析\n",
    "\n",
    "2.2.2 では以下を行うこと。必要ならば他の処理を記載しても構わない。\n",
    "\n",
    "- 樹形図（デンドログラム）の作成\n",
    "- ヒートマップ付きの樹形図の作成"
   ]
  },
  {
   "cell_type": "code",
   "execution_count": null,
   "metadata": {},
   "outputs": [],
   "source": []
  },
  {
   "cell_type": "markdown",
   "metadata": {},
   "source": [
    "### 2.2.3 非階層的クラスタ分析\n",
    "\n",
    "2.2.3 では以下を行うこと。必要ならば他の処理を記載しても構わない。\n",
    "\n",
    "- クラスタ数の推定\n",
    "  - エルボー法\n",
    "  - シルエット分析\n",
    "- KMeans法によるクラスタリング"
   ]
  },
  {
   "cell_type": "code",
   "execution_count": null,
   "metadata": {},
   "outputs": [],
   "source": []
  },
  {
   "cell_type": "markdown",
   "metadata": {},
   "source": [
    "### 2.2.4 考察\n",
    "\n",
    "- 階層的、非階層的クラスタ分析の結果について考察"
   ]
  },
  {
   "cell_type": "code",
   "execution_count": null,
   "metadata": {},
   "outputs": [],
   "source": []
  }
 ],
 "metadata": {
  "kernelspec": {
   "display_name": "Python 3 (ipykernel)",
   "language": "python",
   "name": "python3"
  },
  "language_info": {
   "codemirror_mode": {
    "name": "ipython",
    "version": 3
   },
   "file_extension": ".py",
   "mimetype": "text/x-python",
   "name": "python",
   "nbconvert_exporter": "python",
   "pygments_lexer": "ipython3",
   "version": "3.8.11"
  }
 },
 "nbformat": 4,
 "nbformat_minor": 4
}
