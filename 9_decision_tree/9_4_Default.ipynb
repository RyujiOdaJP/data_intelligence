{
 "cells": [
  {
   "cell_type": "markdown",
   "metadata": {},
   "source": [
    "## クレジットカードの債務不履行についてのデータセット\n",
    "\n",
    "データの取得\n",
    "- Rによる統計的学習入門, 朝倉書店, 2018.<br>\n",
    "An Introduction to Statistical Learning with Applications in R, Springer, 2017.<br>\n",
    "https://www.statlearning.com<br>\n",
    "https://cran.r-project.org/web/packages/ISLR/index.html\n",
    "\n",
    "データの説明\n",
    "- default :\tクレジットカードの債務不履行\n",
    "- student : \t学生\n",
    "- balance : \tクレジットカードの債務残高\n",
    "- income : \t年収\n",
    "\n",
    "内容を確認<br>\n",
    "- \"default\",\"student\",\"balance\",\"income\""
   ]
  },
  {
   "cell_type": "code",
   "execution_count": null,
   "metadata": {},
   "outputs": [],
   "source": [
    "import pandas as pd\n",
    "\n",
    "default = pd.read_csv('data/Default.csv')\n",
    "# 列ごとの欠損値の数\n",
    "print(default.isna().sum())\n",
    "# default, student のダミー変数化\n",
    "df = pd.get_dummies(data=default, drop_first=True)\n",
    "# データの確認\n",
    "df.head(2)"
   ]
  },
  {
   "cell_type": "markdown",
   "metadata": {},
   "source": [
    "- balance : \tクレジットカードの債務残高\n",
    "- income : \t年収\n",
    "- default_Yes :\tクレジットカードの債務不履行\n",
    "- student_Yes : \t学生"
   ]
  },
  {
   "cell_type": "code",
   "execution_count": null,
   "metadata": {},
   "outputs": [],
   "source": []
  }
 ],
 "metadata": {
  "kernelspec": {
   "display_name": "Python 3 (ipykernel)",
   "language": "python",
   "name": "python3"
  },
  "language_info": {
   "codemirror_mode": {
    "name": "ipython",
    "version": 3
   },
   "file_extension": ".py",
   "mimetype": "text/x-python",
   "name": "python",
   "nbconvert_exporter": "python",
   "pygments_lexer": "ipython3",
   "version": "3.8.11"
  }
 },
 "nbformat": 4,
 "nbformat_minor": 4
}
