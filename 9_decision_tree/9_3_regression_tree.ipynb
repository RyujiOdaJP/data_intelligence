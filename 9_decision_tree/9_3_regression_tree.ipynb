{
 "cells": [
  {
   "cell_type": "markdown",
   "metadata": {},
   "source": [
    "<img src='slides/8_36.png'><br>\n",
    "<img src='slides/8_37.png'>\n",
    "\n",
    "データの取得\n",
    "- Rによる統計的学習入門, 朝倉書店, 2018.<br>\n",
    "An Introduction to Statistical Learning with Applications in R, Springer, 2017.<br>\n",
    "https://www.statlearning.com<br>\n",
    "https://cran.r-project.org/web/packages/ISLR/index.html"
   ]
  },
  {
   "cell_type": "code",
   "execution_count": null,
   "metadata": {},
   "outputs": [],
   "source": [
    "import pandas as pd\n",
    "import numpy as np\n",
    "import matplotlib.pyplot as plt\n",
    "import seaborn as sns\n",
    "from sklearn.tree import DecisionTreeRegressor\n",
    "from sklearn.metrics import mean_squared_error\n",
    "from sklearn.tree import plot_tree"
   ]
  },
  {
   "cell_type": "code",
   "execution_count": null,
   "metadata": {},
   "outputs": [],
   "source": [
    "hitters = pd.read_csv('data/Hitters.csv')\n",
    "# 欠損値 NaN の個数\n",
    "print(\"欠損値の個数：\")\n",
    "print(hitters.isna().sum())\n",
    "# 欠損値 NaN を含む行の除去\n",
    "hitters = hitters.dropna()\n",
    "# 確認\n",
    "hitters"
   ]
  },
  {
   "cell_type": "markdown",
   "metadata": {},
   "source": [
    "使用するデータ\n",
    "- Hits: 年間ヒット数\n",
    "- Years: 在籍年数\n",
    "- Salary: 年俸"
   ]
  },
  {
   "cell_type": "code",
   "execution_count": null,
   "metadata": {},
   "outputs": [],
   "source": [
    "# 年俸のヒストグラム\n",
    "sns.histplot(data=hitters.Salary)"
   ]
  },
  {
   "cell_type": "code",
   "execution_count": null,
   "metadata": {},
   "outputs": [],
   "source": [
    "# 対数変換することで釣鐘の形に変換（正規分布に近似）\n",
    "sns.histplot(data=np.log(hitters.Salary))"
   ]
  },
  {
   "cell_type": "code",
   "execution_count": null,
   "metadata": {},
   "outputs": [],
   "source": [
    "# 'Years', 'Hits', 対数変換した Salary からなる DataFrame を作成\n",
    "df = hitters[['Years', 'Hits']]\n",
    "df = df.assign(Salary=np.log(hitters.Salary))\n",
    "df"
   ]
  },
  {
   "cell_type": "code",
   "execution_count": null,
   "metadata": {},
   "outputs": [],
   "source": [
    "# 説明変数、目的変数の作成\n",
    "X = df.drop(['Salary'], axis=1)\n",
    "Y = df.Salary\n",
    "\n",
    "# 回帰木を作成、MSEを表示\n",
    "# - max_depth: 最大深さ\n",
    "# - min_samples_split: 分割の対象となる最小データ数\n",
    "model = DecisionTreeRegressor(max_depth=2, min_samples_split=100)\n",
    "model.fit(X, Y)\n",
    "Y_predict = model.predict(X)\n",
    "print('MSE={:.3f}'.format(mean_squared_error(Y, Y_predict)))"
   ]
  },
  {
   "cell_type": "code",
   "execution_count": null,
   "metadata": {},
   "outputs": [],
   "source": [
    "# 作成した回帰木の描画\n",
    "plt.figure(figsize=(12, 10))\n",
    "plot_tree(model, feature_names=X.columns, filled=True)\n",
    "plt.show()"
   ]
  },
  {
   "cell_type": "code",
   "execution_count": null,
   "metadata": {},
   "outputs": [],
   "source": [
    "# 散布図上で領域に分割\n",
    "sns.scatterplot(x=df.Years, y=df.Hits)\n",
    "plt.plot([4.5, 4.5], [0, df.Hits.max()], color='orange')\n",
    "plt.plot([4.5, 25], [117.5, 117.5], color='orange')"
   ]
  },
  {
   "cell_type": "markdown",
   "metadata": {},
   "source": [
    "<img src='slides/8_38.png'>"
   ]
  }
 ],
 "metadata": {
  "kernelspec": {
   "display_name": "Python 3 (ipykernel)",
   "language": "python",
   "name": "python3"
  },
  "language_info": {
   "codemirror_mode": {
    "name": "ipython",
    "version": 3
   },
   "file_extension": ".py",
   "mimetype": "text/x-python",
   "name": "python",
   "nbconvert_exporter": "python",
   "pygments_lexer": "ipython3",
   "version": "3.8.11"
  }
 },
 "nbformat": 4,
 "nbformat_minor": 4
}
