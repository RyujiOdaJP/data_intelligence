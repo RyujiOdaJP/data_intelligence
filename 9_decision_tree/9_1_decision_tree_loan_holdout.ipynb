{
 "cells": [
  {
   "cell_type": "markdown",
   "metadata": {},
   "source": [
    "<img src=\"slides/8_30.png\">"
   ]
  },
  {
   "cell_type": "code",
   "execution_count": null,
   "metadata": {},
   "outputs": [],
   "source": [
    "import pandas as pd\n",
    "import numpy as np\n",
    "loan = pd.read_csv('data/loan_data.csv')\n",
    "\n",
    "# 使用しない列を削除\n",
    "df = loan.drop(['Unnamed: 0', 'status', 'loan_amnt', 'term', 'annual_inc', 'dti',\n",
    "                  'revol_bal', 'revol_util', 'purpose', 'home_ownership',\n",
    "                  'delinq_2yrs_zero', 'pub_rec_zero', 'open_acc', 'grade'], axis=1)\n",
    "\n",
    "# ダミー変数化\n",
    "df['outcome'] = df['outcome'].map(lambda x: 1 if x == 'default' else 0)\n",
    "df = pd.get_dummies(data=df)\n",
    "\n",
    "# 説明変数、目的変数を作成\n",
    "y = 'outcome'\n",
    "X = df.drop([y], axis=1)\n",
    "Y = df[y]"
   ]
  },
  {
   "cell_type": "markdown",
   "metadata": {},
   "source": [
    "### ホールドアウトにより予測精度を検証\n",
    "\n",
    "```train_test_split()``` によりデータセットを分割\n",
    "\n",
    "- ```test_size=0.3``` 30% をテストデータとして分割\n",
    "- ```X_train, X_test``` 教師データ\n",
    "- ```Y_train, Y_test``` テストデータ\n",
    "\n",
    "```model.fit(X_train, Y_train)```\n",
    "\n",
    "- 教師データで決定木を作成\n",
    "\n",
    "```Y_predict = model.predict(X_test)```<br>\n",
    "```Y_proba = model.predict_proba(X_test)```\n",
    "\n",
    "- テストデータで目的変数を予測"
   ]
  },
  {
   "cell_type": "code",
   "execution_count": null,
   "metadata": {},
   "outputs": [],
   "source": [
    "from sklearn.tree import DecisionTreeClassifier\n",
    "from sklearn.metrics import accuracy_score, precision_score, recall_score, roc_curve, auc\n",
    "from sklearn.model_selection import train_test_split\n",
    "\n",
    "def classify(depth):\n",
    "    # データを分割\n",
    "    X_train, X_test, Y_train, Y_test = train_test_split(X, Y, test_size=0.3)\n",
    "    # 決定木を作成\n",
    "    model = DecisionTreeClassifier(criterion='entropy', max_depth=depth)\n",
    "    model.fit(X_train, Y_train)\n",
    "\n",
    "    # 正確度、適合度、再現率（感度）、AUCの算出\n",
    "    Y_predict = model.predict(X_test)\n",
    "    Y_proba = model.predict_proba(X_test)\n",
    "    fpr, tpr, thresholds = roc_curve(Y_test, Y_proba[:, 1])\n",
    "    print('depth={:2}: 正確度={:.3f}, 適合度={:.3f}, 再現率={:.3f}, AUC={:.3f}'.format(\n",
    "        depth, accuracy_score(Y_test, Y_predict), precision_score(Y_test, Y_predict),\n",
    "        recall_score(Y_test, Y_predict), auc(fpr, tpr)))"
   ]
  },
  {
   "cell_type": "markdown",
   "metadata": {},
   "source": [
    "### 決定木の深さの数値を変更して実行\n",
    "\n",
    "2 から 16 未満まで値を変更しながら、決定木を作成し、精度、AUCを確認"
   ]
  },
  {
   "cell_type": "code",
   "execution_count": null,
   "metadata": {},
   "outputs": [],
   "source": [
    "for d in range(2, 16, 1):\n",
    "    classify(d)"
   ]
  },
  {
   "cell_type": "markdown",
   "metadata": {},
   "source": [
    "- max_depth=5~8 あたりでAUCは最大化\n",
    "- max_depth=10 以上でAUCは低下\n",
    "\n",
    "データセットの分割はランダムに行われるため常に同じ結果は出ない\n",
    "\n",
    "<hr>\n",
    "\n",
    "<img src=\"slides/8_31.png\">"
   ]
  }
 ],
 "metadata": {
  "kernelspec": {
   "display_name": "Python 3 (ipykernel)",
   "language": "python",
   "name": "python3"
  },
  "language_info": {
   "codemirror_mode": {
    "name": "ipython",
    "version": 3
   },
   "file_extension": ".py",
   "mimetype": "text/x-python",
   "name": "python",
   "nbconvert_exporter": "python",
   "pygments_lexer": "ipython3",
   "version": "3.8.11"
  }
 },
 "nbformat": 4,
 "nbformat_minor": 4
}
