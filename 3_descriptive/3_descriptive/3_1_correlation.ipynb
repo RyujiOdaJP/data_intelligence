{
 "cells": [
  {
   "cell_type": "markdown",
   "metadata": {},
   "source": [
    "<img src='slides/29.png'>"
   ]
  },
  {
   "cell_type": "code",
   "execution_count": null,
   "metadata": {},
   "outputs": [],
   "source": [
    "import seaborn as sns\n",
    "df = sns.load_dataset('iris')"
   ]
  },
  {
   "cell_type": "markdown",
   "metadata": {},
   "source": [
    "<img src='slides/cov.png'>"
   ]
  },
  {
   "cell_type": "code",
   "execution_count": null,
   "metadata": {},
   "outputs": [],
   "source": [
    "# 共分散\n",
    "df.cov()"
   ]
  },
  {
   "cell_type": "code",
   "execution_count": null,
   "metadata": {},
   "outputs": [],
   "source": [
    "# sepal_length, petal_length は正の相関\n",
    "sns.scatterplot(x='sepal_length', y='petal_length', data=df)"
   ]
  },
  {
   "cell_type": "code",
   "execution_count": null,
   "metadata": {},
   "outputs": [],
   "source": [
    "# sepal_width, petal_length は負の相関\n",
    "sns.scatterplot(x='sepal_width', y='petal_length', data=df)"
   ]
  },
  {
   "cell_type": "code",
   "execution_count": null,
   "metadata": {},
   "outputs": [],
   "source": [
    "# sepal_length, petal_length は正の相関\n",
    "ax = sns.scatterplot(x='sepal_length', y='petal_length', data=df)\n",
    "# 平均の線を引く\n",
    "x_min, x_max = ax.get_xlim()\n",
    "y_min, y_max = ax.get_ylim()\n",
    "ax.vlines(df.sepal_length.mean(), y_min, y_max, 'gray')\n",
    "ax.hlines(df.petal_length.mean(), x_min, x_max, 'gray')"
   ]
  },
  {
   "cell_type": "code",
   "execution_count": null,
   "metadata": {},
   "outputs": [],
   "source": [
    "# sepal_width, petal_length は負の相関\n",
    "ax = sns.scatterplot(x='sepal_width', y='petal_length', data=df)\n",
    "# 平均の線を引く\n",
    "x_min, x_max = ax.get_xlim()\n",
    "y_min, y_max = ax.get_ylim()\n",
    "ax.vlines(df.sepal_width.mean(), y_min, y_max, 'gray')\n",
    "ax.hlines(df.petal_length.mean(), x_min, x_max, 'gray')"
   ]
  },
  {
   "cell_type": "markdown",
   "metadata": {},
   "source": [
    "<img src='slides/corr.png'>"
   ]
  },
  {
   "cell_type": "code",
   "execution_count": null,
   "metadata": {},
   "outputs": [],
   "source": [
    "# 相関係数（相関行列）\n",
    "df.corr()"
   ]
  },
  {
   "cell_type": "code",
   "execution_count": null,
   "metadata": {},
   "outputs": [],
   "source": [
    "# petal_length, petal_width は強い相関\n",
    "ax = sns.scatterplot(x='petal_length', y='petal_width', data=df)\n",
    "# 平均の線を引く\n",
    "x_min, x_max = ax.get_xlim()\n",
    "y_min, y_max = ax.get_ylim()\n",
    "ax.vlines(df.petal_length.mean(), y_min, y_max, 'gray')\n",
    "ax.hlines(df.petal_width.mean(), x_min, x_max, 'gray')"
   ]
  },
  {
   "cell_type": "code",
   "execution_count": null,
   "metadata": {},
   "outputs": [],
   "source": [
    "# sepal_length, sepal_width は弱い相関\n",
    "ax = sns.scatterplot(x='sepal_length', y='sepal_width', data=df)\n",
    "# 平均の線を引く\n",
    "x_min, x_max = ax.get_xlim()\n",
    "y_min, y_max = ax.get_ylim()\n",
    "ax.vlines(df.sepal_length.mean(), y_min, y_max, 'gray')\n",
    "ax.hlines(df.sepal_width.mean(), x_min, x_max, 'gray')"
   ]
  },
  {
   "cell_type": "code",
   "execution_count": null,
   "metadata": {},
   "outputs": [],
   "source": []
  }
 ],
 "metadata": {
  "kernelspec": {
   "display_name": "Python 3 (ipykernel)",
   "language": "python",
   "name": "python3"
  },
  "language_info": {
   "codemirror_mode": {
    "name": "ipython",
    "version": 3
   },
   "file_extension": ".py",
   "mimetype": "text/x-python",
   "name": "python",
   "nbconvert_exporter": "python",
   "pygments_lexer": "ipython3",
   "version": "3.8.11"
  }
 },
 "nbformat": 4,
 "nbformat_minor": 4
}
