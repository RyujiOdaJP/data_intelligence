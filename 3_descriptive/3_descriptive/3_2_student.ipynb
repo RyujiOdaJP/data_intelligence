{
 "cells": [
  {
   "cell_type": "markdown",
   "metadata": {},
   "source": [
    "## 生徒の成績についてのデータセット\n",
    "\n",
    "データの取得\n",
    "http://archive.ics.uci.edu/ml/machine-learning-databases/00356/student.zip<br>\n",
    "データの説明\n",
    "https://books.google.co.jp/books?id=ksGlDwAAQBAJ&lpg=PP1&hl=ja&pg=PA76#v=onepage&q&f=false\n",
    "\n",
    "Zipファイルの内容\n",
    "- student-mat.csv\n",
    "- student-merge.R\n",
    "- student-por.csv\n",
    "- student.txt\n",
    "\n",
    "student-mat.csv の内容を確認\n",
    " - ; で区切られている\n",
    "\n",
    "```\n",
    "school;sex;age;address;famsize;Pstatus;Medu;Fedu;Mjob;Fjob;reason;guardian;traveltime;studytime;failures;schoolsup;famsup;paid;activities;nursery;higher;internet;romantic;famrel;freetime;goout;Dalc;Walc;health;absences;G1;G2;G3\n",
    "\"GP\";\"F\";18;\"U\";\"GT3\";\"A\";4;4;\"at_home\";\"teacher\";\"course\";\"mother\";2;2;0;\"yes\";\"no\";\"no\";\"no\";\"yes\";\"yes\";\"no\";\"no\";4;3;4;1;1;3;6;\"5\";\"6\";6\n",
    "```"
   ]
  },
  {
   "cell_type": "code",
   "execution_count": null,
   "metadata": {},
   "outputs": [],
   "source": [
    "# ファイルを読み込み pandas DataFrame 型に変換\n",
    "import pandas as pd\n",
    "df_math = pd.read_csv('data/student-mat.csv', sep=';')"
   ]
  },
  {
   "cell_type": "code",
   "execution_count": null,
   "metadata": {},
   "outputs": [],
   "source": [
    "# 内容を確認\n",
    "# - 先頭行から列名がついている\n",
    "df_math"
   ]
  },
  {
   "cell_type": "code",
   "execution_count": null,
   "metadata": {},
   "outputs": [],
   "source": [
    "# DataFrame の要約を表示\n",
    "df_math.info()"
   ]
  },
  {
   "cell_type": "code",
   "execution_count": null,
   "metadata": {
    "scrolled": true
   },
   "outputs": [],
   "source": [
    "# DataFrame の統計量をまとめて表示\n",
    "df_math.describe()"
   ]
  },
  {
   "cell_type": "markdown",
   "metadata": {},
   "source": [
    "## pandas の基本操作\n",
    "\n",
    "列への操作"
   ]
  },
  {
   "cell_type": "code",
   "execution_count": null,
   "metadata": {},
   "outputs": [],
   "source": [
    "# G1 列を取り出す\n",
    "# - df_math.G1 と書くこともできる\n",
    "df_math['G1']"
   ]
  },
  {
   "cell_type": "code",
   "execution_count": null,
   "metadata": {},
   "outputs": [],
   "source": [
    "# 'G1'列の0行\n",
    "df_math['G1'][0]"
   ]
  },
  {
   "cell_type": "code",
   "execution_count": null,
   "metadata": {},
   "outputs": [],
   "source": [
    "# G1, G2, G3 列のデータフレームを取り出す\n",
    "df_math[['G1', 'G2', 'G3']]"
   ]
  },
  {
   "cell_type": "code",
   "execution_count": null,
   "metadata": {},
   "outputs": [],
   "source": [
    "# 性別が女性 sex=='F' のG3列\n",
    "df_math.query(\"sex=='F'\")['G3']"
   ]
  },
  {
   "cell_type": "code",
   "execution_count": null,
   "metadata": {},
   "outputs": [],
   "source": [
    "# 列のラベル\n",
    "df_math.columns"
   ]
  },
  {
   "cell_type": "code",
   "execution_count": null,
   "metadata": {},
   "outputs": [],
   "source": [
    "# 列の削除\n",
    "# - axis=1 で列を削除することを指定\n",
    "# - inplace=True を指定すると、直接データフレームを処理する\n",
    "#   指定しないと、もとのデータフレームはそのままで、列が削除されたデータフレームが返される\n",
    "df_math.drop(labels='romantic', axis=1, inplace=True)\n",
    "df_math.columns"
   ]
  },
  {
   "cell_type": "code",
   "execution_count": null,
   "metadata": {},
   "outputs": [],
   "source": [
    "# 複数の列の削除\n",
    "df_math.drop(labels=['Dalc', 'Walc'], axis=1, inplace=True)\n",
    "df_math.columns"
   ]
  },
  {
   "cell_type": "code",
   "execution_count": null,
   "metadata": {},
   "outputs": [],
   "source": [
    "# 列のユニークな値\n",
    "df_math['sex'].unique()"
   ]
  },
  {
   "cell_type": "code",
   "execution_count": null,
   "metadata": {},
   "outputs": [],
   "source": [
    "# 全ての列のユニークな値\n",
    "for row in df_math.columns:\n",
    "    print(row, df_math[row].unique())"
   ]
  },
  {
   "cell_type": "code",
   "execution_count": null,
   "metadata": {},
   "outputs": [],
   "source": [
    "# 全ての列のユニークな値をソートして出力\n",
    "for row in df_math.columns:\n",
    "    val = df_math[row].unique()\n",
    "    val.sort()\n",
    "    print(row, val)"
   ]
  },
  {
   "cell_type": "code",
   "execution_count": null,
   "metadata": {},
   "outputs": [],
   "source": [
    "# 全ての列のユニークな値をdict型変数に保存\n",
    "# - sort() はもとのリストを破壊的に操作\n",
    "# - ソートされたリストを戻り値として欲しい場合は sorted()\n",
    "row_dict = {}\n",
    "\n",
    "for row in df_math.columns:\n",
    "    val = df_math[row].unique()\n",
    "    val.sort()\n",
    "    row_dict[row] = val\n",
    "\n",
    "row_dict"
   ]
  },
  {
   "cell_type": "code",
   "execution_count": null,
   "metadata": {},
   "outputs": [],
   "source": []
  }
 ],
 "metadata": {
  "interpreter": {
   "hash": "c566d3f6d11b3b72c85f78d5802c6417c6a5fa6f8b676aa5ba216734e2554534"
  },
  "kernelspec": {
   "display_name": "Python 3.8.11 64-bit ('base': conda)",
   "name": "python3"
  },
  "language_info": {
   "codemirror_mode": {
    "name": "ipython",
    "version": 3
   },
   "file_extension": ".py",
   "mimetype": "text/x-python",
   "name": "python",
   "nbconvert_exporter": "python",
   "pygments_lexer": "ipython3",
   "version": "3.8.11"
  }
 },
 "nbformat": 4,
 "nbformat_minor": 4
}
