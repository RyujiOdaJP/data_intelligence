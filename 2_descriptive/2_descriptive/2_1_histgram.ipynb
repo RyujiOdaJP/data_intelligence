{
 "cells": [
  {
   "cell_type": "markdown",
   "metadata": {},
   "source": [
    "## 可視化：ヒストグラム\n",
    "\n",
    "matplotlib は高機能なグラフ描画パッケージ\n",
    "- 高機能＝細かいところまで行き届く＝使いこなすのは難しい\n",
    "\n",
    "seaborn\n",
    "- matplotlib を使いやすくしたパッケージ\n",
    "- 簡単にきれい=お任せで使う=細かいところまで思い通りにするのは難しい"
   ]
  },
  {
   "cell_type": "code",
   "execution_count": null,
   "metadata": {},
   "outputs": [],
   "source": [
    "from matplotlib import pyplot as plt\n",
    "import seaborn as sns\n",
    "# seaborn の Iris データセットを使用\n",
    "df = sns.load_dataset('iris')"
   ]
  },
  {
   "cell_type": "code",
   "execution_count": null,
   "metadata": {},
   "outputs": [],
   "source": [
    "# データセットの内容を確認\n",
    "df"
   ]
  },
  {
   "cell_type": "code",
   "execution_count": null,
   "metadata": {},
   "outputs": [],
   "source": [
    "# 上の表示は、データが pandas （データ解析に便利なパッケージ）の DataFrame 型のため\n",
    "# - 今後 pandas を用いたデータ処理を多用\n",
    "type(df)"
   ]
  },
  {
   "cell_type": "code",
   "execution_count": null,
   "metadata": {},
   "outputs": [],
   "source": [
    "# histplot: ヒストグラムの描画\n",
    "# - data=df でデータを指定\n",
    "# 注意\n",
    "# - 本来 plt.show() しないとグラフは描画されない\n",
    "# - JupyterLab の場合はセルを抜ける時に自動的に描画\n",
    "sns.histplot(data=df)"
   ]
  },
  {
   "cell_type": "code",
   "execution_count": null,
   "metadata": {},
   "outputs": [],
   "source": [
    "# petal_length のヒストグラム\n",
    "# - x=df.petal_length でデータを指定\n",
    "sns.histplot(x=df.petal_length)"
   ]
  },
  {
   "cell_type": "code",
   "execution_count": null,
   "metadata": {},
   "outputs": [],
   "source": [
    "# petal_length のヒストグラム\n",
    "# - hue=df.species をオプションで指定することで、species ごとに色分けされる\n",
    "#   hue を指定する時には、x にデータを指定する必要がある\n",
    "sns.histplot(x=df.petal_length, hue=df.species)"
   ]
  },
  {
   "cell_type": "code",
   "execution_count": null,
   "metadata": {},
   "outputs": [],
   "source": [
    "import math\n",
    "# 階級数を求める sturges の公式\n",
    "# - データの数 n に対し log2(n) + 1 以上の最小整数\n",
    "def sturges(n):\n",
    "    return math.ceil(math.log2(n) + 1)\n",
    "\n",
    "for n in [len(df), len(df.query('species==\"setosa\"'))]:\n",
    "    print(n, sturges(n))"
   ]
  },
  {
   "cell_type": "code",
   "execution_count": null,
   "metadata": {},
   "outputs": [],
   "source": [
    "# 正確ではないが、各 species の階級数を sturges の公式の値に近づけるために\n",
    "# 3倍した値を階級数 (bins) に指定\n",
    "sns.histplot(x=df.petal_length, hue=df.species, bins=(sturges(len(df.query('species==\"setosa\"'))) * 3))"
   ]
  },
  {
   "cell_type": "code",
   "execution_count": null,
   "metadata": {},
   "outputs": [],
   "source": [
    "# species ごとにヒストグラムを描画して重ねる\n",
    "# - color: https://matplotlib.org/examples/color/named_colors.html\n",
    "# query('species==\"setosa\"') により species==\"setosa\" となる行だけを取り出す\n",
    "sns.histplot(df.query('species==\"setosa\"').petal_length, label='setosa', color='skyblue')\n",
    "sns.histplot(df.query('species==\"versicolor\"').petal_length, label='versicolor', color='orange')\n",
    "sns.histplot(df.query('species==\"virginica\"').petal_length, label='virginica', color='green')\n",
    "# 凡例の表示\n",
    "plt.legend()"
   ]
  },
  {
   "cell_type": "code",
   "execution_count": null,
   "metadata": {},
   "outputs": [],
   "source": [
    "# query とは別の書き方\n",
    "sns.histplot(df[df['species']=='setosa'].petal_length, label='setosa', color='skyblue')\n",
    "sns.histplot(df[df['species']=='versicolor'].petal_length, label='versicolor', color='orange')\n",
    "sns.histplot(df[df['species']=='virginica'].petal_length, label='virginica', color='green')\n",
    "plt.legend()"
   ]
  },
  {
   "cell_type": "code",
   "execution_count": null,
   "metadata": {},
   "outputs": [],
   "source": []
  }
 ],
 "metadata": {
  "kernelspec": {
   "display_name": "Python 3 (ipykernel)",
   "language": "python",
   "name": "python3"
  },
  "language_info": {
   "codemirror_mode": {
    "name": "ipython",
    "version": 3
   },
   "file_extension": ".py",
   "mimetype": "text/x-python",
   "name": "python",
   "nbconvert_exporter": "python",
   "pygments_lexer": "ipython3",
   "version": "3.8.11"
  }
 },
 "nbformat": 4,
 "nbformat_minor": 4
}
