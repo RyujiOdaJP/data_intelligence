{
 "cells": [
  {
   "cell_type": "markdown",
   "metadata": {},
   "source": [
    "## 可視化：ボックスプロット（箱ひげ図）\n",
    "\n",
    "値の分布状況を比較する\n",
    "- 分布のかたちまでは確認できないが、分布のひろがり、ばらつき具合はわかる"
   ]
  },
  {
   "cell_type": "code",
   "execution_count": null,
   "metadata": {},
   "outputs": [],
   "source": [
    "import seaborn as sns\n",
    "df = sns.load_dataset('iris')"
   ]
  },
  {
   "cell_type": "code",
   "execution_count": null,
   "metadata": {},
   "outputs": [],
   "source": [
    "df"
   ]
  },
  {
   "cell_type": "code",
   "execution_count": null,
   "metadata": {},
   "outputs": [],
   "source": [
    "# boxplot でボックスプロットを描画\n",
    "sns.boxplot(data=df)"
   ]
  },
  {
   "cell_type": "code",
   "execution_count": null,
   "metadata": {},
   "outputs": [],
   "source": [
    "# petal_length のボックスプロット\n",
    "# 横軸：species, 縦軸：petal_length\n",
    "sns.boxplot(x=df.species, y=df.petal_length)"
   ]
  },
  {
   "cell_type": "code",
   "execution_count": null,
   "metadata": {},
   "outputs": [],
   "source": [
    "# 上記の別の書き方\n",
    "# data=df でデータフレームを指定して、x, y でそのラベルを指定\n",
    "sns.boxplot(x='species', y='petal_length', data=df)"
   ]
  },
  {
   "cell_type": "code",
   "execution_count": null,
   "metadata": {},
   "outputs": [],
   "source": [
    "# matplotlib で書いたボックスプロット\n",
    "# - 細かい指定をしていないため、非常にシンプルな描画\n",
    "from matplotlib import pyplot as plt\n",
    "plt.boxplot([df.query('species==\"setosa\"').petal_length,\n",
    "             df.query('species==\"versicolor\"').petal_length,\n",
    "             df.query('species==\"virginica\"').petal_length])\n",
    "plt.xticks([i for i in range(4)], ['', \"setosa\", \"versicolor\", \"virginica\"])"
   ]
  },
  {
   "cell_type": "code",
   "execution_count": null,
   "metadata": {},
   "outputs": [],
   "source": []
  }
 ],
 "metadata": {
  "kernelspec": {
   "display_name": "Python 3 (ipykernel)",
   "language": "python",
   "name": "python3"
  },
  "language_info": {
   "codemirror_mode": {
    "name": "ipython",
    "version": 3
   },
   "file_extension": ".py",
   "mimetype": "text/x-python",
   "name": "python",
   "nbconvert_exporter": "python",
   "pygments_lexer": "ipython3",
   "version": "3.8.11"
  }
 },
 "nbformat": 4,
 "nbformat_minor": 4
}
